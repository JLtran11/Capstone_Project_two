{
 "cells": [
  {
   "cell_type": "code",
   "execution_count": 1,
   "metadata": {},
   "outputs": [],
   "source": [
    "#Import pacakges\n",
    "import json\n",
    "import pandas as pd\n",
    "import numpy as np\n",
    "import matplotlib.pyplot as plt\n",
    "import seaborn as sns\n",
    "import imblearn\n",
    "%matplotlib inline"
   ]
  },
  {
   "cell_type": "code",
   "execution_count": 2,
   "metadata": {},
   "outputs": [],
   "source": [
    "#open and load json file with feature selected columns\n",
    "with open('feats_list.json', 'r') as fp:\n",
    "    data = json.load(fp)"
   ]
  },
  {
   "cell_type": "code",
   "execution_count": 3,
   "metadata": {},
   "outputs": [
    {
     "data": {
      "text/plain": [
       "dict_keys(['filt_cols', 'rf_cols', 'all_cols'])"
      ]
     },
     "execution_count": 3,
     "metadata": {},
     "output_type": "execute_result"
    }
   ],
   "source": [
    "#Get key names\n",
    "data.keys()"
   ]
  },
  {
   "cell_type": "code",
   "execution_count": 4,
   "metadata": {},
   "outputs": [],
   "source": [
    "#create lists of columns for each filter selection method and all_cols\n",
    "fm_cols = data['filt_cols']\n",
    "rf_cols = data['rf_cols']\n",
    "all_cols = data['all_cols']"
   ]
  },
  {
   "cell_type": "code",
   "execution_count": 5,
   "metadata": {},
   "outputs": [
    {
     "name": "stderr",
     "output_type": "stream",
     "text": [
      "C:\\Users\\pseudo_bounce\\anaconda3\\lib\\site-packages\\IPython\\core\\interactiveshell.py:3063: DtypeWarning: Columns (135,204,274,417) have mixed types.Specify dtype option on import or set low_memory=False.\n",
      "  interactivity=interactivity, compiler=compiler, result=result)\n"
     ]
    }
   ],
   "source": [
    "#Load original data set\n",
    "df = pd.read_csv('C:\\\\Users\\\\pseudo_bounce\\\\Desktop\\\\recent_dl\\\\loan-default-prediction\\\\train.csv')"
   ]
  },
  {
   "cell_type": "code",
   "execution_count": 6,
   "metadata": {},
   "outputs": [],
   "source": [
    "#Drop mixed data type columns [135,204,274,417]\n",
    "drop_mix = list(df.columns[[135,204,274,417]])\n",
    "df.drop(drop_mix,axis=1,inplace=True)"
   ]
  },
  {
   "cell_type": "code",
   "execution_count": 7,
   "metadata": {},
   "outputs": [],
   "source": [
    "#Create binary variable from target column 'loss'\n",
    "#drop loss column\n",
    "df['default'] = df['loss'].apply(lambda x: 1 if x > 0 else x)\n",
    "df.drop('loss',axis=1,inplace=True)"
   ]
  },
  {
   "cell_type": "code",
   "execution_count": 8,
   "metadata": {},
   "outputs": [],
   "source": [
    "#create dataframes for all_cols and filter selection methods\n",
    "filt_cols = df[fm_cols]\n",
    "rf_cols = df[rf_cols]\n",
    "all_cols = df[all_cols]"
   ]
  },
  {
   "cell_type": "code",
   "execution_count": 9,
   "metadata": {},
   "outputs": [
    {
     "name": "stdout",
     "output_type": "stream",
     "text": [
      "all_cols df shape is: (105471, 751)\n",
      "Filter method df shape is: (105471, 53)\n",
      "Random forest method df shape is: (105471, 334)\n"
     ]
    }
   ],
   "source": [
    "print(f'all_cols df shape is: {all_cols.shape}')\n",
    "print(f'Filter method df shape is: {filt_cols.shape}')\n",
    "print(f'Random forest method df shape is: {rf_cols.shape}')"
   ]
  },
  {
   "cell_type": "code",
   "execution_count": 10,
   "metadata": {},
   "outputs": [],
   "source": [
    "#import necessary packages\n",
    "from sklearn.ensemble import RandomForestClassifier, AdaBoostClassifier\n",
    "from sklearn.linear_model import LogisticRegression\n",
    "from xgboost import XGBClassifier\n",
    "from sklearn.model_selection import train_test_split\n",
    "from sklearn.metrics import accuracy_score, classification_report, roc_auc_score, confusion_matrix, auc,roc_curve\n",
    "from sklearn.pipeline import Pipeline\n",
    "from sklearn.preprocessing import StandardScaler\n",
    "from sklearn.impute import SimpleImputer\n",
    "from sklearn.decomposition import PCA\n",
    "from sklearn.model_selection import RandomizedSearchCV"
   ]
  },
  {
   "cell_type": "markdown",
   "metadata": {},
   "source": [
    "### Making train/test splits\n",
    "We need to make 3 different train test splits, one for each feature selection method and one that retains all columns for the PCA pipeline."
   ]
  },
  {
   "cell_type": "code",
   "execution_count": 12,
   "metadata": {},
   "outputs": [
    {
     "name": "stdout",
     "output_type": "stream",
     "text": [
      "(84376, 52)\n",
      "(21095, 52)\n",
      "(84376,)\n",
      "(21095,)\n"
     ]
    }
   ],
   "source": [
    "#make train/test splits for filter feature selection method df\n",
    "\n",
    "X_filt_train, X_filt_test, y_filt_train, y_filt_test = train_test_split(filt_cols.drop('default',axis=1),\n",
    "                                                                        filt_cols['default'],\n",
    "                                                                        test_size = .20,random_state=11,\n",
    "                                                                        stratify = filt_cols['default'])\n",
    "\n",
    "print(X_filt_train.shape)\n",
    "print(X_filt_test.shape)\n",
    "print(y_filt_train.shape)\n",
    "print(y_filt_test.shape)"
   ]
  },
  {
   "cell_type": "code",
   "execution_count": 11,
   "metadata": {},
   "outputs": [
    {
     "name": "stdout",
     "output_type": "stream",
     "text": [
      "(84376, 333)\n",
      "(21095, 333)\n",
      "(84376,)\n",
      "(21095,)\n"
     ]
    }
   ],
   "source": [
    "#make train/test splits for rf feature selection method df\n",
    "\n",
    "X_rf_train, X_rf_test, y_rf_train, y_rf_test = train_test_split(rf_cols.drop('default',axis=1),\n",
    "                                                                        rf_cols['default'],\n",
    "                                                                        test_size = .20,random_state=11,\n",
    "                                                                        stratify = rf_cols['default'])\n",
    "\n",
    "print(X_rf_train.shape)\n",
    "print(X_rf_test.shape)\n",
    "print(y_rf_train.shape)\n",
    "print(y_rf_test.shape)"
   ]
  },
  {
   "cell_type": "code",
   "execution_count": 14,
   "metadata": {},
   "outputs": [
    {
     "name": "stdout",
     "output_type": "stream",
     "text": [
      "(84376, 750)\n",
      "(21095, 750)\n",
      "(84376,)\n",
      "(21095,)\n"
     ]
    }
   ],
   "source": [
    "#make train/test splits for entire df for dimension reduction\n",
    "\n",
    "X_all_train, X_all_test, y_all_train, y_all_test = train_test_split(all_cols.drop('default',axis=1),\n",
    "                                                                        all_cols['default'],\n",
    "                                                                        test_size = .20,random_state=11,\n",
    "                                                                        stratify = all_cols['default'])\n",
    "\n",
    "print(X_all_train.shape)\n",
    "print(X_all_test.shape)\n",
    "print(y_all_train.shape)\n",
    "print(y_all_test.shape)"
   ]
  },
  {
   "cell_type": "markdown",
   "metadata": {},
   "source": [
    "### Create pipeline for model\n",
    "Two pipelines will be created.  One pipeline for the ensemble and filter method features, and another for pass the entire data set through PCA."
   ]
  },
  {
   "cell_type": "code",
   "execution_count": 286,
   "metadata": {},
   "outputs": [],
   "source": [
    "# Create a pipeline for selected features\n",
    "pipes = Pipeline([('imputer', SimpleImputer(missing_values=np.nan, strategy='mean')),\n",
    "                  (\"classifier\", RandomForestClassifier())])"
   ]
  },
  {
   "cell_type": "code",
   "execution_count": 287,
   "metadata": {},
   "outputs": [],
   "source": [
    "# Create parameter grid for models and hyperparameters\n",
    "grid_param = [\n",
    "                {\"classifier\": [LogisticRegression()],\n",
    "                 \"classifier__penalty\": ['l2','l1'],\n",
    "                 \"classifier__C\": [100, 10, 1.0, 0.1, 0.01]\n",
    "                 },\n",
    "                {\"classifier\": [AdaBoostClassifier()],\n",
    "                 \"classifier__n_estimators\": [50,100,150,200],\n",
    "                 \"classifier__learning_rate\": np.arange(0,1,.01)\n",
    "                 },\n",
    "                {\"classifier\": [RandomForestClassifier()],\n",
    "                 \"classifier__n_estimators\": [10, 100, 1000],\n",
    "                 \"classifier__max_depth\":[5,10,15,25,30,None],\n",
    "                 \"classifier__min_samples_leaf\":[1,2,5,10,15,100],\n",
    "                 \"classifier__max_leaf_nodes\": [2, 5,10]}]"
   ]
  },
  {
   "cell_type": "code",
   "execution_count": 299,
   "metadata": {},
   "outputs": [],
   "source": [
    "# create a random_search of the pipeline, to find optimal the best model\n",
    "random_search_filt = RandomizedSearchCV(pipes, \n",
    "                                   param_distributions = grid_param, \n",
    "                                   cv=5, \n",
    "                                   verbose=0,\n",
    "                                   n_jobs=-1,\n",
    "                                   n_iter=25,\n",
    "                                   scoring='roc_auc')"
   ]
  },
  {
   "cell_type": "markdown",
   "metadata": {},
   "source": [
    "### Pipeline with filtered feature selection"
   ]
  },
  {
   "cell_type": "code",
   "execution_count": 300,
   "metadata": {},
   "outputs": [
    {
     "name": "stdout",
     "output_type": "stream",
     "text": [
      "Pipeline(steps=[('imputer', SimpleImputer()),\n",
      "                ('classifier',\n",
      "                 AdaBoostClassifier(learning_rate=0.56, n_estimators=200))])\n",
      "The AUC score of the model is: 0.6687976359532222\n",
      "Wall time: 22min 8s\n"
     ]
    }
   ],
   "source": [
    "%%time\n",
    "#Fit the random search object to the filtered features\n",
    "\n",
    "best_model_filt = random_search_filt.fit(X_filt_train,y_filt_train)\n",
    "print(best_model_filt.best_estimator_)\n",
    "print(\"The AUC score of the model is:\",best_model_filt.score(X_filt_test,y_filt_test))"
   ]
  },
  {
   "cell_type": "code",
   "execution_count": 301,
   "metadata": {},
   "outputs": [],
   "source": [
    "#Make class predictions on X_filt_test\n",
    "y_pred_filt = best_model_filt.best_estimator_.predict(X_filt_test)\n",
    "\n",
    "#Create classification report and convert to dataframe\n",
    "best_model_filt_report = classification_report(y_filt_test,y_pred_filt,output_dict=True)\n",
    "filt_feaures_report = pd.DataFrame(best_model_filt_report).transpose()"
   ]
  },
  {
   "cell_type": "code",
   "execution_count": 302,
   "metadata": {},
   "outputs": [
    {
     "data": {
      "text/html": [
       "<div>\n",
       "<style scoped>\n",
       "    .dataframe tbody tr th:only-of-type {\n",
       "        vertical-align: middle;\n",
       "    }\n",
       "\n",
       "    .dataframe tbody tr th {\n",
       "        vertical-align: top;\n",
       "    }\n",
       "\n",
       "    .dataframe thead th {\n",
       "        text-align: right;\n",
       "    }\n",
       "</style>\n",
       "<table border=\"1\" class=\"dataframe\">\n",
       "  <thead>\n",
       "    <tr style=\"text-align: right;\">\n",
       "      <th></th>\n",
       "      <th>precision</th>\n",
       "      <th>recall</th>\n",
       "      <th>f1-score</th>\n",
       "      <th>support</th>\n",
       "    </tr>\n",
       "  </thead>\n",
       "  <tbody>\n",
       "    <tr>\n",
       "      <th>0</th>\n",
       "      <td>0.907508</td>\n",
       "      <td>0.999739</td>\n",
       "      <td>0.951394</td>\n",
       "      <td>19138.000000</td>\n",
       "    </tr>\n",
       "    <tr>\n",
       "      <th>1</th>\n",
       "      <td>0.583333</td>\n",
       "      <td>0.003577</td>\n",
       "      <td>0.007110</td>\n",
       "      <td>1957.000000</td>\n",
       "    </tr>\n",
       "    <tr>\n",
       "      <th>accuracy</th>\n",
       "      <td>0.907324</td>\n",
       "      <td>0.907324</td>\n",
       "      <td>0.907324</td>\n",
       "      <td>0.907324</td>\n",
       "    </tr>\n",
       "    <tr>\n",
       "      <th>macro avg</th>\n",
       "      <td>0.745421</td>\n",
       "      <td>0.501658</td>\n",
       "      <td>0.479252</td>\n",
       "      <td>21095.000000</td>\n",
       "    </tr>\n",
       "    <tr>\n",
       "      <th>weighted avg</th>\n",
       "      <td>0.877434</td>\n",
       "      <td>0.907324</td>\n",
       "      <td>0.863792</td>\n",
       "      <td>21095.000000</td>\n",
       "    </tr>\n",
       "  </tbody>\n",
       "</table>\n",
       "</div>"
      ],
      "text/plain": [
       "              precision    recall  f1-score       support\n",
       "0              0.907508  0.999739  0.951394  19138.000000\n",
       "1              0.583333  0.003577  0.007110   1957.000000\n",
       "accuracy       0.907324  0.907324  0.907324      0.907324\n",
       "macro avg      0.745421  0.501658  0.479252  21095.000000\n",
       "weighted avg   0.877434  0.907324  0.863792  21095.000000"
      ]
     },
     "execution_count": 302,
     "metadata": {},
     "output_type": "execute_result"
    }
   ],
   "source": [
    "filt_feaures_report"
   ]
  },
  {
   "cell_type": "code",
   "execution_count": 303,
   "metadata": {},
   "outputs": [
    {
     "data": {
      "text/plain": [
       "array([[19133,     5],\n",
       "       [ 1950,     7]], dtype=int64)"
      ]
     },
     "execution_count": 303,
     "metadata": {},
     "output_type": "execute_result"
    }
   ],
   "source": [
    "#print confusion matrix\n",
    "confusion_matrix(y_filt_test,y_pred_filt)"
   ]
  },
  {
   "cell_type": "code",
   "execution_count": 304,
   "metadata": {},
   "outputs": [
    {
     "name": "stdout",
     "output_type": "stream",
     "text": [
      "The AUC score of the training data is: 0.6972954627284522\n",
      "The AUC score of the tesing data is: 0.6687976359532222\n"
     ]
    }
   ],
   "source": [
    "print(\"The AUC score of the training data is:\",best_model_filt.score(X_filt_train,y_filt_train))\n",
    "print(\"The AUC score of the tesing data is:\",best_model_filt.score(X_filt_test,y_filt_test))"
   ]
  },
  {
   "cell_type": "code",
   "execution_count": 305,
   "metadata": {},
   "outputs": [],
   "source": [
    "# obtain class probabilities on X_filt_test\n",
    "y_pred_filt_probs = best_model_filt.best_estimator_.predict_proba(X_filt_test)"
   ]
  },
  {
   "cell_type": "code",
   "execution_count": 306,
   "metadata": {},
   "outputs": [],
   "source": [
    "filt_preds = y_pred_filt_probs[:,1]"
   ]
  },
  {
   "cell_type": "code",
   "execution_count": 307,
   "metadata": {},
   "outputs": [
    {
     "data": {
      "image/png": "[encoded data removed]",
      "text/plain": [
       "<Figure size 432x288 with 1 Axes>"
      ]
     },
     "metadata": {
      "needs_background": "light"
     },
     "output_type": "display_data"
    }
   ],
   "source": [
    "fpr, tpr, threshold = roc_curve(y_filt_test, filt_preds)\n",
    "roc_auc = auc(fpr, tpr)\n",
    "\n",
    "plt.title('ROC Curve Filtered Features: Best Model ADAboost')\n",
    "plt.plot(fpr, tpr, 'b', label = 'AUC = %0.2f' % roc_auc)\n",
    "plt.legend(loc = 'lower right')\n",
    "plt.plot([0, 1], [0, 1],'r--')\n",
    "plt.xlim([0, 1])\n",
    "plt.ylim([0, 1])\n",
    "plt.ylabel('True Positive Rate')\n",
    "plt.xlabel('False Positive Rate')\n",
    "plt.show()"
   ]
  },
  {
   "cell_type": "code",
   "execution_count": 308,
   "metadata": {},
   "outputs": [
    {
     "data": {
      "text/html": [
       "<div>\n",
       "<style scoped>\n",
       "    .dataframe tbody tr th:only-of-type {\n",
       "        vertical-align: middle;\n",
       "    }\n",
       "\n",
       "    .dataframe tbody tr th {\n",
       "        vertical-align: top;\n",
       "    }\n",
       "\n",
       "    .dataframe thead th {\n",
       "        text-align: right;\n",
       "    }\n",
       "</style>\n",
       "<table border=\"1\" class=\"dataframe\">\n",
       "  <thead>\n",
       "    <tr style=\"text-align: right;\">\n",
       "      <th></th>\n",
       "      <th>mean_fit_time</th>\n",
       "      <th>std_fit_time</th>\n",
       "      <th>mean_score_time</th>\n",
       "      <th>std_score_time</th>\n",
       "      <th>param_classifier__n_estimators</th>\n",
       "      <th>param_classifier__learning_rate</th>\n",
       "      <th>param_classifier</th>\n",
       "      <th>param_classifier__min_samples_leaf</th>\n",
       "      <th>param_classifier__max_leaf_nodes</th>\n",
       "      <th>param_classifier__max_depth</th>\n",
       "      <th>params</th>\n",
       "      <th>split0_test_score</th>\n",
       "      <th>split1_test_score</th>\n",
       "      <th>split2_test_score</th>\n",
       "      <th>split3_test_score</th>\n",
       "      <th>split4_test_score</th>\n",
       "      <th>mean_test_score</th>\n",
       "      <th>std_test_score</th>\n",
       "      <th>rank_test_score</th>\n",
       "    </tr>\n",
       "  </thead>\n",
       "  <tbody>\n",
       "    <tr>\n",
       "      <th>0</th>\n",
       "      <td>125.330744</td>\n",
       "      <td>0.453082</td>\n",
       "      <td>2.588610</td>\n",
       "      <td>0.030937</td>\n",
       "      <td>200</td>\n",
       "      <td>0.56</td>\n",
       "      <td>AdaBoostClassifier(learning_rate=0.56, n_estim...</td>\n",
       "      <td>NaN</td>\n",
       "      <td>NaN</td>\n",
       "      <td>NaN</td>\n",
       "      <td>{'classifier__n_estimators': 200, 'classifier_...</td>\n",
       "      <td>0.674219</td>\n",
       "      <td>0.680815</td>\n",
       "      <td>0.677015</td>\n",
       "      <td>0.661082</td>\n",
       "      <td>0.693740</td>\n",
       "      <td>0.677374</td>\n",
       "      <td>0.010537</td>\n",
       "      <td>1</td>\n",
       "    </tr>\n",
       "    <tr>\n",
       "      <th>1</th>\n",
       "      <td>88.629118</td>\n",
       "      <td>2.354603</td>\n",
       "      <td>1.751338</td>\n",
       "      <td>0.033743</td>\n",
       "      <td>150</td>\n",
       "      <td>0.46</td>\n",
       "      <td>AdaBoostClassifier(learning_rate=0.56, n_estim...</td>\n",
       "      <td>NaN</td>\n",
       "      <td>NaN</td>\n",
       "      <td>NaN</td>\n",
       "      <td>{'classifier__n_estimators': 150, 'classifier_...</td>\n",
       "      <td>0.674952</td>\n",
       "      <td>0.679869</td>\n",
       "      <td>0.674788</td>\n",
       "      <td>0.660938</td>\n",
       "      <td>0.693275</td>\n",
       "      <td>0.676765</td>\n",
       "      <td>0.010392</td>\n",
       "      <td>2</td>\n",
       "    </tr>\n",
       "    <tr>\n",
       "      <th>2</th>\n",
       "      <td>124.855184</td>\n",
       "      <td>0.671601</td>\n",
       "      <td>2.582983</td>\n",
       "      <td>0.049506</td>\n",
       "      <td>200</td>\n",
       "      <td>0.65</td>\n",
       "      <td>AdaBoostClassifier(learning_rate=0.56, n_estim...</td>\n",
       "      <td>NaN</td>\n",
       "      <td>NaN</td>\n",
       "      <td>NaN</td>\n",
       "      <td>{'classifier__n_estimators': 200, 'classifier_...</td>\n",
       "      <td>0.673747</td>\n",
       "      <td>0.680396</td>\n",
       "      <td>0.676336</td>\n",
       "      <td>0.659804</td>\n",
       "      <td>0.693210</td>\n",
       "      <td>0.676699</td>\n",
       "      <td>0.010776</td>\n",
       "      <td>3</td>\n",
       "    </tr>\n",
       "    <tr>\n",
       "      <th>3</th>\n",
       "      <td>91.416373</td>\n",
       "      <td>1.033403</td>\n",
       "      <td>1.777462</td>\n",
       "      <td>0.137278</td>\n",
       "      <td>150</td>\n",
       "      <td>0.44</td>\n",
       "      <td>AdaBoostClassifier(learning_rate=0.56, n_estim...</td>\n",
       "      <td>NaN</td>\n",
       "      <td>NaN</td>\n",
       "      <td>NaN</td>\n",
       "      <td>{'classifier__n_estimators': 150, 'classifier_...</td>\n",
       "      <td>0.675508</td>\n",
       "      <td>0.678879</td>\n",
       "      <td>0.674384</td>\n",
       "      <td>0.661392</td>\n",
       "      <td>0.692209</td>\n",
       "      <td>0.676474</td>\n",
       "      <td>0.009861</td>\n",
       "      <td>4</td>\n",
       "    </tr>\n",
       "    <tr>\n",
       "      <th>4</th>\n",
       "      <td>126.374106</td>\n",
       "      <td>1.534713</td>\n",
       "      <td>2.577827</td>\n",
       "      <td>0.049487</td>\n",
       "      <td>200</td>\n",
       "      <td>0.71</td>\n",
       "      <td>AdaBoostClassifier(learning_rate=0.56, n_estim...</td>\n",
       "      <td>NaN</td>\n",
       "      <td>NaN</td>\n",
       "      <td>NaN</td>\n",
       "      <td>{'classifier__n_estimators': 200, 'classifier_...</td>\n",
       "      <td>0.672366</td>\n",
       "      <td>0.680715</td>\n",
       "      <td>0.676109</td>\n",
       "      <td>0.659554</td>\n",
       "      <td>0.693479</td>\n",
       "      <td>0.676445</td>\n",
       "      <td>0.011049</td>\n",
       "      <td>5</td>\n",
       "    </tr>\n",
       "    <tr>\n",
       "      <th>5</th>\n",
       "      <td>62.314407</td>\n",
       "      <td>1.631823</td>\n",
       "      <td>1.316936</td>\n",
       "      <td>0.025000</td>\n",
       "      <td>100</td>\n",
       "      <td>0.19</td>\n",
       "      <td>AdaBoostClassifier(learning_rate=0.56, n_estim...</td>\n",
       "      <td>NaN</td>\n",
       "      <td>NaN</td>\n",
       "      <td>NaN</td>\n",
       "      <td>{'classifier__n_estimators': 100, 'classifier_...</td>\n",
       "      <td>0.672087</td>\n",
       "      <td>0.674974</td>\n",
       "      <td>0.668030</td>\n",
       "      <td>0.659470</td>\n",
       "      <td>0.689554</td>\n",
       "      <td>0.672823</td>\n",
       "      <td>0.009863</td>\n",
       "      <td>6</td>\n",
       "    </tr>\n",
       "    <tr>\n",
       "      <th>6</th>\n",
       "      <td>32.234713</td>\n",
       "      <td>0.452717</td>\n",
       "      <td>0.687545</td>\n",
       "      <td>0.013492</td>\n",
       "      <td>50</td>\n",
       "      <td>0.92</td>\n",
       "      <td>AdaBoostClassifier(learning_rate=0.56, n_estim...</td>\n",
       "      <td>NaN</td>\n",
       "      <td>NaN</td>\n",
       "      <td>NaN</td>\n",
       "      <td>{'classifier__n_estimators': 50, 'classifier__...</td>\n",
       "      <td>0.666901</td>\n",
       "      <td>0.675466</td>\n",
       "      <td>0.668330</td>\n",
       "      <td>0.660653</td>\n",
       "      <td>0.685760</td>\n",
       "      <td>0.671422</td>\n",
       "      <td>0.008578</td>\n",
       "      <td>7</td>\n",
       "    </tr>\n",
       "    <tr>\n",
       "      <th>7</th>\n",
       "      <td>63.169675</td>\n",
       "      <td>0.717867</td>\n",
       "      <td>1.269960</td>\n",
       "      <td>0.051950</td>\n",
       "      <td>100</td>\n",
       "      <td>0.12</td>\n",
       "      <td>AdaBoostClassifier(learning_rate=0.56, n_estim...</td>\n",
       "      <td>NaN</td>\n",
       "      <td>NaN</td>\n",
       "      <td>NaN</td>\n",
       "      <td>{'classifier__n_estimators': 100, 'classifier_...</td>\n",
       "      <td>0.667788</td>\n",
       "      <td>0.668830</td>\n",
       "      <td>0.663368</td>\n",
       "      <td>0.655882</td>\n",
       "      <td>0.685668</td>\n",
       "      <td>0.668307</td>\n",
       "      <td>0.009805</td>\n",
       "      <td>8</td>\n",
       "    </tr>\n",
       "    <tr>\n",
       "      <th>8</th>\n",
       "      <td>31.305761</td>\n",
       "      <td>0.745146</td>\n",
       "      <td>0.677913</td>\n",
       "      <td>0.071344</td>\n",
       "      <td>50</td>\n",
       "      <td>0.25</td>\n",
       "      <td>AdaBoostClassifier(learning_rate=0.56, n_estim...</td>\n",
       "      <td>NaN</td>\n",
       "      <td>NaN</td>\n",
       "      <td>NaN</td>\n",
       "      <td>{'classifier__n_estimators': 50, 'classifier__...</td>\n",
       "      <td>0.667340</td>\n",
       "      <td>0.668831</td>\n",
       "      <td>0.661862</td>\n",
       "      <td>0.655519</td>\n",
       "      <td>0.684568</td>\n",
       "      <td>0.667624</td>\n",
       "      <td>0.009679</td>\n",
       "      <td>9</td>\n",
       "    </tr>\n",
       "    <tr>\n",
       "      <th>9</th>\n",
       "      <td>32.093599</td>\n",
       "      <td>0.601151</td>\n",
       "      <td>0.696953</td>\n",
       "      <td>0.038145</td>\n",
       "      <td>50</td>\n",
       "      <td>0.2</td>\n",
       "      <td>AdaBoostClassifier(learning_rate=0.56, n_estim...</td>\n",
       "      <td>NaN</td>\n",
       "      <td>NaN</td>\n",
       "      <td>NaN</td>\n",
       "      <td>{'classifier__n_estimators': 50, 'classifier__...</td>\n",
       "      <td>0.664200</td>\n",
       "      <td>0.665775</td>\n",
       "      <td>0.660113</td>\n",
       "      <td>0.653723</td>\n",
       "      <td>0.682097</td>\n",
       "      <td>0.665182</td>\n",
       "      <td>0.009428</td>\n",
       "      <td>10</td>\n",
       "    </tr>\n",
       "    <tr>\n",
       "      <th>10</th>\n",
       "      <td>93.190354</td>\n",
       "      <td>1.709908</td>\n",
       "      <td>1.858511</td>\n",
       "      <td>0.091530</td>\n",
       "      <td>150</td>\n",
       "      <td>0.04</td>\n",
       "      <td>AdaBoostClassifier(learning_rate=0.56, n_estim...</td>\n",
       "      <td>NaN</td>\n",
       "      <td>NaN</td>\n",
       "      <td>NaN</td>\n",
       "      <td>{'classifier__n_estimators': 150, 'classifier_...</td>\n",
       "      <td>0.658233</td>\n",
       "      <td>0.660344</td>\n",
       "      <td>0.658116</td>\n",
       "      <td>0.649763</td>\n",
       "      <td>0.679898</td>\n",
       "      <td>0.661271</td>\n",
       "      <td>0.009994</td>\n",
       "      <td>11</td>\n",
       "    </tr>\n",
       "    <tr>\n",
       "      <th>11</th>\n",
       "      <td>92.037919</td>\n",
       "      <td>1.355361</td>\n",
       "      <td>1.869668</td>\n",
       "      <td>0.062595</td>\n",
       "      <td>150</td>\n",
       "      <td>0.03</td>\n",
       "      <td>AdaBoostClassifier(learning_rate=0.56, n_estim...</td>\n",
       "      <td>NaN</td>\n",
       "      <td>NaN</td>\n",
       "      <td>NaN</td>\n",
       "      <td>{'classifier__n_estimators': 150, 'classifier_...</td>\n",
       "      <td>0.652942</td>\n",
       "      <td>0.656064</td>\n",
       "      <td>0.655037</td>\n",
       "      <td>0.645558</td>\n",
       "      <td>0.675594</td>\n",
       "      <td>0.657039</td>\n",
       "      <td>0.009979</td>\n",
       "      <td>12</td>\n",
       "    </tr>\n",
       "    <tr>\n",
       "      <th>12</th>\n",
       "      <td>31.500464</td>\n",
       "      <td>0.265703</td>\n",
       "      <td>0.670016</td>\n",
       "      <td>0.012657</td>\n",
       "      <td>50</td>\n",
       "      <td>0.08</td>\n",
       "      <td>AdaBoostClassifier(learning_rate=0.56, n_estim...</td>\n",
       "      <td>NaN</td>\n",
       "      <td>NaN</td>\n",
       "      <td>NaN</td>\n",
       "      <td>{'classifier__n_estimators': 50, 'classifier__...</td>\n",
       "      <td>0.650730</td>\n",
       "      <td>0.654622</td>\n",
       "      <td>0.653580</td>\n",
       "      <td>0.643742</td>\n",
       "      <td>0.673464</td>\n",
       "      <td>0.655228</td>\n",
       "      <td>0.009877</td>\n",
       "      <td>13</td>\n",
       "    </tr>\n",
       "    <tr>\n",
       "      <th>13</th>\n",
       "      <td>2.863718</td>\n",
       "      <td>0.076320</td>\n",
       "      <td>0.092506</td>\n",
       "      <td>0.003084</td>\n",
       "      <td>10</td>\n",
       "      <td>NaN</td>\n",
       "      <td>RandomForestClassifier()</td>\n",
       "      <td>2</td>\n",
       "      <td>10</td>\n",
       "      <td>None</td>\n",
       "      <td>{'classifier__n_estimators': 10, 'classifier__...</td>\n",
       "      <td>0.649986</td>\n",
       "      <td>0.655020</td>\n",
       "      <td>0.647509</td>\n",
       "      <td>0.638212</td>\n",
       "      <td>0.674762</td>\n",
       "      <td>0.653098</td>\n",
       "      <td>0.012129</td>\n",
       "      <td>14</td>\n",
       "    </tr>\n",
       "    <tr>\n",
       "      <th>14</th>\n",
       "      <td>182.588538</td>\n",
       "      <td>3.525612</td>\n",
       "      <td>2.698134</td>\n",
       "      <td>0.345922</td>\n",
       "      <td>1000</td>\n",
       "      <td>NaN</td>\n",
       "      <td>RandomForestClassifier()</td>\n",
       "      <td>5</td>\n",
       "      <td>5</td>\n",
       "      <td>10</td>\n",
       "      <td>{'classifier__n_estimators': 1000, 'classifier...</td>\n",
       "      <td>0.647619</td>\n",
       "      <td>0.652680</td>\n",
       "      <td>0.650059</td>\n",
       "      <td>0.637188</td>\n",
       "      <td>0.674523</td>\n",
       "      <td>0.652414</td>\n",
       "      <td>0.012241</td>\n",
       "      <td>15</td>\n",
       "    </tr>\n",
       "    <tr>\n",
       "      <th>15</th>\n",
       "      <td>185.865532</td>\n",
       "      <td>2.339308</td>\n",
       "      <td>2.983540</td>\n",
       "      <td>0.119547</td>\n",
       "      <td>1000</td>\n",
       "      <td>NaN</td>\n",
       "      <td>RandomForestClassifier()</td>\n",
       "      <td>1</td>\n",
       "      <td>5</td>\n",
       "      <td>25</td>\n",
       "      <td>{'classifier__n_estimators': 1000, 'classifier...</td>\n",
       "      <td>0.647246</td>\n",
       "      <td>0.653305</td>\n",
       "      <td>0.650571</td>\n",
       "      <td>0.635984</td>\n",
       "      <td>0.673952</td>\n",
       "      <td>0.652212</td>\n",
       "      <td>0.012366</td>\n",
       "      <td>16</td>\n",
       "    </tr>\n",
       "    <tr>\n",
       "      <th>16</th>\n",
       "      <td>181.933495</td>\n",
       "      <td>2.125990</td>\n",
       "      <td>2.827339</td>\n",
       "      <td>0.110157</td>\n",
       "      <td>1000</td>\n",
       "      <td>NaN</td>\n",
       "      <td>RandomForestClassifier()</td>\n",
       "      <td>1</td>\n",
       "      <td>5</td>\n",
       "      <td>30</td>\n",
       "      <td>{'classifier__n_estimators': 1000, 'classifier...</td>\n",
       "      <td>0.646551</td>\n",
       "      <td>0.653188</td>\n",
       "      <td>0.649944</td>\n",
       "      <td>0.636855</td>\n",
       "      <td>0.674437</td>\n",
       "      <td>0.652195</td>\n",
       "      <td>0.012393</td>\n",
       "      <td>17</td>\n",
       "    </tr>\n",
       "    <tr>\n",
       "      <th>17</th>\n",
       "      <td>2.771169</td>\n",
       "      <td>0.071063</td>\n",
       "      <td>0.082871</td>\n",
       "      <td>0.009643</td>\n",
       "      <td>10</td>\n",
       "      <td>NaN</td>\n",
       "      <td>RandomForestClassifier()</td>\n",
       "      <td>100</td>\n",
       "      <td>10</td>\n",
       "      <td>30</td>\n",
       "      <td>{'classifier__n_estimators': 10, 'classifier__...</td>\n",
       "      <td>0.644764</td>\n",
       "      <td>0.656459</td>\n",
       "      <td>0.648724</td>\n",
       "      <td>0.636287</td>\n",
       "      <td>0.674571</td>\n",
       "      <td>0.652161</td>\n",
       "      <td>0.012955</td>\n",
       "      <td>18</td>\n",
       "    </tr>\n",
       "    <tr>\n",
       "      <th>18</th>\n",
       "      <td>186.092536</td>\n",
       "      <td>1.742797</td>\n",
       "      <td>2.736445</td>\n",
       "      <td>0.115154</td>\n",
       "      <td>1000</td>\n",
       "      <td>NaN</td>\n",
       "      <td>RandomForestClassifier()</td>\n",
       "      <td>15</td>\n",
       "      <td>5</td>\n",
       "      <td>25</td>\n",
       "      <td>{'classifier__n_estimators': 1000, 'classifier...</td>\n",
       "      <td>0.647484</td>\n",
       "      <td>0.653086</td>\n",
       "      <td>0.650086</td>\n",
       "      <td>0.636080</td>\n",
       "      <td>0.673732</td>\n",
       "      <td>0.652093</td>\n",
       "      <td>0.012255</td>\n",
       "      <td>19</td>\n",
       "    </tr>\n",
       "    <tr>\n",
       "      <th>19</th>\n",
       "      <td>2.269729</td>\n",
       "      <td>0.038961</td>\n",
       "      <td>0.092531</td>\n",
       "      <td>0.007266</td>\n",
       "      <td>10</td>\n",
       "      <td>NaN</td>\n",
       "      <td>RandomForestClassifier()</td>\n",
       "      <td>2</td>\n",
       "      <td>5</td>\n",
       "      <td>25</td>\n",
       "      <td>{'classifier__n_estimators': 10, 'classifier__...</td>\n",
       "      <td>0.647046</td>\n",
       "      <td>0.647029</td>\n",
       "      <td>0.642337</td>\n",
       "      <td>0.634401</td>\n",
       "      <td>0.669123</td>\n",
       "      <td>0.647987</td>\n",
       "      <td>0.011533</td>\n",
       "      <td>20</td>\n",
       "    </tr>\n",
       "    <tr>\n",
       "      <th>20</th>\n",
       "      <td>2.312419</td>\n",
       "      <td>0.032256</td>\n",
       "      <td>0.090889</td>\n",
       "      <td>0.002505</td>\n",
       "      <td>10</td>\n",
       "      <td>NaN</td>\n",
       "      <td>RandomForestClassifier()</td>\n",
       "      <td>15</td>\n",
       "      <td>5</td>\n",
       "      <td>15</td>\n",
       "      <td>{'classifier__n_estimators': 10, 'classifier__...</td>\n",
       "      <td>0.640139</td>\n",
       "      <td>0.645303</td>\n",
       "      <td>0.642066</td>\n",
       "      <td>0.635094</td>\n",
       "      <td>0.668176</td>\n",
       "      <td>0.646156</td>\n",
       "      <td>0.011497</td>\n",
       "      <td>21</td>\n",
       "    </tr>\n",
       "    <tr>\n",
       "      <th>21</th>\n",
       "      <td>2.259773</td>\n",
       "      <td>0.047203</td>\n",
       "      <td>0.084287</td>\n",
       "      <td>0.001959</td>\n",
       "      <td>10</td>\n",
       "      <td>NaN</td>\n",
       "      <td>RandomForestClassifier()</td>\n",
       "      <td>10</td>\n",
       "      <td>5</td>\n",
       "      <td>10</td>\n",
       "      <td>{'classifier__n_estimators': 10, 'classifier__...</td>\n",
       "      <td>0.637624</td>\n",
       "      <td>0.642099</td>\n",
       "      <td>0.644130</td>\n",
       "      <td>0.634543</td>\n",
       "      <td>0.668708</td>\n",
       "      <td>0.645421</td>\n",
       "      <td>0.012117</td>\n",
       "      <td>22</td>\n",
       "    </tr>\n",
       "    <tr>\n",
       "      <th>22</th>\n",
       "      <td>2.081966</td>\n",
       "      <td>0.237739</td>\n",
       "      <td>0.079791</td>\n",
       "      <td>0.012746</td>\n",
       "      <td>10</td>\n",
       "      <td>NaN</td>\n",
       "      <td>RandomForestClassifier()</td>\n",
       "      <td>100</td>\n",
       "      <td>5</td>\n",
       "      <td>10</td>\n",
       "      <td>{'classifier__n_estimators': 10, 'classifier__...</td>\n",
       "      <td>0.641068</td>\n",
       "      <td>0.646559</td>\n",
       "      <td>0.636722</td>\n",
       "      <td>0.631500</td>\n",
       "      <td>0.664351</td>\n",
       "      <td>0.644040</td>\n",
       "      <td>0.011301</td>\n",
       "      <td>23</td>\n",
       "    </tr>\n",
       "    <tr>\n",
       "      <th>23</th>\n",
       "      <td>12.444148</td>\n",
       "      <td>0.256029</td>\n",
       "      <td>0.287500</td>\n",
       "      <td>0.022537</td>\n",
       "      <td>100</td>\n",
       "      <td>NaN</td>\n",
       "      <td>RandomForestClassifier()</td>\n",
       "      <td>10</td>\n",
       "      <td>2</td>\n",
       "      <td>30</td>\n",
       "      <td>{'classifier__n_estimators': 100, 'classifier_...</td>\n",
       "      <td>0.639516</td>\n",
       "      <td>0.641988</td>\n",
       "      <td>0.638891</td>\n",
       "      <td>0.628913</td>\n",
       "      <td>0.660481</td>\n",
       "      <td>0.641958</td>\n",
       "      <td>0.010283</td>\n",
       "      <td>24</td>\n",
       "    </tr>\n",
       "    <tr>\n",
       "      <th>24</th>\n",
       "      <td>119.502907</td>\n",
       "      <td>1.772782</td>\n",
       "      <td>2.581386</td>\n",
       "      <td>0.013558</td>\n",
       "      <td>1000</td>\n",
       "      <td>NaN</td>\n",
       "      <td>RandomForestClassifier()</td>\n",
       "      <td>2</td>\n",
       "      <td>2</td>\n",
       "      <td>10</td>\n",
       "      <td>{'classifier__n_estimators': 1000, 'classifier...</td>\n",
       "      <td>0.636989</td>\n",
       "      <td>0.640288</td>\n",
       "      <td>0.642883</td>\n",
       "      <td>0.628831</td>\n",
       "      <td>0.659537</td>\n",
       "      <td>0.641705</td>\n",
       "      <td>0.010093</td>\n",
       "      <td>25</td>\n",
       "    </tr>\n",
       "  </tbody>\n",
       "</table>\n",
       "</div>"
      ],
      "text/plain": [
       "    mean_fit_time  std_fit_time  mean_score_time  std_score_time  \\\n",
       "0      125.330744      0.453082         2.588610        0.030937   \n",
       "1       88.629118      2.354603         1.751338        0.033743   \n",
       "2      124.855184      0.671601         2.582983        0.049506   \n",
       "3       91.416373      1.033403         1.777462        0.137278   \n",
       "4      126.374106      1.534713         2.577827        0.049487   \n",
       "5       62.314407      1.631823         1.316936        0.025000   \n",
       "6       32.234713      0.452717         0.687545        0.013492   \n",
       "7       63.169675      0.717867         1.269960        0.051950   \n",
       "8       31.305761      0.745146         0.677913        0.071344   \n",
       "9       32.093599      0.601151         0.696953        0.038145   \n",
       "10      93.190354      1.709908         1.858511        0.091530   \n",
       "11      92.037919      1.355361         1.869668        0.062595   \n",
       "12      31.500464      0.265703         0.670016        0.012657   \n",
       "13       2.863718      0.076320         0.092506        0.003084   \n",
       "14     182.588538      3.525612         2.698134        0.345922   \n",
       "15     185.865532      2.339308         2.983540        0.119547   \n",
       "16     181.933495      2.125990         2.827339        0.110157   \n",
       "17       2.771169      0.071063         0.082871        0.009643   \n",
       "18     186.092536      1.742797         2.736445        0.115154   \n",
       "19       2.269729      0.038961         0.092531        0.007266   \n",
       "20       2.312419      0.032256         0.090889        0.002505   \n",
       "21       2.259773      0.047203         0.084287        0.001959   \n",
       "22       2.081966      0.237739         0.079791        0.012746   \n",
       "23      12.444148      0.256029         0.287500        0.022537   \n",
       "24     119.502907      1.772782         2.581386        0.013558   \n",
       "\n",
       "   param_classifier__n_estimators param_classifier__learning_rate  \\\n",
       "0                             200                            0.56   \n",
       "1                             150                            0.46   \n",
       "2                             200                            0.65   \n",
       "3                             150                            0.44   \n",
       "4                             200                            0.71   \n",
       "5                             100                            0.19   \n",
       "6                              50                            0.92   \n",
       "7                             100                            0.12   \n",
       "8                              50                            0.25   \n",
       "9                              50                             0.2   \n",
       "10                            150                            0.04   \n",
       "11                            150                            0.03   \n",
       "12                             50                            0.08   \n",
       "13                             10                             NaN   \n",
       "14                           1000                             NaN   \n",
       "15                           1000                             NaN   \n",
       "16                           1000                             NaN   \n",
       "17                             10                             NaN   \n",
       "18                           1000                             NaN   \n",
       "19                             10                             NaN   \n",
       "20                             10                             NaN   \n",
       "21                             10                             NaN   \n",
       "22                             10                             NaN   \n",
       "23                            100                             NaN   \n",
       "24                           1000                             NaN   \n",
       "\n",
       "                                     param_classifier  \\\n",
       "0   AdaBoostClassifier(learning_rate=0.56, n_estim...   \n",
       "1   AdaBoostClassifier(learning_rate=0.56, n_estim...   \n",
       "2   AdaBoostClassifier(learning_rate=0.56, n_estim...   \n",
       "3   AdaBoostClassifier(learning_rate=0.56, n_estim...   \n",
       "4   AdaBoostClassifier(learning_rate=0.56, n_estim...   \n",
       "5   AdaBoostClassifier(learning_rate=0.56, n_estim...   \n",
       "6   AdaBoostClassifier(learning_rate=0.56, n_estim...   \n",
       "7   AdaBoostClassifier(learning_rate=0.56, n_estim...   \n",
       "8   AdaBoostClassifier(learning_rate=0.56, n_estim...   \n",
       "9   AdaBoostClassifier(learning_rate=0.56, n_estim...   \n",
       "10  AdaBoostClassifier(learning_rate=0.56, n_estim...   \n",
       "11  AdaBoostClassifier(learning_rate=0.56, n_estim...   \n",
       "12  AdaBoostClassifier(learning_rate=0.56, n_estim...   \n",
       "13                           RandomForestClassifier()   \n",
       "14                           RandomForestClassifier()   \n",
       "15                           RandomForestClassifier()   \n",
       "16                           RandomForestClassifier()   \n",
       "17                           RandomForestClassifier()   \n",
       "18                           RandomForestClassifier()   \n",
       "19                           RandomForestClassifier()   \n",
       "20                           RandomForestClassifier()   \n",
       "21                           RandomForestClassifier()   \n",
       "22                           RandomForestClassifier()   \n",
       "23                           RandomForestClassifier()   \n",
       "24                           RandomForestClassifier()   \n",
       "\n",
       "   param_classifier__min_samples_leaf param_classifier__max_leaf_nodes  \\\n",
       "0                                 NaN                              NaN   \n",
       "1                                 NaN                              NaN   \n",
       "2                                 NaN                              NaN   \n",
       "3                                 NaN                              NaN   \n",
       "4                                 NaN                              NaN   \n",
       "5                                 NaN                              NaN   \n",
       "6                                 NaN                              NaN   \n",
       "7                                 NaN                              NaN   \n",
       "8                                 NaN                              NaN   \n",
       "9                                 NaN                              NaN   \n",
       "10                                NaN                              NaN   \n",
       "11                                NaN                              NaN   \n",
       "12                                NaN                              NaN   \n",
       "13                                  2                               10   \n",
       "14                                  5                                5   \n",
       "15                                  1                                5   \n",
       "16                                  1                                5   \n",
       "17                                100                               10   \n",
       "18                                 15                                5   \n",
       "19                                  2                                5   \n",
       "20                                 15                                5   \n",
       "21                                 10                                5   \n",
       "22                                100                                5   \n",
       "23                                 10                                2   \n",
       "24                                  2                                2   \n",
       "\n",
       "   param_classifier__max_depth  \\\n",
       "0                          NaN   \n",
       "1                          NaN   \n",
       "2                          NaN   \n",
       "3                          NaN   \n",
       "4                          NaN   \n",
       "5                          NaN   \n",
       "6                          NaN   \n",
       "7                          NaN   \n",
       "8                          NaN   \n",
       "9                          NaN   \n",
       "10                         NaN   \n",
       "11                         NaN   \n",
       "12                         NaN   \n",
       "13                        None   \n",
       "14                          10   \n",
       "15                          25   \n",
       "16                          30   \n",
       "17                          30   \n",
       "18                          25   \n",
       "19                          25   \n",
       "20                          15   \n",
       "21                          10   \n",
       "22                          10   \n",
       "23                          30   \n",
       "24                          10   \n",
       "\n",
       "                                               params  split0_test_score  \\\n",
       "0   {'classifier__n_estimators': 200, 'classifier_...           0.674219   \n",
       "1   {'classifier__n_estimators': 150, 'classifier_...           0.674952   \n",
       "2   {'classifier__n_estimators': 200, 'classifier_...           0.673747   \n",
       "3   {'classifier__n_estimators': 150, 'classifier_...           0.675508   \n",
       "4   {'classifier__n_estimators': 200, 'classifier_...           0.672366   \n",
       "5   {'classifier__n_estimators': 100, 'classifier_...           0.672087   \n",
       "6   {'classifier__n_estimators': 50, 'classifier__...           0.666901   \n",
       "7   {'classifier__n_estimators': 100, 'classifier_...           0.667788   \n",
       "8   {'classifier__n_estimators': 50, 'classifier__...           0.667340   \n",
       "9   {'classifier__n_estimators': 50, 'classifier__...           0.664200   \n",
       "10  {'classifier__n_estimators': 150, 'classifier_...           0.658233   \n",
       "11  {'classifier__n_estimators': 150, 'classifier_...           0.652942   \n",
       "12  {'classifier__n_estimators': 50, 'classifier__...           0.650730   \n",
       "13  {'classifier__n_estimators': 10, 'classifier__...           0.649986   \n",
       "14  {'classifier__n_estimators': 1000, 'classifier...           0.647619   \n",
       "15  {'classifier__n_estimators': 1000, 'classifier...           0.647246   \n",
       "16  {'classifier__n_estimators': 1000, 'classifier...           0.646551   \n",
       "17  {'classifier__n_estimators': 10, 'classifier__...           0.644764   \n",
       "18  {'classifier__n_estimators': 1000, 'classifier...           0.647484   \n",
       "19  {'classifier__n_estimators': 10, 'classifier__...           0.647046   \n",
       "20  {'classifier__n_estimators': 10, 'classifier__...           0.640139   \n",
       "21  {'classifier__n_estimators': 10, 'classifier__...           0.637624   \n",
       "22  {'classifier__n_estimators': 10, 'classifier__...           0.641068   \n",
       "23  {'classifier__n_estimators': 100, 'classifier_...           0.639516   \n",
       "24  {'classifier__n_estimators': 1000, 'classifier...           0.636989   \n",
       "\n",
       "    split1_test_score  split2_test_score  split3_test_score  \\\n",
       "0            0.680815           0.677015           0.661082   \n",
       "1            0.679869           0.674788           0.660938   \n",
       "2            0.680396           0.676336           0.659804   \n",
       "3            0.678879           0.674384           0.661392   \n",
       "4            0.680715           0.676109           0.659554   \n",
       "5            0.674974           0.668030           0.659470   \n",
       "6            0.675466           0.668330           0.660653   \n",
       "7            0.668830           0.663368           0.655882   \n",
       "8            0.668831           0.661862           0.655519   \n",
       "9            0.665775           0.660113           0.653723   \n",
       "10           0.660344           0.658116           0.649763   \n",
       "11           0.656064           0.655037           0.645558   \n",
       "12           0.654622           0.653580           0.643742   \n",
       "13           0.655020           0.647509           0.638212   \n",
       "14           0.652680           0.650059           0.637188   \n",
       "15           0.653305           0.650571           0.635984   \n",
       "16           0.653188           0.649944           0.636855   \n",
       "17           0.656459           0.648724           0.636287   \n",
       "18           0.653086           0.650086           0.636080   \n",
       "19           0.647029           0.642337           0.634401   \n",
       "20           0.645303           0.642066           0.635094   \n",
       "21           0.642099           0.644130           0.634543   \n",
       "22           0.646559           0.636722           0.631500   \n",
       "23           0.641988           0.638891           0.628913   \n",
       "24           0.640288           0.642883           0.628831   \n",
       "\n",
       "    split4_test_score  mean_test_score  std_test_score  rank_test_score  \n",
       "0            0.693740         0.677374        0.010537                1  \n",
       "1            0.693275         0.676765        0.010392                2  \n",
       "2            0.693210         0.676699        0.010776                3  \n",
       "3            0.692209         0.676474        0.009861                4  \n",
       "4            0.693479         0.676445        0.011049                5  \n",
       "5            0.689554         0.672823        0.009863                6  \n",
       "6            0.685760         0.671422        0.008578                7  \n",
       "7            0.685668         0.668307        0.009805                8  \n",
       "8            0.684568         0.667624        0.009679                9  \n",
       "9            0.682097         0.665182        0.009428               10  \n",
       "10           0.679898         0.661271        0.009994               11  \n",
       "11           0.675594         0.657039        0.009979               12  \n",
       "12           0.673464         0.655228        0.009877               13  \n",
       "13           0.674762         0.653098        0.012129               14  \n",
       "14           0.674523         0.652414        0.012241               15  \n",
       "15           0.673952         0.652212        0.012366               16  \n",
       "16           0.674437         0.652195        0.012393               17  \n",
       "17           0.674571         0.652161        0.012955               18  \n",
       "18           0.673732         0.652093        0.012255               19  \n",
       "19           0.669123         0.647987        0.011533               20  \n",
       "20           0.668176         0.646156        0.011497               21  \n",
       "21           0.668708         0.645421        0.012117               22  \n",
       "22           0.664351         0.644040        0.011301               23  \n",
       "23           0.660481         0.641958        0.010283               24  \n",
       "24           0.659537         0.641705        0.010093               25  "
      ]
     },
     "execution_count": 308,
     "metadata": {},
     "output_type": "execute_result"
    }
   ],
   "source": [
    "scores_filt = pd.DataFrame(best_model_filt.cv_results_)\n",
    "scores_filt = scores_filt.sort_values(by=['rank_test_score']).reset_index(drop='index')\n",
    "scores_filt"
   ]
  },
  {
   "cell_type": "code",
   "execution_count": 32,
   "metadata": {},
   "outputs": [],
   "source": [
    "filt_fi = best_model_filt.best_estimator_.named_steps[\"classifier\"].feature_importances_"
   ]
  },
  {
   "cell_type": "code",
   "execution_count": 33,
   "metadata": {},
   "outputs": [],
   "source": [
    "df_imp = pd.DataFrame(data=filt_fi,index=X_filt_train.columns).sort_values(by=0,ascending=False)"
   ]
  },
  {
   "cell_type": "code",
   "execution_count": 34,
   "metadata": {},
   "outputs": [
    {
     "data": {
      "image/png": "[encoded data removed]",
      "text/plain": [
       "<Figure size 432x288 with 1 Axes>"
      ]
     },
     "metadata": {
      "needs_background": "light"
     },
     "output_type": "display_data"
    }
   ],
   "source": [
    "sns.barplot(x=df_imp.index,y=df_imp[0])\n",
    "plt.title(\"Filtered Features Importances: ADABoost\")\n",
    "plt.xticks(rotation=90)\n",
    "plt.tight_layout()"
   ]
  },
  {
   "cell_type": "markdown",
   "metadata": {},
   "source": [
    "### Pipeline with random forest selected feature"
   ]
  },
  {
   "cell_type": "code",
   "execution_count": 309,
   "metadata": {},
   "outputs": [],
   "source": [
    "# create a random_search of the pipeline, to find optimal the best model\n",
    "random_search_rf = RandomizedSearchCV(pipes, \n",
    "                                   param_distributions = grid_param, \n",
    "                                   cv=5, \n",
    "                                   verbose=0,\n",
    "                                   n_jobs=-1,\n",
    "                                   n_iter=25,\n",
    "                                   scoring='roc_auc')"
   ]
  },
  {
   "cell_type": "code",
   "execution_count": 310,
   "metadata": {},
   "outputs": [
    {
     "name": "stdout",
     "output_type": "stream",
     "text": [
      "Pipeline(steps=[('imputer', SimpleImputer()),\n",
      "                ('classifier',\n",
      "                 AdaBoostClassifier(learning_rate=0.34, n_estimators=200))])\n",
      "The AUC score of the model is: 0.6974686665171819\n",
      "Wall time: 1h 45min\n"
     ]
    }
   ],
   "source": [
    "%%time\n",
    "#Fit the random search object to the random forest selected features\n",
    "best_model_rf = random_search_rf.fit(X_rf_train,y_rf_train)\n",
    "print(best_model_rf.best_estimator_)\n",
    "print(\"The AUC score of the model is:\",best_model_rf.score(X_rf_test,y_rf_test))"
   ]
  },
  {
   "cell_type": "code",
   "execution_count": 312,
   "metadata": {},
   "outputs": [],
   "source": [
    "#Make class predictions on X_filt_test\n",
    "y_pred_rf = best_model_rf.best_estimator_.predict(X_rf_test)\n",
    "\n",
    "#Create classification report and convert to dataframe\n",
    "best_model_rf_report = classification_report(y_rf_test,y_pred_rf,output_dict=True)\n",
    "rf_features_report = pd.DataFrame(best_model_filt_report).transpose()"
   ]
  },
  {
   "cell_type": "code",
   "execution_count": 313,
   "metadata": {},
   "outputs": [
    {
     "data": {
      "text/html": [
       "<div>\n",
       "<style scoped>\n",
       "    .dataframe tbody tr th:only-of-type {\n",
       "        vertical-align: middle;\n",
       "    }\n",
       "\n",
       "    .dataframe tbody tr th {\n",
       "        vertical-align: top;\n",
       "    }\n",
       "\n",
       "    .dataframe thead th {\n",
       "        text-align: right;\n",
       "    }\n",
       "</style>\n",
       "<table border=\"1\" class=\"dataframe\">\n",
       "  <thead>\n",
       "    <tr style=\"text-align: right;\">\n",
       "      <th></th>\n",
       "      <th>precision</th>\n",
       "      <th>recall</th>\n",
       "      <th>f1-score</th>\n",
       "      <th>support</th>\n",
       "    </tr>\n",
       "  </thead>\n",
       "  <tbody>\n",
       "    <tr>\n",
       "      <th>0</th>\n",
       "      <td>0.907508</td>\n",
       "      <td>0.999739</td>\n",
       "      <td>0.951394</td>\n",
       "      <td>19138.000000</td>\n",
       "    </tr>\n",
       "    <tr>\n",
       "      <th>1</th>\n",
       "      <td>0.583333</td>\n",
       "      <td>0.003577</td>\n",
       "      <td>0.007110</td>\n",
       "      <td>1957.000000</td>\n",
       "    </tr>\n",
       "    <tr>\n",
       "      <th>accuracy</th>\n",
       "      <td>0.907324</td>\n",
       "      <td>0.907324</td>\n",
       "      <td>0.907324</td>\n",
       "      <td>0.907324</td>\n",
       "    </tr>\n",
       "    <tr>\n",
       "      <th>macro avg</th>\n",
       "      <td>0.745421</td>\n",
       "      <td>0.501658</td>\n",
       "      <td>0.479252</td>\n",
       "      <td>21095.000000</td>\n",
       "    </tr>\n",
       "    <tr>\n",
       "      <th>weighted avg</th>\n",
       "      <td>0.877434</td>\n",
       "      <td>0.907324</td>\n",
       "      <td>0.863792</td>\n",
       "      <td>21095.000000</td>\n",
       "    </tr>\n",
       "  </tbody>\n",
       "</table>\n",
       "</div>"
      ],
      "text/plain": [
       "              precision    recall  f1-score       support\n",
       "0              0.907508  0.999739  0.951394  19138.000000\n",
       "1              0.583333  0.003577  0.007110   1957.000000\n",
       "accuracy       0.907324  0.907324  0.907324      0.907324\n",
       "macro avg      0.745421  0.501658  0.479252  21095.000000\n",
       "weighted avg   0.877434  0.907324  0.863792  21095.000000"
      ]
     },
     "execution_count": 313,
     "metadata": {},
     "output_type": "execute_result"
    }
   ],
   "source": [
    "rf_features_report"
   ]
  },
  {
   "cell_type": "code",
   "execution_count": 314,
   "metadata": {},
   "outputs": [
    {
     "data": {
      "text/plain": [
       "array([[19134,     4],\n",
       "       [ 1948,     9]], dtype=int64)"
      ]
     },
     "execution_count": 314,
     "metadata": {},
     "output_type": "execute_result"
    }
   ],
   "source": [
    "#print confusion matrix\n",
    "confusion_matrix(y_rf_test,y_pred_rf)"
   ]
  },
  {
   "cell_type": "code",
   "execution_count": 315,
   "metadata": {},
   "outputs": [
    {
     "name": "stdout",
     "output_type": "stream",
     "text": [
      "The AUC score of the training data is: 0.7321046585908434\n",
      "The AUC score of the tesing data is: 0.6974686665171819\n"
     ]
    }
   ],
   "source": [
    "print(\"The AUC score of the training data is:\",best_model_rf.score(X_rf_train,y_rf_train))\n",
    "print(\"The AUC score of the tesing data is:\",best_model_rf.score(X_rf_test,y_rf_test))"
   ]
  },
  {
   "cell_type": "code",
   "execution_count": 316,
   "metadata": {},
   "outputs": [],
   "source": [
    "# obtain class probabilities on X_rf_test\n",
    "y_pred_rf_probs = best_model_rf.best_estimator_.predict_proba(X_rf_test)\n",
    "rf_preds = y_pred_rf_probs[:,1]"
   ]
  },
  {
   "cell_type": "code",
   "execution_count": 317,
   "metadata": {},
   "outputs": [
    {
     "data": {
      "image/png": "[encoded data removed]",
      "text/plain": [
       "<Figure size 432x288 with 1 Axes>"
      ]
     },
     "metadata": {
      "needs_background": "light"
     },
     "output_type": "display_data"
    }
   ],
   "source": [
    "fpr, tpr, threshold = roc_curve(y_rf_test, rf_preds)\n",
    "roc_auc = auc(fpr, tpr)\n",
    "\n",
    "plt.title('ROC Curve Random Forest Features: Best Model ADAboost')\n",
    "plt.plot(fpr, tpr, 'b', label = 'AUC = %0.2f' % roc_auc)\n",
    "plt.legend(loc = 'lower right')\n",
    "plt.plot([0, 1], [0, 1],'r--')\n",
    "plt.xlim([0, 1])\n",
    "plt.ylim([0, 1])\n",
    "plt.ylabel('True Positive Rate')\n",
    "plt.xlabel('False Positive Rate')\n",
    "plt.show()"
   ]
  },
  {
   "cell_type": "code",
   "execution_count": 343,
   "metadata": {},
   "outputs": [
    {
     "data": {
      "text/html": [
       "<div>\n",
       "<style scoped>\n",
       "    .dataframe tbody tr th:only-of-type {\n",
       "        vertical-align: middle;\n",
       "    }\n",
       "\n",
       "    .dataframe tbody tr th {\n",
       "        vertical-align: top;\n",
       "    }\n",
       "\n",
       "    .dataframe thead th {\n",
       "        text-align: right;\n",
       "    }\n",
       "</style>\n",
       "<table border=\"1\" class=\"dataframe\">\n",
       "  <thead>\n",
       "    <tr style=\"text-align: right;\">\n",
       "      <th></th>\n",
       "      <th>mean_fit_time</th>\n",
       "      <th>std_fit_time</th>\n",
       "      <th>mean_score_time</th>\n",
       "      <th>std_score_time</th>\n",
       "      <th>param_classifier__n_estimators</th>\n",
       "      <th>param_classifier__learning_rate</th>\n",
       "      <th>param_classifier</th>\n",
       "      <th>param_classifier__min_samples_leaf</th>\n",
       "      <th>param_classifier__max_leaf_nodes</th>\n",
       "      <th>param_classifier__max_depth</th>\n",
       "      <th>params</th>\n",
       "      <th>split0_test_score</th>\n",
       "      <th>split1_test_score</th>\n",
       "      <th>split2_test_score</th>\n",
       "      <th>split3_test_score</th>\n",
       "      <th>split4_test_score</th>\n",
       "      <th>mean_test_score</th>\n",
       "      <th>std_test_score</th>\n",
       "      <th>rank_test_score</th>\n",
       "    </tr>\n",
       "  </thead>\n",
       "  <tbody>\n",
       "    <tr>\n",
       "      <th>0</th>\n",
       "      <td>847.505789</td>\n",
       "      <td>2.460640</td>\n",
       "      <td>7.362910</td>\n",
       "      <td>0.265494</td>\n",
       "      <td>200</td>\n",
       "      <td>0.34</td>\n",
       "      <td>AdaBoostClassifier(learning_rate=0.34, n_estim...</td>\n",
       "      <td>NaN</td>\n",
       "      <td>NaN</td>\n",
       "      <td>NaN</td>\n",
       "      <td>{'classifier__n_estimators': 200, 'classifier_...</td>\n",
       "      <td>0.703594</td>\n",
       "      <td>0.710097</td>\n",
       "      <td>0.705854</td>\n",
       "      <td>0.689928</td>\n",
       "      <td>0.727699</td>\n",
       "      <td>0.707434</td>\n",
       "      <td>0.012178</td>\n",
       "      <td>1</td>\n",
       "    </tr>\n",
       "    <tr>\n",
       "      <th>1</th>\n",
       "      <td>814.084539</td>\n",
       "      <td>4.020694</td>\n",
       "      <td>7.387843</td>\n",
       "      <td>0.110968</td>\n",
       "      <td>200</td>\n",
       "      <td>0.24</td>\n",
       "      <td>AdaBoostClassifier(learning_rate=0.34, n_estim...</td>\n",
       "      <td>NaN</td>\n",
       "      <td>NaN</td>\n",
       "      <td>NaN</td>\n",
       "      <td>{'classifier__n_estimators': 200, 'classifier_...</td>\n",
       "      <td>0.702492</td>\n",
       "      <td>0.709521</td>\n",
       "      <td>0.703595</td>\n",
       "      <td>0.690237</td>\n",
       "      <td>0.728277</td>\n",
       "      <td>0.706825</td>\n",
       "      <td>0.012424</td>\n",
       "      <td>2</td>\n",
       "    </tr>\n",
       "    <tr>\n",
       "      <th>2</th>\n",
       "      <td>636.381698</td>\n",
       "      <td>3.423557</td>\n",
       "      <td>5.653282</td>\n",
       "      <td>0.106722</td>\n",
       "      <td>150</td>\n",
       "      <td>0.3</td>\n",
       "      <td>AdaBoostClassifier(learning_rate=0.34, n_estim...</td>\n",
       "      <td>NaN</td>\n",
       "      <td>NaN</td>\n",
       "      <td>NaN</td>\n",
       "      <td>{'classifier__n_estimators': 150, 'classifier_...</td>\n",
       "      <td>0.701079</td>\n",
       "      <td>0.707753</td>\n",
       "      <td>0.702431</td>\n",
       "      <td>0.688787</td>\n",
       "      <td>0.725352</td>\n",
       "      <td>0.705081</td>\n",
       "      <td>0.011887</td>\n",
       "      <td>3</td>\n",
       "    </tr>\n",
       "    <tr>\n",
       "      <th>3</th>\n",
       "      <td>636.660668</td>\n",
       "      <td>5.383336</td>\n",
       "      <td>5.501488</td>\n",
       "      <td>0.151446</td>\n",
       "      <td>150</td>\n",
       "      <td>0.24</td>\n",
       "      <td>AdaBoostClassifier(learning_rate=0.34, n_estim...</td>\n",
       "      <td>NaN</td>\n",
       "      <td>NaN</td>\n",
       "      <td>NaN</td>\n",
       "      <td>{'classifier__n_estimators': 150, 'classifier_...</td>\n",
       "      <td>0.700513</td>\n",
       "      <td>0.706232</td>\n",
       "      <td>0.700907</td>\n",
       "      <td>0.688054</td>\n",
       "      <td>0.727094</td>\n",
       "      <td>0.704560</td>\n",
       "      <td>0.012749</td>\n",
       "      <td>4</td>\n",
       "    </tr>\n",
       "    <tr>\n",
       "      <th>4</th>\n",
       "      <td>637.860358</td>\n",
       "      <td>8.440795</td>\n",
       "      <td>5.925975</td>\n",
       "      <td>0.243157</td>\n",
       "      <td>150</td>\n",
       "      <td>0.66</td>\n",
       "      <td>AdaBoostClassifier(learning_rate=0.34, n_estim...</td>\n",
       "      <td>NaN</td>\n",
       "      <td>NaN</td>\n",
       "      <td>NaN</td>\n",
       "      <td>{'classifier__n_estimators': 150, 'classifier_...</td>\n",
       "      <td>0.698775</td>\n",
       "      <td>0.705899</td>\n",
       "      <td>0.703782</td>\n",
       "      <td>0.689241</td>\n",
       "      <td>0.724445</td>\n",
       "      <td>0.704429</td>\n",
       "      <td>0.011540</td>\n",
       "      <td>5</td>\n",
       "    </tr>\n",
       "    <tr>\n",
       "      <th>5</th>\n",
       "      <td>641.140371</td>\n",
       "      <td>5.433883</td>\n",
       "      <td>5.264322</td>\n",
       "      <td>0.056198</td>\n",
       "      <td>150</td>\n",
       "      <td>0.23</td>\n",
       "      <td>AdaBoostClassifier(learning_rate=0.34, n_estim...</td>\n",
       "      <td>NaN</td>\n",
       "      <td>NaN</td>\n",
       "      <td>NaN</td>\n",
       "      <td>{'classifier__n_estimators': 150, 'classifier_...</td>\n",
       "      <td>0.700434</td>\n",
       "      <td>0.705608</td>\n",
       "      <td>0.701113</td>\n",
       "      <td>0.687506</td>\n",
       "      <td>0.726146</td>\n",
       "      <td>0.704161</td>\n",
       "      <td>0.012538</td>\n",
       "      <td>6</td>\n",
       "    </tr>\n",
       "    <tr>\n",
       "      <th>6</th>\n",
       "      <td>418.755105</td>\n",
       "      <td>6.178335</td>\n",
       "      <td>3.824174</td>\n",
       "      <td>0.099082</td>\n",
       "      <td>100</td>\n",
       "      <td>0.4</td>\n",
       "      <td>AdaBoostClassifier(learning_rate=0.34, n_estim...</td>\n",
       "      <td>NaN</td>\n",
       "      <td>NaN</td>\n",
       "      <td>NaN</td>\n",
       "      <td>{'classifier__n_estimators': 100, 'classifier_...</td>\n",
       "      <td>0.698195</td>\n",
       "      <td>0.704596</td>\n",
       "      <td>0.700550</td>\n",
       "      <td>0.687299</td>\n",
       "      <td>0.723686</td>\n",
       "      <td>0.702865</td>\n",
       "      <td>0.011882</td>\n",
       "      <td>7</td>\n",
       "    </tr>\n",
       "    <tr>\n",
       "      <th>7</th>\n",
       "      <td>420.246517</td>\n",
       "      <td>4.624500</td>\n",
       "      <td>3.574242</td>\n",
       "      <td>0.174327</td>\n",
       "      <td>100</td>\n",
       "      <td>0.36</td>\n",
       "      <td>AdaBoostClassifier(learning_rate=0.34, n_estim...</td>\n",
       "      <td>NaN</td>\n",
       "      <td>NaN</td>\n",
       "      <td>NaN</td>\n",
       "      <td>{'classifier__n_estimators': 100, 'classifier_...</td>\n",
       "      <td>0.697633</td>\n",
       "      <td>0.703419</td>\n",
       "      <td>0.700242</td>\n",
       "      <td>0.686392</td>\n",
       "      <td>0.721922</td>\n",
       "      <td>0.701922</td>\n",
       "      <td>0.011530</td>\n",
       "      <td>8</td>\n",
       "    </tr>\n",
       "    <tr>\n",
       "      <th>8</th>\n",
       "      <td>557.817007</td>\n",
       "      <td>22.943073</td>\n",
       "      <td>3.303780</td>\n",
       "      <td>0.609244</td>\n",
       "      <td>150</td>\n",
       "      <td>0.79</td>\n",
       "      <td>AdaBoostClassifier(learning_rate=0.34, n_estim...</td>\n",
       "      <td>NaN</td>\n",
       "      <td>NaN</td>\n",
       "      <td>NaN</td>\n",
       "      <td>{'classifier__n_estimators': 150, 'classifier_...</td>\n",
       "      <td>0.696062</td>\n",
       "      <td>0.704770</td>\n",
       "      <td>0.703196</td>\n",
       "      <td>0.687690</td>\n",
       "      <td>0.717477</td>\n",
       "      <td>0.701839</td>\n",
       "      <td>0.009885</td>\n",
       "      <td>9</td>\n",
       "    </tr>\n",
       "    <tr>\n",
       "      <th>9</th>\n",
       "      <td>419.467201</td>\n",
       "      <td>6.622358</td>\n",
       "      <td>3.671780</td>\n",
       "      <td>0.117040</td>\n",
       "      <td>100</td>\n",
       "      <td>0.67</td>\n",
       "      <td>AdaBoostClassifier(learning_rate=0.34, n_estim...</td>\n",
       "      <td>NaN</td>\n",
       "      <td>NaN</td>\n",
       "      <td>NaN</td>\n",
       "      <td>{'classifier__n_estimators': 100, 'classifier_...</td>\n",
       "      <td>0.694847</td>\n",
       "      <td>0.703384</td>\n",
       "      <td>0.703598</td>\n",
       "      <td>0.686583</td>\n",
       "      <td>0.718351</td>\n",
       "      <td>0.701353</td>\n",
       "      <td>0.010569</td>\n",
       "      <td>10</td>\n",
       "    </tr>\n",
       "  </tbody>\n",
       "</table>\n",
       "</div>"
      ],
      "text/plain": [
       "   mean_fit_time  std_fit_time  mean_score_time  std_score_time  \\\n",
       "0     847.505789      2.460640         7.362910        0.265494   \n",
       "1     814.084539      4.020694         7.387843        0.110968   \n",
       "2     636.381698      3.423557         5.653282        0.106722   \n",
       "3     636.660668      5.383336         5.501488        0.151446   \n",
       "4     637.860358      8.440795         5.925975        0.243157   \n",
       "5     641.140371      5.433883         5.264322        0.056198   \n",
       "6     418.755105      6.178335         3.824174        0.099082   \n",
       "7     420.246517      4.624500         3.574242        0.174327   \n",
       "8     557.817007     22.943073         3.303780        0.609244   \n",
       "9     419.467201      6.622358         3.671780        0.117040   \n",
       "\n",
       "  param_classifier__n_estimators param_classifier__learning_rate  \\\n",
       "0                            200                            0.34   \n",
       "1                            200                            0.24   \n",
       "2                            150                             0.3   \n",
       "3                            150                            0.24   \n",
       "4                            150                            0.66   \n",
       "5                            150                            0.23   \n",
       "6                            100                             0.4   \n",
       "7                            100                            0.36   \n",
       "8                            150                            0.79   \n",
       "9                            100                            0.67   \n",
       "\n",
       "                                    param_classifier  \\\n",
       "0  AdaBoostClassifier(learning_rate=0.34, n_estim...   \n",
       "1  AdaBoostClassifier(learning_rate=0.34, n_estim...   \n",
       "2  AdaBoostClassifier(learning_rate=0.34, n_estim...   \n",
       "3  AdaBoostClassifier(learning_rate=0.34, n_estim...   \n",
       "4  AdaBoostClassifier(learning_rate=0.34, n_estim...   \n",
       "5  AdaBoostClassifier(learning_rate=0.34, n_estim...   \n",
       "6  AdaBoostClassifier(learning_rate=0.34, n_estim...   \n",
       "7  AdaBoostClassifier(learning_rate=0.34, n_estim...   \n",
       "8  AdaBoostClassifier(learning_rate=0.34, n_estim...   \n",
       "9  AdaBoostClassifier(learning_rate=0.34, n_estim...   \n",
       "\n",
       "  param_classifier__min_samples_leaf param_classifier__max_leaf_nodes  \\\n",
       "0                                NaN                              NaN   \n",
       "1                                NaN                              NaN   \n",
       "2                                NaN                              NaN   \n",
       "3                                NaN                              NaN   \n",
       "4                                NaN                              NaN   \n",
       "5                                NaN                              NaN   \n",
       "6                                NaN                              NaN   \n",
       "7                                NaN                              NaN   \n",
       "8                                NaN                              NaN   \n",
       "9                                NaN                              NaN   \n",
       "\n",
       "  param_classifier__max_depth  \\\n",
       "0                         NaN   \n",
       "1                         NaN   \n",
       "2                         NaN   \n",
       "3                         NaN   \n",
       "4                         NaN   \n",
       "5                         NaN   \n",
       "6                         NaN   \n",
       "7                         NaN   \n",
       "8                         NaN   \n",
       "9                         NaN   \n",
       "\n",
       "                                              params  split0_test_score  \\\n",
       "0  {'classifier__n_estimators': 200, 'classifier_...           0.703594   \n",
       "1  {'classifier__n_estimators': 200, 'classifier_...           0.702492   \n",
       "2  {'classifier__n_estimators': 150, 'classifier_...           0.701079   \n",
       "3  {'classifier__n_estimators': 150, 'classifier_...           0.700513   \n",
       "4  {'classifier__n_estimators': 150, 'classifier_...           0.698775   \n",
       "5  {'classifier__n_estimators': 150, 'classifier_...           0.700434   \n",
       "6  {'classifier__n_estimators': 100, 'classifier_...           0.698195   \n",
       "7  {'classifier__n_estimators': 100, 'classifier_...           0.697633   \n",
       "8  {'classifier__n_estimators': 150, 'classifier_...           0.696062   \n",
       "9  {'classifier__n_estimators': 100, 'classifier_...           0.694847   \n",
       "\n",
       "   split1_test_score  split2_test_score  split3_test_score  split4_test_score  \\\n",
       "0           0.710097           0.705854           0.689928           0.727699   \n",
       "1           0.709521           0.703595           0.690237           0.728277   \n",
       "2           0.707753           0.702431           0.688787           0.725352   \n",
       "3           0.706232           0.700907           0.688054           0.727094   \n",
       "4           0.705899           0.703782           0.689241           0.724445   \n",
       "5           0.705608           0.701113           0.687506           0.726146   \n",
       "6           0.704596           0.700550           0.687299           0.723686   \n",
       "7           0.703419           0.700242           0.686392           0.721922   \n",
       "8           0.704770           0.703196           0.687690           0.717477   \n",
       "9           0.703384           0.703598           0.686583           0.718351   \n",
       "\n",
       "   mean_test_score  std_test_score  rank_test_score  \n",
       "0         0.707434        0.012178                1  \n",
       "1         0.706825        0.012424                2  \n",
       "2         0.705081        0.011887                3  \n",
       "3         0.704560        0.012749                4  \n",
       "4         0.704429        0.011540                5  \n",
       "5         0.704161        0.012538                6  \n",
       "6         0.702865        0.011882                7  \n",
       "7         0.701922        0.011530                8  \n",
       "8         0.701839        0.009885                9  \n",
       "9         0.701353        0.010569               10  "
      ]
     },
     "execution_count": 343,
     "metadata": {},
     "output_type": "execute_result"
    }
   ],
   "source": [
    "scores_rf = pd.DataFrame(best_model_rf.cv_results_)\n",
    "scores_rf = scores_rf.sort_values(by=['rank_test_score']).reset_index(drop='index')\n",
    "scores_rf.head(10)"
   ]
  },
  {
   "cell_type": "code",
   "execution_count": 50,
   "metadata": {},
   "outputs": [],
   "source": [
    "rf_fi = best_model_rf.best_estimator_.named_steps[\"classifier\"].feature_importances_"
   ]
  },
  {
   "cell_type": "code",
   "execution_count": 51,
   "metadata": {},
   "outputs": [],
   "source": [
    "df_rf_fi = pd.DataFrame(data=rf_fi,index=X_rf_train.columns).sort_values(by=0,ascending=False).head(50)"
   ]
  },
  {
   "cell_type": "code",
   "execution_count": 52,
   "metadata": {},
   "outputs": [
    {
     "data": {
      "image/png": "[encoded data removed]",
      "text/plain": [
       "<Figure size 432x288 with 1 Axes>"
      ]
     },
     "metadata": {
      "needs_background": "light"
     },
     "output_type": "display_data"
    }
   ],
   "source": [
    "sns.barplot(x=df_rf_fi.index,y=df_rf_fi[0])\n",
    "plt.title(\"Random Forest Selected Features Importances: ADABoost\")\n",
    "plt.xticks(rotation=90)\n",
    "plt.tight_layout()"
   ]
  },
  {
   "cell_type": "code",
   "execution_count": null,
   "metadata": {},
   "outputs": [],
   "source": []
  },
  {
   "cell_type": "markdown",
   "metadata": {},
   "source": [
    "### Pipeline for dimension reduction on all features\n",
    "We can continue to use the same paramater grid, however we need to create a new pipeline that has the extra step of scaling the features.  This extra steo is needed and PCA is not robust to unscaled features."
   ]
  },
  {
   "cell_type": "code",
   "execution_count": 327,
   "metadata": {},
   "outputs": [],
   "source": [
    "# Create a pipeline for PCA, need to include standard scaler\n",
    "pipe_pca = Pipeline([('imputer', SimpleImputer(missing_values=np.nan, strategy='mean')),\n",
    "                     ('scaler',StandardScaler()),\n",
    "                     ('pca',PCA(n_components=175)),\n",
    "                     (\"classifier\", RandomForestClassifier())])"
   ]
  },
  {
   "cell_type": "code",
   "execution_count": 328,
   "metadata": {},
   "outputs": [],
   "source": [
    "# create a random_search of the pipeline, the fit the best model\n",
    "#Instantiate the randomized search as before only this time using the pca_pipe\n",
    "random_search_pca = RandomizedSearchCV(pipe_pca, \n",
    "                                   param_distributions = grid_param, \n",
    "                                   cv=5, \n",
    "                                   verbose=0,\n",
    "                                   n_jobs=-1,\n",
    "                                   n_iter=25,\n",
    "                                   scoring='roc_auc')"
   ]
  },
  {
   "cell_type": "code",
   "execution_count": 329,
   "metadata": {},
   "outputs": [
    {
     "name": "stderr",
     "output_type": "stream",
     "text": [
      "C:\\Users\\pseudo_bounce\\anaconda3\\lib\\site-packages\\sklearn\\linear_model\\_logistic.py:764: ConvergenceWarning: lbfgs failed to converge (status=1):\n",
      "STOP: TOTAL NO. of ITERATIONS REACHED LIMIT.\n",
      "\n",
      "Increase the number of iterations (max_iter) or scale the data as shown in:\n",
      "    https://scikit-learn.org/stable/modules/preprocessing.html\n",
      "Please also refer to the documentation for alternative solver options:\n",
      "    https://scikit-learn.org/stable/modules/linear_model.html#logistic-regression\n",
      "  extra_warning_msg=_LOGISTIC_SOLVER_CONVERGENCE_MSG)\n"
     ]
    },
    {
     "name": "stdout",
     "output_type": "stream",
     "text": [
      "Pipeline(steps=[('imputer', SimpleImputer()), ('scaler', StandardScaler()),\n",
      "                ('pca', PCA(n_components=175)),\n",
      "                ('classifier', LogisticRegression(C=10))])\n",
      "The AUC of the model is: 0.6992123955886549\n",
      "Wall time: 1h 22min 23s\n"
     ]
    }
   ],
   "source": [
    "%%time\n",
    "#Fit the random search object to the PCA selected features\n",
    "best_model_pca = random_search_pca.fit(X_all_train,y_all_train)\n",
    "print(best_model_pca.best_estimator_)\n",
    "print(\"The AUC of the model is:\",best_model_pca.score(X_all_test,y_all_test))"
   ]
  },
  {
   "cell_type": "code",
   "execution_count": 330,
   "metadata": {},
   "outputs": [],
   "source": [
    "#Make class predictions on X_filt_test\n",
    "y_pred_pca = best_model_pca.best_estimator_.predict(X_all_test)\n",
    "\n",
    "#Create classification report and convert to dataframe\n",
    "best_model_pca_report = classification_report(y_all_test,y_pred_pca,output_dict=True)\n",
    "pca_features_report = pd.DataFrame(best_model_pca_report).transpose()"
   ]
  },
  {
   "cell_type": "code",
   "execution_count": 331,
   "metadata": {},
   "outputs": [
    {
     "data": {
      "text/html": [
       "<div>\n",
       "<style scoped>\n",
       "    .dataframe tbody tr th:only-of-type {\n",
       "        vertical-align: middle;\n",
       "    }\n",
       "\n",
       "    .dataframe tbody tr th {\n",
       "        vertical-align: top;\n",
       "    }\n",
       "\n",
       "    .dataframe thead th {\n",
       "        text-align: right;\n",
       "    }\n",
       "</style>\n",
       "<table border=\"1\" class=\"dataframe\">\n",
       "  <thead>\n",
       "    <tr style=\"text-align: right;\">\n",
       "      <th></th>\n",
       "      <th>precision</th>\n",
       "      <th>recall</th>\n",
       "      <th>f1-score</th>\n",
       "      <th>support</th>\n",
       "    </tr>\n",
       "  </thead>\n",
       "  <tbody>\n",
       "    <tr>\n",
       "      <th>0</th>\n",
       "      <td>0.907607</td>\n",
       "      <td>0.999373</td>\n",
       "      <td>0.951282</td>\n",
       "      <td>19138.000000</td>\n",
       "    </tr>\n",
       "    <tr>\n",
       "      <th>1</th>\n",
       "      <td>0.454545</td>\n",
       "      <td>0.005110</td>\n",
       "      <td>0.010106</td>\n",
       "      <td>1957.000000</td>\n",
       "    </tr>\n",
       "    <tr>\n",
       "      <th>accuracy</th>\n",
       "      <td>0.907134</td>\n",
       "      <td>0.907134</td>\n",
       "      <td>0.907134</td>\n",
       "      <td>0.907134</td>\n",
       "    </tr>\n",
       "    <tr>\n",
       "      <th>macro avg</th>\n",
       "      <td>0.681076</td>\n",
       "      <td>0.502241</td>\n",
       "      <td>0.480694</td>\n",
       "      <td>21095.000000</td>\n",
       "    </tr>\n",
       "    <tr>\n",
       "      <th>weighted avg</th>\n",
       "      <td>0.865576</td>\n",
       "      <td>0.907134</td>\n",
       "      <td>0.863968</td>\n",
       "      <td>21095.000000</td>\n",
       "    </tr>\n",
       "  </tbody>\n",
       "</table>\n",
       "</div>"
      ],
      "text/plain": [
       "              precision    recall  f1-score       support\n",
       "0              0.907607  0.999373  0.951282  19138.000000\n",
       "1              0.454545  0.005110  0.010106   1957.000000\n",
       "accuracy       0.907134  0.907134  0.907134      0.907134\n",
       "macro avg      0.681076  0.502241  0.480694  21095.000000\n",
       "weighted avg   0.865576  0.907134  0.863968  21095.000000"
      ]
     },
     "execution_count": 331,
     "metadata": {},
     "output_type": "execute_result"
    }
   ],
   "source": [
    "pca_features_report"
   ]
  },
  {
   "cell_type": "code",
   "execution_count": 332,
   "metadata": {},
   "outputs": [
    {
     "data": {
      "text/plain": [
       "array([[19126,    12],\n",
       "       [ 1947,    10]], dtype=int64)"
      ]
     },
     "execution_count": 332,
     "metadata": {},
     "output_type": "execute_result"
    }
   ],
   "source": [
    "#print confusion matrix\n",
    "confusion_matrix(y_all_test,y_pred_pca)"
   ]
  },
  {
   "cell_type": "code",
   "execution_count": 333,
   "metadata": {},
   "outputs": [
    {
     "name": "stdout",
     "output_type": "stream",
     "text": [
      "The AUC score of the training data is: 0.7188136181410072\n",
      "The AUC score of the tesing data is: 0.6992123955886549\n"
     ]
    }
   ],
   "source": [
    "print(\"The AUC score of the training data is:\",best_model_pca.score(X_all_train,y_all_train))\n",
    "print(\"The AUC score of the tesing data is:\",best_model_pca.score(X_all_test,y_all_test))"
   ]
  },
  {
   "cell_type": "code",
   "execution_count": 339,
   "metadata": {},
   "outputs": [
    {
     "data": {
      "text/plain": [
       "mean_fit_time                                                                   742.764\n",
       "std_fit_time                                                                    11.7537\n",
       "mean_score_time                                                                 3.40749\n",
       "std_score_time                                                                 0.195207\n",
       "param_classifier__n_estimators                                                     1000\n",
       "param_classifier__learning_rate                                                     NaN\n",
       "param_classifier                                               RandomForestClassifier()\n",
       "param_classifier__min_samples_leaf                                                    2\n",
       "param_classifier__max_leaf_nodes                                                     10\n",
       "param_classifier__max_depth                                                        None\n",
       "param_classifier__penalty                                                           NaN\n",
       "param_classifier__C                                                                 NaN\n",
       "params                                {'classifier__n_estimators': 1000, 'classifier...\n",
       "split0_test_score                                                              0.668945\n",
       "split1_test_score                                                              0.663132\n",
       "split2_test_score                                                              0.664103\n",
       "split3_test_score                                                              0.651471\n",
       "split4_test_score                                                              0.676802\n",
       "mean_test_score                                                                0.664891\n",
       "std_test_score                                                               0.00827181\n",
       "rank_test_score                                                                      11\n",
       "Name: 10, dtype: object"
      ]
     },
     "execution_count": 339,
     "metadata": {},
     "output_type": "execute_result"
    }
   ],
   "source": [
    "scores_pca = pd.DataFrame(best_model_pca.cv_results_)\n",
    "scores_pca = scores_pca.sort_values(by=['rank_test_score']).reset_index(drop='index')\n",
    "scores_pca.loc[10]"
   ]
  },
  {
   "cell_type": "code",
   "execution_count": 64,
   "metadata": {},
   "outputs": [],
   "source": [
    "# obtain class probabilities on X_all_test\n",
    "y_pred_pca_probs = best_model_pca.best_estimator_.predict_proba(X_all_test)\n",
    "pca_preds = y_pred_pca_probs[:,1]"
   ]
  },
  {
   "cell_type": "code",
   "execution_count": 65,
   "metadata": {},
   "outputs": [
    {
     "data": {
      "image/png": "[encoded data removed]",
      "text/plain": [
       "<Figure size 432x288 with 1 Axes>"
      ]
     },
     "metadata": {
      "needs_background": "light"
     },
     "output_type": "display_data"
    }
   ],
   "source": [
    "fpr, tpr, threshold = roc_curve(y_all_test, pca_preds)\n",
    "roc_auc = auc(fpr, tpr)\n",
    "\n",
    "plt.title('ROC Curve PCA Features: Best Model ADAboost')\n",
    "plt.plot(fpr, tpr, 'b', label = 'AUC = %0.2f' % roc_auc)\n",
    "plt.legend(loc = 'lower right')\n",
    "plt.plot([0, 1], [0, 1],'r--')\n",
    "plt.xlim([0, 1])\n",
    "plt.ylim([0, 1])\n",
    "plt.ylabel('True Positive Rate')\n",
    "plt.xlabel('False Positive Rate')\n",
    "plt.show()"
   ]
  },
  {
   "cell_type": "markdown",
   "metadata": {},
   "source": [
    "### XGboost pipelines"
   ]
  },
  {
   "cell_type": "code",
   "execution_count": 66,
   "metadata": {},
   "outputs": [],
   "source": [
    " clf = XGBClassifier(objective='binary:logistic')"
   ]
  },
  {
   "cell_type": "code",
   "execution_count": 67,
   "metadata": {},
   "outputs": [],
   "source": [
    "# Set up parameter grid\n",
    "param_grid_xgb = [\n",
    "    { 'n_estimators': [50,100,150,200],\n",
    "     'learning_rate': [0.01,0.1,0.2,0.3],\n",
    "     'max_depth': range(3,10),\n",
    "     'colsample_bytree': [i/10 for i in range(1,3)],\n",
    "     'gamma': [i/10 for i in range(3)],\n",
    "     'scale_pos_weight': [8,9,10]\n",
    "    }]"
   ]
  },
  {
   "cell_type": "markdown",
   "metadata": {},
   "source": [
    "### XGBoost: Filtered Features"
   ]
  },
  {
   "cell_type": "code",
   "execution_count": 68,
   "metadata": {},
   "outputs": [],
   "source": [
    "# Instantiate random search with xgb_pipe pipeline\n",
    "random_search_xgb = RandomizedSearchCV(clf, \n",
    "                                   param_distributions = param_grid_xgb, \n",
    "                                   cv=5, \n",
    "                                   verbose=0,\n",
    "                                   n_jobs=-1,\n",
    "                                   n_iter=25,\n",
    "                                   scoring='roc_auc')"
   ]
  },
  {
   "cell_type": "code",
   "execution_count": 72,
   "metadata": {},
   "outputs": [
    {
     "name": "stdout",
     "output_type": "stream",
     "text": [
      "XGBClassifier(base_score=0.5, booster='gbtree', colsample_bylevel=1,\n",
      "              colsample_bynode=1, colsample_bytree=0.1, gamma=0.0, gpu_id=-1,\n",
      "              importance_type='gain', interaction_constraints='',\n",
      "              learning_rate=0.2, max_delta_step=0, max_depth=3,\n",
      "              min_child_weight=1, missing=nan, monotone_constraints='()',\n",
      "              n_estimators=150, n_jobs=0, num_parallel_tree=1, random_state=0,\n",
      "              reg_alpha=0, reg_lambda=1, scale_pos_weight=9, subsample=1,\n",
      "              tree_method='exact', validate_parameters=1, verbosity=None)\n",
      "The AUC score of the model is: 0.6700706024975366\n",
      "Wall time: 5min 38s\n"
     ]
    }
   ],
   "source": [
    "%%time\n",
    "# Fit filterd features pipeline to random search object\n",
    "best_model_xgb_filt = random_search_xgb.fit(X_filt_train,y_filt_train)\n",
    "\n",
    "print(best_model_xgb_filt.best_estimator_)\n",
    "print(\"The AUC score of the model is:\",best_model_xgb_filt.score(X_filt_test,y_filt_test))"
   ]
  },
  {
   "cell_type": "code",
   "execution_count": 73,
   "metadata": {},
   "outputs": [],
   "source": [
    "# store predictions\n",
    "y_pred_xgb_filt = best_model_xgb_filt.best_estimator_.predict(X_filt_test)\n",
    "\n",
    "#get classification report, convert to dataframe\n",
    "xgb_filt_report = classification_report(y_filt_test,y_pred_xgb_filt,output_dict=True)\n",
    "report_xgb_filt = pd.DataFrame(xgb_filt_report).transpose()"
   ]
  },
  {
   "cell_type": "code",
   "execution_count": 74,
   "metadata": {},
   "outputs": [
    {
     "data": {
      "text/html": [
       "<div>\n",
       "<style scoped>\n",
       "    .dataframe tbody tr th:only-of-type {\n",
       "        vertical-align: middle;\n",
       "    }\n",
       "\n",
       "    .dataframe tbody tr th {\n",
       "        vertical-align: top;\n",
       "    }\n",
       "\n",
       "    .dataframe thead th {\n",
       "        text-align: right;\n",
       "    }\n",
       "</style>\n",
       "<table border=\"1\" class=\"dataframe\">\n",
       "  <thead>\n",
       "    <tr style=\"text-align: right;\">\n",
       "      <th></th>\n",
       "      <th>precision</th>\n",
       "      <th>recall</th>\n",
       "      <th>f1-score</th>\n",
       "      <th>support</th>\n",
       "    </tr>\n",
       "  </thead>\n",
       "  <tbody>\n",
       "    <tr>\n",
       "      <th>0</th>\n",
       "      <td>0.940066</td>\n",
       "      <td>0.640088</td>\n",
       "      <td>0.761603</td>\n",
       "      <td>19138.000000</td>\n",
       "    </tr>\n",
       "    <tr>\n",
       "      <th>1</th>\n",
       "      <td>0.145833</td>\n",
       "      <td>0.600920</td>\n",
       "      <td>0.234707</td>\n",
       "      <td>1957.000000</td>\n",
       "    </tr>\n",
       "    <tr>\n",
       "      <th>accuracy</th>\n",
       "      <td>0.636454</td>\n",
       "      <td>0.636454</td>\n",
       "      <td>0.636454</td>\n",
       "      <td>0.636454</td>\n",
       "    </tr>\n",
       "    <tr>\n",
       "      <th>macro avg</th>\n",
       "      <td>0.542950</td>\n",
       "      <td>0.620504</td>\n",
       "      <td>0.498155</td>\n",
       "      <td>21095.000000</td>\n",
       "    </tr>\n",
       "    <tr>\n",
       "      <th>weighted avg</th>\n",
       "      <td>0.866384</td>\n",
       "      <td>0.636454</td>\n",
       "      <td>0.712722</td>\n",
       "      <td>21095.000000</td>\n",
       "    </tr>\n",
       "  </tbody>\n",
       "</table>\n",
       "</div>"
      ],
      "text/plain": [
       "              precision    recall  f1-score       support\n",
       "0              0.940066  0.640088  0.761603  19138.000000\n",
       "1              0.145833  0.600920  0.234707   1957.000000\n",
       "accuracy       0.636454  0.636454  0.636454      0.636454\n",
       "macro avg      0.542950  0.620504  0.498155  21095.000000\n",
       "weighted avg   0.866384  0.636454  0.712722  21095.000000"
      ]
     },
     "execution_count": 74,
     "metadata": {},
     "output_type": "execute_result"
    }
   ],
   "source": [
    "report_xgb_filt"
   ]
  },
  {
   "cell_type": "code",
   "execution_count": 75,
   "metadata": {},
   "outputs": [
    {
     "data": {
      "text/plain": [
       "array([[12250,  6888],\n",
       "       [  781,  1176]], dtype=int64)"
      ]
     },
     "execution_count": 75,
     "metadata": {},
     "output_type": "execute_result"
    }
   ],
   "source": [
    "# Pring confusion matrix\n",
    "confusion_matrix(y_filt_test,y_pred_xgb_filt)"
   ]
  },
  {
   "cell_type": "code",
   "execution_count": 76,
   "metadata": {},
   "outputs": [
    {
     "name": "stdout",
     "output_type": "stream",
     "text": [
      "The AUC score of the training data is: 0.7341089558444837\n",
      "The AUC score of the tesing data is: 0.6700706024975366\n"
     ]
    }
   ],
   "source": [
    "print(\"The AUC score of the training data is:\",best_model_xgb_filt.score(X_filt_train,y_filt_train))\n",
    "print(\"The AUC score of the tesing data is:\",best_model_xgb_filt.score(X_filt_test,y_filt_test))"
   ]
  },
  {
   "cell_type": "code",
   "execution_count": 99,
   "metadata": {},
   "outputs": [
    {
     "data": {
      "text/html": [
       "<div>\n",
       "<style scoped>\n",
       "    .dataframe tbody tr th:only-of-type {\n",
       "        vertical-align: middle;\n",
       "    }\n",
       "\n",
       "    .dataframe tbody tr th {\n",
       "        vertical-align: top;\n",
       "    }\n",
       "\n",
       "    .dataframe thead th {\n",
       "        text-align: right;\n",
       "    }\n",
       "</style>\n",
       "<table border=\"1\" class=\"dataframe\">\n",
       "  <thead>\n",
       "    <tr style=\"text-align: right;\">\n",
       "      <th></th>\n",
       "      <th>mean_fit_time</th>\n",
       "      <th>std_fit_time</th>\n",
       "      <th>mean_score_time</th>\n",
       "      <th>std_score_time</th>\n",
       "      <th>param_scale_pos_weight</th>\n",
       "      <th>param_n_estimators</th>\n",
       "      <th>param_max_depth</th>\n",
       "      <th>param_learning_rate</th>\n",
       "      <th>param_gamma</th>\n",
       "      <th>param_colsample_bytree</th>\n",
       "      <th>params</th>\n",
       "      <th>split0_test_score</th>\n",
       "      <th>split1_test_score</th>\n",
       "      <th>split2_test_score</th>\n",
       "      <th>split3_test_score</th>\n",
       "      <th>split4_test_score</th>\n",
       "      <th>mean_test_score</th>\n",
       "      <th>std_test_score</th>\n",
       "      <th>rank_test_score</th>\n",
       "    </tr>\n",
       "  </thead>\n",
       "  <tbody>\n",
       "    <tr>\n",
       "      <th>0</th>\n",
       "      <td>188.509983</td>\n",
       "      <td>1.030054</td>\n",
       "      <td>0.622753</td>\n",
       "      <td>0.019628</td>\n",
       "      <td>9</td>\n",
       "      <td>150</td>\n",
       "      <td>4</td>\n",
       "      <td>0.1</td>\n",
       "      <td>0.1</td>\n",
       "      <td>0.2</td>\n",
       "      <td>{'scale_pos_weight': 9, 'n_estimators': 150, '...</td>\n",
       "      <td>0.716498</td>\n",
       "      <td>0.711527</td>\n",
       "      <td>0.711351</td>\n",
       "      <td>0.698790</td>\n",
       "      <td>0.729464</td>\n",
       "      <td>0.713526</td>\n",
       "      <td>0.009887</td>\n",
       "      <td>1</td>\n",
       "    </tr>\n",
       "    <tr>\n",
       "      <th>1</th>\n",
       "      <td>105.497264</td>\n",
       "      <td>1.168407</td>\n",
       "      <td>0.535369</td>\n",
       "      <td>0.005255</td>\n",
       "      <td>8</td>\n",
       "      <td>200</td>\n",
       "      <td>3</td>\n",
       "      <td>0.2</td>\n",
       "      <td>0.1</td>\n",
       "      <td>0.1</td>\n",
       "      <td>{'scale_pos_weight': 8, 'n_estimators': 200, '...</td>\n",
       "      <td>0.713564</td>\n",
       "      <td>0.707604</td>\n",
       "      <td>0.711671</td>\n",
       "      <td>0.699304</td>\n",
       "      <td>0.721851</td>\n",
       "      <td>0.710799</td>\n",
       "      <td>0.007388</td>\n",
       "      <td>2</td>\n",
       "    </tr>\n",
       "    <tr>\n",
       "      <th>2</th>\n",
       "      <td>114.358965</td>\n",
       "      <td>0.590543</td>\n",
       "      <td>0.492883</td>\n",
       "      <td>0.014417</td>\n",
       "      <td>10</td>\n",
       "      <td>100</td>\n",
       "      <td>4</td>\n",
       "      <td>0.1</td>\n",
       "      <td>0.1</td>\n",
       "      <td>0.2</td>\n",
       "      <td>{'scale_pos_weight': 10, 'n_estimators': 100, ...</td>\n",
       "      <td>0.714065</td>\n",
       "      <td>0.709850</td>\n",
       "      <td>0.707131</td>\n",
       "      <td>0.698354</td>\n",
       "      <td>0.723681</td>\n",
       "      <td>0.710616</td>\n",
       "      <td>0.008315</td>\n",
       "      <td>3</td>\n",
       "    </tr>\n",
       "    <tr>\n",
       "      <th>3</th>\n",
       "      <td>88.429908</td>\n",
       "      <td>1.136532</td>\n",
       "      <td>0.470542</td>\n",
       "      <td>0.009740</td>\n",
       "      <td>10</td>\n",
       "      <td>100</td>\n",
       "      <td>3</td>\n",
       "      <td>0.1</td>\n",
       "      <td>0</td>\n",
       "      <td>0.2</td>\n",
       "      <td>{'scale_pos_weight': 10, 'n_estimators': 100, ...</td>\n",
       "      <td>0.710810</td>\n",
       "      <td>0.709072</td>\n",
       "      <td>0.708178</td>\n",
       "      <td>0.694217</td>\n",
       "      <td>0.726825</td>\n",
       "      <td>0.709821</td>\n",
       "      <td>0.010362</td>\n",
       "      <td>4</td>\n",
       "    </tr>\n",
       "    <tr>\n",
       "      <th>4</th>\n",
       "      <td>87.714820</td>\n",
       "      <td>1.182147</td>\n",
       "      <td>0.463162</td>\n",
       "      <td>0.023547</td>\n",
       "      <td>10</td>\n",
       "      <td>100</td>\n",
       "      <td>3</td>\n",
       "      <td>0.3</td>\n",
       "      <td>0.2</td>\n",
       "      <td>0.2</td>\n",
       "      <td>{'scale_pos_weight': 10, 'n_estimators': 100, ...</td>\n",
       "      <td>0.709511</td>\n",
       "      <td>0.704987</td>\n",
       "      <td>0.701543</td>\n",
       "      <td>0.693202</td>\n",
       "      <td>0.718561</td>\n",
       "      <td>0.705561</td>\n",
       "      <td>0.008412</td>\n",
       "      <td>5</td>\n",
       "    </tr>\n",
       "    <tr>\n",
       "      <th>5</th>\n",
       "      <td>92.870442</td>\n",
       "      <td>15.549983</td>\n",
       "      <td>0.459814</td>\n",
       "      <td>0.111425</td>\n",
       "      <td>10</td>\n",
       "      <td>50</td>\n",
       "      <td>6</td>\n",
       "      <td>0.1</td>\n",
       "      <td>0</td>\n",
       "      <td>0.2</td>\n",
       "      <td>{'scale_pos_weight': 10, 'n_estimators': 50, '...</td>\n",
       "      <td>0.703040</td>\n",
       "      <td>0.703944</td>\n",
       "      <td>0.698986</td>\n",
       "      <td>0.687240</td>\n",
       "      <td>0.716303</td>\n",
       "      <td>0.701903</td>\n",
       "      <td>0.009341</td>\n",
       "      <td>6</td>\n",
       "    </tr>\n",
       "    <tr>\n",
       "      <th>6</th>\n",
       "      <td>141.861813</td>\n",
       "      <td>1.716942</td>\n",
       "      <td>0.716884</td>\n",
       "      <td>0.017554</td>\n",
       "      <td>10</td>\n",
       "      <td>150</td>\n",
       "      <td>6</td>\n",
       "      <td>0.1</td>\n",
       "      <td>0</td>\n",
       "      <td>0.1</td>\n",
       "      <td>{'scale_pos_weight': 10, 'n_estimators': 150, ...</td>\n",
       "      <td>0.699748</td>\n",
       "      <td>0.701320</td>\n",
       "      <td>0.700043</td>\n",
       "      <td>0.688653</td>\n",
       "      <td>0.715011</td>\n",
       "      <td>0.700955</td>\n",
       "      <td>0.008383</td>\n",
       "      <td>7</td>\n",
       "    </tr>\n",
       "    <tr>\n",
       "      <th>7</th>\n",
       "      <td>47.493785</td>\n",
       "      <td>0.608058</td>\n",
       "      <td>0.423468</td>\n",
       "      <td>0.012370</td>\n",
       "      <td>9</td>\n",
       "      <td>50</td>\n",
       "      <td>3</td>\n",
       "      <td>0.1</td>\n",
       "      <td>0.2</td>\n",
       "      <td>0.2</td>\n",
       "      <td>{'scale_pos_weight': 9, 'n_estimators': 50, 'm...</td>\n",
       "      <td>0.699139</td>\n",
       "      <td>0.701258</td>\n",
       "      <td>0.695857</td>\n",
       "      <td>0.683586</td>\n",
       "      <td>0.718433</td>\n",
       "      <td>0.699655</td>\n",
       "      <td>0.011208</td>\n",
       "      <td>8</td>\n",
       "    </tr>\n",
       "    <tr>\n",
       "      <th>8</th>\n",
       "      <td>46.709682</td>\n",
       "      <td>0.604802</td>\n",
       "      <td>0.415689</td>\n",
       "      <td>0.007202</td>\n",
       "      <td>8</td>\n",
       "      <td>50</td>\n",
       "      <td>3</td>\n",
       "      <td>0.1</td>\n",
       "      <td>0.2</td>\n",
       "      <td>0.2</td>\n",
       "      <td>{'scale_pos_weight': 8, 'n_estimators': 50, 'm...</td>\n",
       "      <td>0.698691</td>\n",
       "      <td>0.701878</td>\n",
       "      <td>0.695111</td>\n",
       "      <td>0.683731</td>\n",
       "      <td>0.717964</td>\n",
       "      <td>0.699475</td>\n",
       "      <td>0.011092</td>\n",
       "      <td>9</td>\n",
       "    </tr>\n",
       "    <tr>\n",
       "      <th>9</th>\n",
       "      <td>81.531357</td>\n",
       "      <td>1.156946</td>\n",
       "      <td>0.551327</td>\n",
       "      <td>0.013623</td>\n",
       "      <td>9</td>\n",
       "      <td>100</td>\n",
       "      <td>5</td>\n",
       "      <td>0.2</td>\n",
       "      <td>0.1</td>\n",
       "      <td>0.1</td>\n",
       "      <td>{'scale_pos_weight': 9, 'n_estimators': 100, '...</td>\n",
       "      <td>0.696180</td>\n",
       "      <td>0.695086</td>\n",
       "      <td>0.703620</td>\n",
       "      <td>0.688868</td>\n",
       "      <td>0.711274</td>\n",
       "      <td>0.699006</td>\n",
       "      <td>0.007719</td>\n",
       "      <td>10</td>\n",
       "    </tr>\n",
       "  </tbody>\n",
       "</table>\n",
       "</div>"
      ],
      "text/plain": [
       "   mean_fit_time  std_fit_time  mean_score_time  std_score_time  \\\n",
       "0     188.509983      1.030054         0.622753        0.019628   \n",
       "1     105.497264      1.168407         0.535369        0.005255   \n",
       "2     114.358965      0.590543         0.492883        0.014417   \n",
       "3      88.429908      1.136532         0.470542        0.009740   \n",
       "4      87.714820      1.182147         0.463162        0.023547   \n",
       "5      92.870442     15.549983         0.459814        0.111425   \n",
       "6     141.861813      1.716942         0.716884        0.017554   \n",
       "7      47.493785      0.608058         0.423468        0.012370   \n",
       "8      46.709682      0.604802         0.415689        0.007202   \n",
       "9      81.531357      1.156946         0.551327        0.013623   \n",
       "\n",
       "  param_scale_pos_weight param_n_estimators param_max_depth  \\\n",
       "0                      9                150               4   \n",
       "1                      8                200               3   \n",
       "2                     10                100               4   \n",
       "3                     10                100               3   \n",
       "4                     10                100               3   \n",
       "5                     10                 50               6   \n",
       "6                     10                150               6   \n",
       "7                      9                 50               3   \n",
       "8                      8                 50               3   \n",
       "9                      9                100               5   \n",
       "\n",
       "  param_learning_rate param_gamma param_colsample_bytree  \\\n",
       "0                 0.1         0.1                    0.2   \n",
       "1                 0.2         0.1                    0.1   \n",
       "2                 0.1         0.1                    0.2   \n",
       "3                 0.1           0                    0.2   \n",
       "4                 0.3         0.2                    0.2   \n",
       "5                 0.1           0                    0.2   \n",
       "6                 0.1           0                    0.1   \n",
       "7                 0.1         0.2                    0.2   \n",
       "8                 0.1         0.2                    0.2   \n",
       "9                 0.2         0.1                    0.1   \n",
       "\n",
       "                                              params  split0_test_score  \\\n",
       "0  {'scale_pos_weight': 9, 'n_estimators': 150, '...           0.716498   \n",
       "1  {'scale_pos_weight': 8, 'n_estimators': 200, '...           0.713564   \n",
       "2  {'scale_pos_weight': 10, 'n_estimators': 100, ...           0.714065   \n",
       "3  {'scale_pos_weight': 10, 'n_estimators': 100, ...           0.710810   \n",
       "4  {'scale_pos_weight': 10, 'n_estimators': 100, ...           0.709511   \n",
       "5  {'scale_pos_weight': 10, 'n_estimators': 50, '...           0.703040   \n",
       "6  {'scale_pos_weight': 10, 'n_estimators': 150, ...           0.699748   \n",
       "7  {'scale_pos_weight': 9, 'n_estimators': 50, 'm...           0.699139   \n",
       "8  {'scale_pos_weight': 8, 'n_estimators': 50, 'm...           0.698691   \n",
       "9  {'scale_pos_weight': 9, 'n_estimators': 100, '...           0.696180   \n",
       "\n",
       "   split1_test_score  split2_test_score  split3_test_score  split4_test_score  \\\n",
       "0           0.711527           0.711351           0.698790           0.729464   \n",
       "1           0.707604           0.711671           0.699304           0.721851   \n",
       "2           0.709850           0.707131           0.698354           0.723681   \n",
       "3           0.709072           0.708178           0.694217           0.726825   \n",
       "4           0.704987           0.701543           0.693202           0.718561   \n",
       "5           0.703944           0.698986           0.687240           0.716303   \n",
       "6           0.701320           0.700043           0.688653           0.715011   \n",
       "7           0.701258           0.695857           0.683586           0.718433   \n",
       "8           0.701878           0.695111           0.683731           0.717964   \n",
       "9           0.695086           0.703620           0.688868           0.711274   \n",
       "\n",
       "   mean_test_score  std_test_score  rank_test_score  \n",
       "0         0.713526        0.009887                1  \n",
       "1         0.710799        0.007388                2  \n",
       "2         0.710616        0.008315                3  \n",
       "3         0.709821        0.010362                4  \n",
       "4         0.705561        0.008412                5  \n",
       "5         0.701903        0.009341                6  \n",
       "6         0.700955        0.008383                7  \n",
       "7         0.699655        0.011208                8  \n",
       "8         0.699475        0.011092                9  \n",
       "9         0.699006        0.007719               10  "
      ]
     },
     "execution_count": 99,
     "metadata": {},
     "output_type": "execute_result"
    }
   ],
   "source": [
    "scores_xbg_filt = pd.DataFrame(best_model_xgb_filt.cv_results_)\n",
    "scores_xgb_filt = scores_rf.sort_values(by=['rank_test_score']).reset_index(drop='index')\n",
    "scores_xgb_rf.head(10)"
   ]
  },
  {
   "cell_type": "code",
   "execution_count": 78,
   "metadata": {},
   "outputs": [],
   "source": [
    "# obtain positive class probabilities on X_filt_test\n",
    "y_pred_xgb_filt_probs = best_model_xgb_filt.best_estimator_.predict_proba(X_filt_test)\n",
    "xgb_filt_preds = y_pred_xgb_filt_probs[:,1]"
   ]
  },
  {
   "cell_type": "code",
   "execution_count": 79,
   "metadata": {},
   "outputs": [
    {
     "data": {
      "text/plain": [
       "(array([1089., 1661., 2281., 3062., 4145., 4623., 3100., 1025.,  103.,\n",
       "           6.]),\n",
       " array([0.00663263, 0.10201042, 0.1973882 , 0.292766  , 0.38814378,\n",
       "        0.48352158, 0.5788994 , 0.6742772 , 0.7696549 , 0.86503273,\n",
       "        0.96041054], dtype=float32),\n",
       " <a list of 10 Patch objects>)"
      ]
     },
     "execution_count": 79,
     "metadata": {},
     "output_type": "execute_result"
    },
    {
     "data": {
      "image/png": "[encoded data removed]",
      "text/plain": [
       "<Figure size 432x288 with 1 Axes>"
      ]
     },
     "metadata": {
      "needs_background": "light"
     },
     "output_type": "display_data"
    }
   ],
   "source": [
    "plt.hist(xgb_filt_preds)"
   ]
  },
  {
   "cell_type": "code",
   "execution_count": 80,
   "metadata": {},
   "outputs": [
    {
     "data": {
      "image/png": "[encoded data removed]",
      "text/plain": [
       "<Figure size 432x288 with 1 Axes>"
      ]
     },
     "metadata": {
      "needs_background": "light"
     },
     "output_type": "display_data"
    }
   ],
   "source": [
    "fpr, tpr, threshold = roc_curve(y_filt_test, xgb_filt_preds)\n",
    "roc_auc = auc(fpr, tpr)\n",
    "\n",
    "plt.title('ROC Curve Filtered Features: XGBoost')\n",
    "plt.plot(fpr, tpr, 'b', label = 'AUC = %0.2f' % roc_auc)\n",
    "plt.legend(loc = 'lower right')\n",
    "plt.plot([0, 1], [0, 1],'r--')\n",
    "plt.xlim([0, 1])\n",
    "plt.ylim([0, 1])\n",
    "plt.ylabel('True Positive Rate')\n",
    "plt.xlabel('False Positive Rate')\n",
    "plt.show()"
   ]
  },
  {
   "cell_type": "markdown",
   "metadata": {},
   "source": [
    "### XGBoost: Random Forest Features"
   ]
  },
  {
   "cell_type": "code",
   "execution_count": 81,
   "metadata": {},
   "outputs": [
    {
     "name": "stdout",
     "output_type": "stream",
     "text": [
      "XGBClassifier(base_score=0.5, booster='gbtree', colsample_bylevel=1,\n",
      "              colsample_bynode=1, colsample_bytree=0.2, gamma=0.1, gpu_id=-1,\n",
      "              importance_type='gain', interaction_constraints='',\n",
      "              learning_rate=0.1, max_delta_step=0, max_depth=4,\n",
      "              min_child_weight=1, missing=nan, monotone_constraints='()',\n",
      "              n_estimators=150, n_jobs=0, num_parallel_tree=1, random_state=0,\n",
      "              reg_alpha=0, reg_lambda=1, scale_pos_weight=9, subsample=1,\n",
      "              tree_method='exact', validate_parameters=1, verbosity=None)\n",
      "The AUC score of the model is: 0.7069483176624312\n",
      "Wall time: 38min 54s\n"
     ]
    }
   ],
   "source": [
    "%%time\n",
    "# Fit filterd features pipeline to random search object\n",
    "best_model_xgb_rf = random_search_xgb.fit(X_rf_train,y_rf_train)\n",
    "\n",
    "print(best_model_xgb_rf.best_estimator_)\n",
    "print(\"The AUC score of the model is:\",best_model_xgb_rf.score(X_rf_test,y_rf_test))"
   ]
  },
  {
   "cell_type": "code",
   "execution_count": 82,
   "metadata": {},
   "outputs": [],
   "source": [
    "# store predictions\n",
    "y_pred_xgb_rf = best_model_xgb_rf.best_estimator_.predict(X_rf_test)\n",
    "\n",
    "#get classification report, convert to dataframe\n",
    "xgb_rf_report = classification_report(y_rf_test,y_pred_xgb_rf,output_dict=True)\n",
    "report_xgb_rf = pd.DataFrame(xgb_rf_report).transpose()"
   ]
  },
  {
   "cell_type": "code",
   "execution_count": 83,
   "metadata": {},
   "outputs": [
    {
     "data": {
      "text/html": [
       "<div>\n",
       "<style scoped>\n",
       "    .dataframe tbody tr th:only-of-type {\n",
       "        vertical-align: middle;\n",
       "    }\n",
       "\n",
       "    .dataframe tbody tr th {\n",
       "        vertical-align: top;\n",
       "    }\n",
       "\n",
       "    .dataframe thead th {\n",
       "        text-align: right;\n",
       "    }\n",
       "</style>\n",
       "<table border=\"1\" class=\"dataframe\">\n",
       "  <thead>\n",
       "    <tr style=\"text-align: right;\">\n",
       "      <th></th>\n",
       "      <th>precision</th>\n",
       "      <th>recall</th>\n",
       "      <th>f1-score</th>\n",
       "      <th>support</th>\n",
       "    </tr>\n",
       "  </thead>\n",
       "  <tbody>\n",
       "    <tr>\n",
       "      <th>0</th>\n",
       "      <td>0.944232</td>\n",
       "      <td>0.684763</td>\n",
       "      <td>0.793833</td>\n",
       "      <td>19138.000000</td>\n",
       "    </tr>\n",
       "    <tr>\n",
       "      <th>1</th>\n",
       "      <td>0.163941</td>\n",
       "      <td>0.604497</td>\n",
       "      <td>0.257931</td>\n",
       "      <td>1957.000000</td>\n",
       "    </tr>\n",
       "    <tr>\n",
       "      <th>accuracy</th>\n",
       "      <td>0.677317</td>\n",
       "      <td>0.677317</td>\n",
       "      <td>0.677317</td>\n",
       "      <td>0.677317</td>\n",
       "    </tr>\n",
       "    <tr>\n",
       "      <th>macro avg</th>\n",
       "      <td>0.554087</td>\n",
       "      <td>0.644630</td>\n",
       "      <td>0.525882</td>\n",
       "      <td>21095.000000</td>\n",
       "    </tr>\n",
       "    <tr>\n",
       "      <th>weighted avg</th>\n",
       "      <td>0.871844</td>\n",
       "      <td>0.677317</td>\n",
       "      <td>0.744117</td>\n",
       "      <td>21095.000000</td>\n",
       "    </tr>\n",
       "  </tbody>\n",
       "</table>\n",
       "</div>"
      ],
      "text/plain": [
       "              precision    recall  f1-score       support\n",
       "0              0.944232  0.684763  0.793833  19138.000000\n",
       "1              0.163941  0.604497  0.257931   1957.000000\n",
       "accuracy       0.677317  0.677317  0.677317      0.677317\n",
       "macro avg      0.554087  0.644630  0.525882  21095.000000\n",
       "weighted avg   0.871844  0.677317  0.744117  21095.000000"
      ]
     },
     "execution_count": 83,
     "metadata": {},
     "output_type": "execute_result"
    }
   ],
   "source": [
    "report_xgb_rf"
   ]
  },
  {
   "cell_type": "code",
   "execution_count": 84,
   "metadata": {},
   "outputs": [
    {
     "data": {
      "text/plain": [
       "array([[13105,  6033],\n",
       "       [  774,  1183]], dtype=int64)"
      ]
     },
     "execution_count": 84,
     "metadata": {},
     "output_type": "execute_result"
    }
   ],
   "source": [
    "# Pring confusion matrix\n",
    "confusion_matrix(y_rf_test,y_pred_xgb_rf)"
   ]
  },
  {
   "cell_type": "code",
   "execution_count": 85,
   "metadata": {},
   "outputs": [
    {
     "name": "stdout",
     "output_type": "stream",
     "text": [
      "The AUC score of the training data is: 0.8017591431399097\n",
      "The AUC score of the tesing data is: 0.7069483176624312\n"
     ]
    }
   ],
   "source": [
    "print(\"The AUC score of the training data is:\",best_model_xgb_rf.score(X_rf_train,y_rf_train))\n",
    "print(\"The AUC score of the tesing data is:\",best_model_xgb_rf.score(X_rf_test,y_rf_test))"
   ]
  },
  {
   "cell_type": "code",
   "execution_count": 325,
   "metadata": {},
   "outputs": [
    {
     "ename": "NameError",
     "evalue": "name 'best_model_xgb_rf' is not defined",
     "output_type": "error",
     "traceback": [
      "\u001b[1;31m---------------------------------------------------------------------------\u001b[0m",
      "\u001b[1;31mNameError\u001b[0m                                 Traceback (most recent call last)",
      "\u001b[1;32m<ipython-input-325-14f809d93296>\u001b[0m in \u001b[0;36m<module>\u001b[1;34m\u001b[0m\n\u001b[1;32m----> 1\u001b[1;33m \u001b[0mscores_xgb_rf\u001b[0m \u001b[1;33m=\u001b[0m \u001b[0mpd\u001b[0m\u001b[1;33m.\u001b[0m\u001b[0mDataFrame\u001b[0m\u001b[1;33m(\u001b[0m\u001b[0mbest_model_xgb_rf\u001b[0m\u001b[1;33m.\u001b[0m\u001b[0mcv_results_\u001b[0m\u001b[1;33m)\u001b[0m\u001b[1;33m\u001b[0m\u001b[1;33m\u001b[0m\u001b[0m\n\u001b[0m\u001b[0;32m      2\u001b[0m \u001b[0mscores_xgb_rf\u001b[0m \u001b[1;33m=\u001b[0m \u001b[0mscores_xgb_rf\u001b[0m\u001b[1;33m.\u001b[0m\u001b[0msort_values\u001b[0m\u001b[1;33m(\u001b[0m\u001b[0mby\u001b[0m\u001b[1;33m=\u001b[0m\u001b[1;33m[\u001b[0m\u001b[1;34m'rank_test_score'\u001b[0m\u001b[1;33m]\u001b[0m\u001b[1;33m)\u001b[0m\u001b[1;33m.\u001b[0m\u001b[0mreset_index\u001b[0m\u001b[1;33m(\u001b[0m\u001b[0mdrop\u001b[0m\u001b[1;33m=\u001b[0m\u001b[1;34m'index'\u001b[0m\u001b[1;33m)\u001b[0m\u001b[1;33m\u001b[0m\u001b[1;33m\u001b[0m\u001b[0m\n\u001b[0;32m      3\u001b[0m \u001b[0mscores_xgb_rf\u001b[0m\u001b[1;33m.\u001b[0m\u001b[0mloc\u001b[0m\u001b[1;33m[\u001b[0m\u001b[1;36m0\u001b[0m\u001b[1;33m]\u001b[0m\u001b[1;33m\u001b[0m\u001b[1;33m\u001b[0m\u001b[0m\n",
      "\u001b[1;31mNameError\u001b[0m: name 'best_model_xgb_rf' is not defined"
     ]
    }
   ],
   "source": [
    "scores_xgb_rf = pd.DataFrame(best_model_xgb_rf.cv_results_)\n",
    "scores_xgb_rf = scores_xgb_rf.sort_values(by=['rank_test_score']).reset_index(drop='index')\n",
    "scores_xgb_rf.loc[0]"
   ]
  },
  {
   "cell_type": "code",
   "execution_count": 88,
   "metadata": {},
   "outputs": [],
   "source": [
    "# obtain positive class probabilities on X_filt_test\n",
    "y_pred_xgb_rf_probs = best_model_xgb_rf.best_estimator_.predict_proba(X_rf_test)\n",
    "xgb_rf_preds = y_pred_xgb_rf_probs[:,1]"
   ]
  },
  {
   "cell_type": "code",
   "execution_count": 89,
   "metadata": {},
   "outputs": [
    {
     "data": {
      "image/png": "[encoded data removed]",
      "text/plain": [
       "<Figure size 432x288 with 1 Axes>"
      ]
     },
     "metadata": {
      "needs_background": "light"
     },
     "output_type": "display_data"
    }
   ],
   "source": [
    "fpr, tpr, threshold = roc_curve(y_rf_test, xgb_rf_preds)\n",
    "roc_auc = auc(fpr, tpr)\n",
    "\n",
    "plt.title('ROC Curve Random Forest Features: XGBoost')\n",
    "plt.plot(fpr, tpr, 'b', label = 'AUC = %0.2f' % roc_auc)\n",
    "plt.legend(loc = 'lower right')\n",
    "plt.plot([0, 1], [0, 1],'r--')\n",
    "plt.xlim([0, 1])\n",
    "plt.ylim([0, 1])\n",
    "plt.ylabel('True Positive Rate')\n",
    "plt.xlabel('False Positive Rate')\n",
    "plt.show()"
   ]
  },
  {
   "cell_type": "markdown",
   "metadata": {},
   "source": [
    "### XGboost with PCA Features"
   ]
  },
  {
   "cell_type": "code",
   "execution_count": 90,
   "metadata": {},
   "outputs": [],
   "source": [
    "# Create a pipeline for PCA, need to include standard scaler\n",
    "xgb_pipe_pca = Pipeline([('imputer', SimpleImputer(missing_values=np.nan, strategy='median')),\n",
    "                       ('scaler',StandardScaler()),\n",
    "                       ('pca',PCA(n_components=175)),\n",
    "                       (\"clf\", XGBClassifier(objective='binary:logistic'))])"
   ]
  },
  {
   "cell_type": "code",
   "execution_count": 91,
   "metadata": {},
   "outputs": [],
   "source": [
    "# Set up parameter grid\n",
    "param_grid_xgb_pipe = [\n",
    "    { 'clf__n_estimators': [50,100,150,200],\n",
    "     'clf__learning_rate': [0.01,0.1,0.2,0.3],\n",
    "     'clf__max_depth': range(3,10),\n",
    "     'clf__colsample_bytree': [i/10 for i in range(1,3)],\n",
    "     'clf__gamma': [i/10 for i in range(3)],\n",
    "     'clf__scale_pos_weight': [8,9,10]\n",
    "    }]"
   ]
  },
  {
   "cell_type": "code",
   "execution_count": 92,
   "metadata": {},
   "outputs": [],
   "source": [
    "# Crate random search object\n",
    "random_search_xgb_pca = RandomizedSearchCV(xgb_pipe_pca, \n",
    "                                   param_distributions = param_grid_xgb_pipe, \n",
    "                                   cv=5, \n",
    "                                   verbose=0,\n",
    "                                   n_jobs=-1,\n",
    "                                   n_iter=25,\n",
    "                                   scoring='roc_auc')"
   ]
  },
  {
   "cell_type": "code",
   "execution_count": 93,
   "metadata": {},
   "outputs": [
    {
     "name": "stdout",
     "output_type": "stream",
     "text": [
      "Pipeline(steps=[('imputer', SimpleImputer(strategy='median')),\n",
      "                ('scaler', StandardScaler()), ('pca', PCA(n_components=175)),\n",
      "                ('clf',\n",
      "                 XGBClassifier(base_score=0.5, booster='gbtree',\n",
      "                               colsample_bylevel=1, colsample_bynode=1,\n",
      "                               colsample_bytree=0.1, gamma=0.2, gpu_id=-1,\n",
      "                               importance_type='gain',\n",
      "                               interaction_constraints='', learning_rate=0.1,\n",
      "                               max_delta_step=0, max_depth=3,\n",
      "                               min_child_weight=1, missing=nan,\n",
      "                               monotone_constraints='()', n_estimators=200,\n",
      "                               n_jobs=0, num_parallel_tree=1, random_state=0,\n",
      "                               reg_alpha=0, reg_lambda=1, scale_pos_weight=10,\n",
      "                               subsample=1, tree_method='exact',\n",
      "                               validate_parameters=1, verbosity=None))])\n",
      "The AUC score of the model is: 0.6862537502270174\n",
      "Wall time: 37min 46s\n"
     ]
    }
   ],
   "source": [
    "%%time\n",
    "# Fit random search object\n",
    "best_model_xgb_pca = random_search_xgb_pca.fit(X_all_train,y_all_train)\n",
    "# output best more and PR AUC score\n",
    "print(best_model_xgb_pca.best_estimator_)\n",
    "print(\"The AUC score of the model is:\",best_model_xgb_pca.score(X_all_test,y_all_test))"
   ]
  },
  {
   "cell_type": "code",
   "execution_count": 94,
   "metadata": {},
   "outputs": [],
   "source": [
    "# make predictions\n",
    "y_pred_xgb_pca = best_model_xgb_pca.best_estimator_.predict(X_all_test)\n",
    "\n",
    "#get classification report and convert to dataframe\n",
    "xgb_pca_report = classification_report(y_all_test,y_pred_xgb_pca,output_dict=True)\n",
    "report_xgb_pca = pd.DataFrame(xgb_pca_report).transpose()"
   ]
  },
  {
   "cell_type": "code",
   "execution_count": 95,
   "metadata": {},
   "outputs": [
    {
     "data": {
      "text/html": [
       "<div>\n",
       "<style scoped>\n",
       "    .dataframe tbody tr th:only-of-type {\n",
       "        vertical-align: middle;\n",
       "    }\n",
       "\n",
       "    .dataframe tbody tr th {\n",
       "        vertical-align: top;\n",
       "    }\n",
       "\n",
       "    .dataframe thead th {\n",
       "        text-align: right;\n",
       "    }\n",
       "</style>\n",
       "<table border=\"1\" class=\"dataframe\">\n",
       "  <thead>\n",
       "    <tr style=\"text-align: right;\">\n",
       "      <th></th>\n",
       "      <th>precision</th>\n",
       "      <th>recall</th>\n",
       "      <th>f1-score</th>\n",
       "      <th>support</th>\n",
       "    </tr>\n",
       "  </thead>\n",
       "  <tbody>\n",
       "    <tr>\n",
       "      <th>0</th>\n",
       "      <td>0.943954</td>\n",
       "      <td>0.642439</td>\n",
       "      <td>0.764543</td>\n",
       "      <td>19138.000000</td>\n",
       "    </tr>\n",
       "    <tr>\n",
       "      <th>1</th>\n",
       "      <td>0.152045</td>\n",
       "      <td>0.626980</td>\n",
       "      <td>0.244739</td>\n",
       "      <td>1957.000000</td>\n",
       "    </tr>\n",
       "    <tr>\n",
       "      <th>accuracy</th>\n",
       "      <td>0.641005</td>\n",
       "      <td>0.641005</td>\n",
       "      <td>0.641005</td>\n",
       "      <td>0.641005</td>\n",
       "    </tr>\n",
       "    <tr>\n",
       "      <th>macro avg</th>\n",
       "      <td>0.547999</td>\n",
       "      <td>0.634710</td>\n",
       "      <td>0.504641</td>\n",
       "      <td>21095.000000</td>\n",
       "    </tr>\n",
       "    <tr>\n",
       "      <th>weighted avg</th>\n",
       "      <td>0.870488</td>\n",
       "      <td>0.641005</td>\n",
       "      <td>0.716320</td>\n",
       "      <td>21095.000000</td>\n",
       "    </tr>\n",
       "  </tbody>\n",
       "</table>\n",
       "</div>"
      ],
      "text/plain": [
       "              precision    recall  f1-score       support\n",
       "0              0.943954  0.642439  0.764543  19138.000000\n",
       "1              0.152045  0.626980  0.244739   1957.000000\n",
       "accuracy       0.641005  0.641005  0.641005      0.641005\n",
       "macro avg      0.547999  0.634710  0.504641  21095.000000\n",
       "weighted avg   0.870488  0.641005  0.716320  21095.000000"
      ]
     },
     "execution_count": 95,
     "metadata": {},
     "output_type": "execute_result"
    }
   ],
   "source": [
    "report_xgb_pca"
   ]
  },
  {
   "cell_type": "code",
   "execution_count": 96,
   "metadata": {},
   "outputs": [
    {
     "data": {
      "text/plain": [
       "array([[12295,  6843],\n",
       "       [  730,  1227]], dtype=int64)"
      ]
     },
     "execution_count": 96,
     "metadata": {},
     "output_type": "execute_result"
    }
   ],
   "source": [
    "# Print confusion matrix\n",
    "confusion_matrix(y_all_test,y_pred_xgb_pca)"
   ]
  },
  {
   "cell_type": "code",
   "execution_count": 97,
   "metadata": {},
   "outputs": [
    {
     "name": "stdout",
     "output_type": "stream",
     "text": [
      "The AUC score of the training data is: 0.7605141656302169\n",
      "The AUC score of the tesing data is: 0.6862537502270174\n"
     ]
    }
   ],
   "source": [
    "print(\"The AUC score of the training data is:\",best_model_xgb_pca.score(X_all_train,y_all_train))\n",
    "print(\"The AUC score of the tesing data is:\",best_model_xgb_pca.score(X_all_test,y_all_test))"
   ]
  },
  {
   "cell_type": "code",
   "execution_count": 100,
   "metadata": {},
   "outputs": [
    {
     "data": {
      "text/html": [
       "<div>\n",
       "<style scoped>\n",
       "    .dataframe tbody tr th:only-of-type {\n",
       "        vertical-align: middle;\n",
       "    }\n",
       "\n",
       "    .dataframe tbody tr th {\n",
       "        vertical-align: top;\n",
       "    }\n",
       "\n",
       "    .dataframe thead th {\n",
       "        text-align: right;\n",
       "    }\n",
       "</style>\n",
       "<table border=\"1\" class=\"dataframe\">\n",
       "  <thead>\n",
       "    <tr style=\"text-align: right;\">\n",
       "      <th></th>\n",
       "      <th>mean_fit_time</th>\n",
       "      <th>std_fit_time</th>\n",
       "      <th>mean_score_time</th>\n",
       "      <th>std_score_time</th>\n",
       "      <th>param_scale_pos_weight</th>\n",
       "      <th>param_n_estimators</th>\n",
       "      <th>param_max_depth</th>\n",
       "      <th>param_learning_rate</th>\n",
       "      <th>param_gamma</th>\n",
       "      <th>param_colsample_bytree</th>\n",
       "      <th>params</th>\n",
       "      <th>split0_test_score</th>\n",
       "      <th>split1_test_score</th>\n",
       "      <th>split2_test_score</th>\n",
       "      <th>split3_test_score</th>\n",
       "      <th>split4_test_score</th>\n",
       "      <th>mean_test_score</th>\n",
       "      <th>std_test_score</th>\n",
       "      <th>rank_test_score</th>\n",
       "    </tr>\n",
       "  </thead>\n",
       "  <tbody>\n",
       "    <tr>\n",
       "      <th>0</th>\n",
       "      <td>188.509983</td>\n",
       "      <td>1.030054</td>\n",
       "      <td>0.622753</td>\n",
       "      <td>0.019628</td>\n",
       "      <td>9</td>\n",
       "      <td>150</td>\n",
       "      <td>4</td>\n",
       "      <td>0.1</td>\n",
       "      <td>0.1</td>\n",
       "      <td>0.2</td>\n",
       "      <td>{'scale_pos_weight': 9, 'n_estimators': 150, '...</td>\n",
       "      <td>0.716498</td>\n",
       "      <td>0.711527</td>\n",
       "      <td>0.711351</td>\n",
       "      <td>0.698790</td>\n",
       "      <td>0.729464</td>\n",
       "      <td>0.713526</td>\n",
       "      <td>0.009887</td>\n",
       "      <td>1</td>\n",
       "    </tr>\n",
       "    <tr>\n",
       "      <th>1</th>\n",
       "      <td>105.497264</td>\n",
       "      <td>1.168407</td>\n",
       "      <td>0.535369</td>\n",
       "      <td>0.005255</td>\n",
       "      <td>8</td>\n",
       "      <td>200</td>\n",
       "      <td>3</td>\n",
       "      <td>0.2</td>\n",
       "      <td>0.1</td>\n",
       "      <td>0.1</td>\n",
       "      <td>{'scale_pos_weight': 8, 'n_estimators': 200, '...</td>\n",
       "      <td>0.713564</td>\n",
       "      <td>0.707604</td>\n",
       "      <td>0.711671</td>\n",
       "      <td>0.699304</td>\n",
       "      <td>0.721851</td>\n",
       "      <td>0.710799</td>\n",
       "      <td>0.007388</td>\n",
       "      <td>2</td>\n",
       "    </tr>\n",
       "    <tr>\n",
       "      <th>2</th>\n",
       "      <td>114.358965</td>\n",
       "      <td>0.590543</td>\n",
       "      <td>0.492883</td>\n",
       "      <td>0.014417</td>\n",
       "      <td>10</td>\n",
       "      <td>100</td>\n",
       "      <td>4</td>\n",
       "      <td>0.1</td>\n",
       "      <td>0.1</td>\n",
       "      <td>0.2</td>\n",
       "      <td>{'scale_pos_weight': 10, 'n_estimators': 100, ...</td>\n",
       "      <td>0.714065</td>\n",
       "      <td>0.709850</td>\n",
       "      <td>0.707131</td>\n",
       "      <td>0.698354</td>\n",
       "      <td>0.723681</td>\n",
       "      <td>0.710616</td>\n",
       "      <td>0.008315</td>\n",
       "      <td>3</td>\n",
       "    </tr>\n",
       "    <tr>\n",
       "      <th>3</th>\n",
       "      <td>88.429908</td>\n",
       "      <td>1.136532</td>\n",
       "      <td>0.470542</td>\n",
       "      <td>0.009740</td>\n",
       "      <td>10</td>\n",
       "      <td>100</td>\n",
       "      <td>3</td>\n",
       "      <td>0.1</td>\n",
       "      <td>0</td>\n",
       "      <td>0.2</td>\n",
       "      <td>{'scale_pos_weight': 10, 'n_estimators': 100, ...</td>\n",
       "      <td>0.710810</td>\n",
       "      <td>0.709072</td>\n",
       "      <td>0.708178</td>\n",
       "      <td>0.694217</td>\n",
       "      <td>0.726825</td>\n",
       "      <td>0.709821</td>\n",
       "      <td>0.010362</td>\n",
       "      <td>4</td>\n",
       "    </tr>\n",
       "    <tr>\n",
       "      <th>4</th>\n",
       "      <td>87.714820</td>\n",
       "      <td>1.182147</td>\n",
       "      <td>0.463162</td>\n",
       "      <td>0.023547</td>\n",
       "      <td>10</td>\n",
       "      <td>100</td>\n",
       "      <td>3</td>\n",
       "      <td>0.3</td>\n",
       "      <td>0.2</td>\n",
       "      <td>0.2</td>\n",
       "      <td>{'scale_pos_weight': 10, 'n_estimators': 100, ...</td>\n",
       "      <td>0.709511</td>\n",
       "      <td>0.704987</td>\n",
       "      <td>0.701543</td>\n",
       "      <td>0.693202</td>\n",
       "      <td>0.718561</td>\n",
       "      <td>0.705561</td>\n",
       "      <td>0.008412</td>\n",
       "      <td>5</td>\n",
       "    </tr>\n",
       "    <tr>\n",
       "      <th>5</th>\n",
       "      <td>92.870442</td>\n",
       "      <td>15.549983</td>\n",
       "      <td>0.459814</td>\n",
       "      <td>0.111425</td>\n",
       "      <td>10</td>\n",
       "      <td>50</td>\n",
       "      <td>6</td>\n",
       "      <td>0.1</td>\n",
       "      <td>0</td>\n",
       "      <td>0.2</td>\n",
       "      <td>{'scale_pos_weight': 10, 'n_estimators': 50, '...</td>\n",
       "      <td>0.703040</td>\n",
       "      <td>0.703944</td>\n",
       "      <td>0.698986</td>\n",
       "      <td>0.687240</td>\n",
       "      <td>0.716303</td>\n",
       "      <td>0.701903</td>\n",
       "      <td>0.009341</td>\n",
       "      <td>6</td>\n",
       "    </tr>\n",
       "    <tr>\n",
       "      <th>6</th>\n",
       "      <td>141.861813</td>\n",
       "      <td>1.716942</td>\n",
       "      <td>0.716884</td>\n",
       "      <td>0.017554</td>\n",
       "      <td>10</td>\n",
       "      <td>150</td>\n",
       "      <td>6</td>\n",
       "      <td>0.1</td>\n",
       "      <td>0</td>\n",
       "      <td>0.1</td>\n",
       "      <td>{'scale_pos_weight': 10, 'n_estimators': 150, ...</td>\n",
       "      <td>0.699748</td>\n",
       "      <td>0.701320</td>\n",
       "      <td>0.700043</td>\n",
       "      <td>0.688653</td>\n",
       "      <td>0.715011</td>\n",
       "      <td>0.700955</td>\n",
       "      <td>0.008383</td>\n",
       "      <td>7</td>\n",
       "    </tr>\n",
       "    <tr>\n",
       "      <th>7</th>\n",
       "      <td>47.493785</td>\n",
       "      <td>0.608058</td>\n",
       "      <td>0.423468</td>\n",
       "      <td>0.012370</td>\n",
       "      <td>9</td>\n",
       "      <td>50</td>\n",
       "      <td>3</td>\n",
       "      <td>0.1</td>\n",
       "      <td>0.2</td>\n",
       "      <td>0.2</td>\n",
       "      <td>{'scale_pos_weight': 9, 'n_estimators': 50, 'm...</td>\n",
       "      <td>0.699139</td>\n",
       "      <td>0.701258</td>\n",
       "      <td>0.695857</td>\n",
       "      <td>0.683586</td>\n",
       "      <td>0.718433</td>\n",
       "      <td>0.699655</td>\n",
       "      <td>0.011208</td>\n",
       "      <td>8</td>\n",
       "    </tr>\n",
       "    <tr>\n",
       "      <th>8</th>\n",
       "      <td>46.709682</td>\n",
       "      <td>0.604802</td>\n",
       "      <td>0.415689</td>\n",
       "      <td>0.007202</td>\n",
       "      <td>8</td>\n",
       "      <td>50</td>\n",
       "      <td>3</td>\n",
       "      <td>0.1</td>\n",
       "      <td>0.2</td>\n",
       "      <td>0.2</td>\n",
       "      <td>{'scale_pos_weight': 8, 'n_estimators': 50, 'm...</td>\n",
       "      <td>0.698691</td>\n",
       "      <td>0.701878</td>\n",
       "      <td>0.695111</td>\n",
       "      <td>0.683731</td>\n",
       "      <td>0.717964</td>\n",
       "      <td>0.699475</td>\n",
       "      <td>0.011092</td>\n",
       "      <td>9</td>\n",
       "    </tr>\n",
       "    <tr>\n",
       "      <th>9</th>\n",
       "      <td>81.531357</td>\n",
       "      <td>1.156946</td>\n",
       "      <td>0.551327</td>\n",
       "      <td>0.013623</td>\n",
       "      <td>9</td>\n",
       "      <td>100</td>\n",
       "      <td>5</td>\n",
       "      <td>0.2</td>\n",
       "      <td>0.1</td>\n",
       "      <td>0.1</td>\n",
       "      <td>{'scale_pos_weight': 9, 'n_estimators': 100, '...</td>\n",
       "      <td>0.696180</td>\n",
       "      <td>0.695086</td>\n",
       "      <td>0.703620</td>\n",
       "      <td>0.688868</td>\n",
       "      <td>0.711274</td>\n",
       "      <td>0.699006</td>\n",
       "      <td>0.007719</td>\n",
       "      <td>10</td>\n",
       "    </tr>\n",
       "  </tbody>\n",
       "</table>\n",
       "</div>"
      ],
      "text/plain": [
       "   mean_fit_time  std_fit_time  mean_score_time  std_score_time  \\\n",
       "0     188.509983      1.030054         0.622753        0.019628   \n",
       "1     105.497264      1.168407         0.535369        0.005255   \n",
       "2     114.358965      0.590543         0.492883        0.014417   \n",
       "3      88.429908      1.136532         0.470542        0.009740   \n",
       "4      87.714820      1.182147         0.463162        0.023547   \n",
       "5      92.870442     15.549983         0.459814        0.111425   \n",
       "6     141.861813      1.716942         0.716884        0.017554   \n",
       "7      47.493785      0.608058         0.423468        0.012370   \n",
       "8      46.709682      0.604802         0.415689        0.007202   \n",
       "9      81.531357      1.156946         0.551327        0.013623   \n",
       "\n",
       "  param_scale_pos_weight param_n_estimators param_max_depth  \\\n",
       "0                      9                150               4   \n",
       "1                      8                200               3   \n",
       "2                     10                100               4   \n",
       "3                     10                100               3   \n",
       "4                     10                100               3   \n",
       "5                     10                 50               6   \n",
       "6                     10                150               6   \n",
       "7                      9                 50               3   \n",
       "8                      8                 50               3   \n",
       "9                      9                100               5   \n",
       "\n",
       "  param_learning_rate param_gamma param_colsample_bytree  \\\n",
       "0                 0.1         0.1                    0.2   \n",
       "1                 0.2         0.1                    0.1   \n",
       "2                 0.1         0.1                    0.2   \n",
       "3                 0.1           0                    0.2   \n",
       "4                 0.3         0.2                    0.2   \n",
       "5                 0.1           0                    0.2   \n",
       "6                 0.1           0                    0.1   \n",
       "7                 0.1         0.2                    0.2   \n",
       "8                 0.1         0.2                    0.2   \n",
       "9                 0.2         0.1                    0.1   \n",
       "\n",
       "                                              params  split0_test_score  \\\n",
       "0  {'scale_pos_weight': 9, 'n_estimators': 150, '...           0.716498   \n",
       "1  {'scale_pos_weight': 8, 'n_estimators': 200, '...           0.713564   \n",
       "2  {'scale_pos_weight': 10, 'n_estimators': 100, ...           0.714065   \n",
       "3  {'scale_pos_weight': 10, 'n_estimators': 100, ...           0.710810   \n",
       "4  {'scale_pos_weight': 10, 'n_estimators': 100, ...           0.709511   \n",
       "5  {'scale_pos_weight': 10, 'n_estimators': 50, '...           0.703040   \n",
       "6  {'scale_pos_weight': 10, 'n_estimators': 150, ...           0.699748   \n",
       "7  {'scale_pos_weight': 9, 'n_estimators': 50, 'm...           0.699139   \n",
       "8  {'scale_pos_weight': 8, 'n_estimators': 50, 'm...           0.698691   \n",
       "9  {'scale_pos_weight': 9, 'n_estimators': 100, '...           0.696180   \n",
       "\n",
       "   split1_test_score  split2_test_score  split3_test_score  split4_test_score  \\\n",
       "0           0.711527           0.711351           0.698790           0.729464   \n",
       "1           0.707604           0.711671           0.699304           0.721851   \n",
       "2           0.709850           0.707131           0.698354           0.723681   \n",
       "3           0.709072           0.708178           0.694217           0.726825   \n",
       "4           0.704987           0.701543           0.693202           0.718561   \n",
       "5           0.703944           0.698986           0.687240           0.716303   \n",
       "6           0.701320           0.700043           0.688653           0.715011   \n",
       "7           0.701258           0.695857           0.683586           0.718433   \n",
       "8           0.701878           0.695111           0.683731           0.717964   \n",
       "9           0.695086           0.703620           0.688868           0.711274   \n",
       "\n",
       "   mean_test_score  std_test_score  rank_test_score  \n",
       "0         0.713526        0.009887                1  \n",
       "1         0.710799        0.007388                2  \n",
       "2         0.710616        0.008315                3  \n",
       "3         0.709821        0.010362                4  \n",
       "4         0.705561        0.008412                5  \n",
       "5         0.701903        0.009341                6  \n",
       "6         0.700955        0.008383                7  \n",
       "7         0.699655        0.011208                8  \n",
       "8         0.699475        0.011092                9  \n",
       "9         0.699006        0.007719               10  "
      ]
     },
     "execution_count": 100,
     "metadata": {},
     "output_type": "execute_result"
    }
   ],
   "source": [
    "scores_xgb_pca= pd.DataFrame(best_model_xgb_pca.cv_results_)\n",
    "scores_xgb_pca = scores_rf.sort_values(by=['rank_test_score']).reset_index(drop='index')\n",
    "scores_xgb_pca.head(10)"
   ]
  },
  {
   "cell_type": "code",
   "execution_count": 101,
   "metadata": {},
   "outputs": [],
   "source": [
    "# obtain positive class probabilities on X_filt_test\n",
    "y_pred_xgb_pca_probs = best_model_xgb_pca.best_estimator_.predict_proba(X_all_test)\n",
    "xgb_pca_preds = y_pred_xgb_pca_probs[:,1]"
   ]
  },
  {
   "cell_type": "code",
   "execution_count": 102,
   "metadata": {},
   "outputs": [
    {
     "data": {
      "image/png": "[encoded data removed]",
      "text/plain": [
       "<Figure size 432x288 with 1 Axes>"
      ]
     },
     "metadata": {
      "needs_background": "light"
     },
     "output_type": "display_data"
    }
   ],
   "source": [
    "fpr, tpr, threshold = roc_curve(y_all_test, xgb_pca_preds)\n",
    "roc_auc = auc(fpr, tpr)\n",
    "\n",
    "plt.title('ROC Curve PCA Features: XGBoost')\n",
    "plt.plot(fpr, tpr, 'b', label = 'AUC = %0.2f' % roc_auc)\n",
    "plt.legend(loc = 'lower right')\n",
    "plt.plot([0, 1], [0, 1],'r--')\n",
    "plt.xlim([0, 1])\n",
    "plt.ylim([0, 1])\n",
    "plt.ylabel('True Positive Rate')\n",
    "plt.xlabel('False Positive Rate')\n",
    "plt.show()"
   ]
  },
  {
   "cell_type": "markdown",
   "metadata": {},
   "source": [
    "## Selecting Model for Further Tuning\n",
    "\n",
    "Thus far 4 separate algorithms were trained on 3 different data sets: logistic regression, random forest, adaboost and xgboost.  The hyper-parameters for each model and dataset are trained via a randomized search with 5 fold cross validation and 25 interations. In each case, the train data scored slightly better than the test data suggesting some overfitting to the training data.  The largest discrepency between train and test scores occurs in the xgboost model when using the random forest selected features, with a train and test score of .801 and .706, respectively.  This configuration also yields the best test and training accuracy, so we select the xgboost model with the random forest features for further tuning.   "
   ]
  },
  {
   "cell_type": "code",
   "execution_count": 277,
   "metadata": {},
   "outputs": [],
   "source": [
    " clf_xgb = XGBClassifier(objective='binary:logistic',\n",
    "                         base_score=0.5, booster='gbtree', colsample_bylevel=.75,\n",
    "                         colsample_bynode=.3, colsample_bytree=0.2, gamma=0.1, gpu_id=-1,\n",
    "                         importance_type='gain',\n",
    "                         learning_rate=0.001, max_delta_step=0, max_depth=4,\n",
    "                         min_child_weight=15, missing=np.nan, \n",
    "                         n_estimators=200, n_jobs=0, num_parallel_tree=1, random_state=0,\n",
    "                         reg_alpha=0, reg_lambda=20, scale_pos_weight=9, subsample=.75,\n",
    "                         tree_method='exact', validate_parameters=1, verbosity=None,\n",
    "                                              )"
   ]
  },
  {
   "cell_type": "code",
   "execution_count": 278,
   "metadata": {},
   "outputs": [
    {
     "data": {
      "text/plain": [
       "XGBClassifier(base_score=0.5, booster='gbtree', colsample_bylevel=0.75,\n",
       "              colsample_bynode=0.3, colsample_bytree=0.2, gamma=0.1, gpu_id=-1,\n",
       "              importance_type='gain', interaction_constraints='',\n",
       "              learning_rate=0.001, max_delta_step=0, max_depth=4,\n",
       "              min_child_weight=15, missing=nan, monotone_constraints='()',\n",
       "              n_estimators=200, n_jobs=0, num_parallel_tree=1, random_state=0,\n",
       "              reg_alpha=0, reg_lambda=20, scale_pos_weight=9, subsample=0.75,\n",
       "              tree_method='exact', validate_parameters=1, verbosity=None)"
      ]
     },
     "execution_count": 278,
     "metadata": {},
     "output_type": "execute_result"
    }
   ],
   "source": [
    "clf_xgb.fit(X_rf_train,y_rf_train)"
   ]
  },
  {
   "cell_type": "code",
   "execution_count": 279,
   "metadata": {},
   "outputs": [],
   "source": [
    "train_preds = clf_xgb.predict(X_rf_train)\n",
    "test_preds = clf_xgb.predict(X_rf_test)"
   ]
  },
  {
   "cell_type": "code",
   "execution_count": 280,
   "metadata": {},
   "outputs": [
    {
     "data": {
      "text/plain": [
       "array([[48628, 27922],\n",
       "       [ 2935,  4891]], dtype=int64)"
      ]
     },
     "execution_count": 280,
     "metadata": {},
     "output_type": "execute_result"
    }
   ],
   "source": [
    "confusion_matrix(y_rf_train,train_preds)"
   ]
  },
  {
   "cell_type": "code",
   "execution_count": 281,
   "metadata": {},
   "outputs": [
    {
     "data": {
      "text/plain": [
       "array([[12262,  6876],\n",
       "       [  758,  1199]], dtype=int64)"
      ]
     },
     "execution_count": 281,
     "metadata": {},
     "output_type": "execute_result"
    }
   ],
   "source": [
    "confusion_matrix(y_rf_test,test_preds)"
   ]
  },
  {
   "cell_type": "code",
   "execution_count": 282,
   "metadata": {},
   "outputs": [
    {
     "name": "stdout",
     "output_type": "stream",
     "text": [
      "The AUC score of the training data is: 0.6301064965748332\n",
      "The AUC score of the tesing data is: 0.6266936330392817\n"
     ]
    }
   ],
   "source": [
    "print(\"The AUC score of the training data is:\",roc_auc_score(y_rf_train,train_preds))\n",
    "print(\"The AUC score of the tesing data is:\",roc_auc_score(y_rf_test,test_preds))"
   ]
  },
  {
   "cell_type": "code",
   "execution_count": 283,
   "metadata": {},
   "outputs": [],
   "source": [
    "test_probs = clf_xgb.predict_proba(X_rf_test)\n",
    "xgb_test_prob = test_probs[:,1]"
   ]
  },
  {
   "cell_type": "code",
   "execution_count": 285,
   "metadata": {},
   "outputs": [
    {
     "data": {
      "image/png": "[encoded data removed]",
      "text/plain": [
       "<Figure size 432x288 with 1 Axes>"
      ]
     },
     "metadata": {
      "needs_background": "light"
     },
     "output_type": "display_data"
    }
   ],
   "source": [
    "fpr, tpr, threshold = roc_curve(y_rf_test, xgb_test_prob)\n",
    "roc_auc = auc(fpr, tpr)\n",
    "\n",
    "plt.title('ROC Curve PCA Features: XGBoost')\n",
    "plt.plot(fpr, tpr, 'b', label = 'AUC = %0.2f' % roc_auc)\n",
    "#plt.legend(loc = 'lower right')\n",
    "plt.plot([0, 1], [0, 1],'r--')\n",
    "plt.xlim([0, 1])\n",
    "plt.ylim([0, 1])\n",
    "plt.ylabel('True Positive Rate')\n",
    "plt.xlabel('False Positive Rate')\n",
    "plt.show()"
   ]
  },
  {
   "cell_type": "code",
   "execution_count": 350,
   "metadata": {},
   "outputs": [
    {
     "data": {
      "text/html": [
       "<div>\n",
       "<style scoped>\n",
       "    .dataframe tbody tr th:only-of-type {\n",
       "        vertical-align: middle;\n",
       "    }\n",
       "\n",
       "    .dataframe tbody tr th {\n",
       "        vertical-align: top;\n",
       "    }\n",
       "\n",
       "    .dataframe thead th {\n",
       "        text-align: right;\n",
       "    }\n",
       "</style>\n",
       "<table border=\"1\" class=\"dataframe\">\n",
       "  <thead>\n",
       "    <tr style=\"text-align: right;\">\n",
       "      <th></th>\n",
       "      <th>precision</th>\n",
       "      <th>recall</th>\n",
       "      <th>f1-score</th>\n",
       "      <th>support</th>\n",
       "    </tr>\n",
       "  </thead>\n",
       "  <tbody>\n",
       "    <tr>\n",
       "      <th>0</th>\n",
       "      <td>0.941782</td>\n",
       "      <td>0.640715</td>\n",
       "      <td>0.762610</td>\n",
       "      <td>19138.000000</td>\n",
       "    </tr>\n",
       "    <tr>\n",
       "      <th>1</th>\n",
       "      <td>0.148483</td>\n",
       "      <td>0.612672</td>\n",
       "      <td>0.239035</td>\n",
       "      <td>1957.000000</td>\n",
       "    </tr>\n",
       "    <tr>\n",
       "      <th>accuracy</th>\n",
       "      <td>0.638113</td>\n",
       "      <td>0.638113</td>\n",
       "      <td>0.638113</td>\n",
       "      <td>0.638113</td>\n",
       "    </tr>\n",
       "    <tr>\n",
       "      <th>macro avg</th>\n",
       "      <td>0.545132</td>\n",
       "      <td>0.626694</td>\n",
       "      <td>0.500822</td>\n",
       "      <td>21095.000000</td>\n",
       "    </tr>\n",
       "    <tr>\n",
       "      <th>weighted avg</th>\n",
       "      <td>0.868187</td>\n",
       "      <td>0.638113</td>\n",
       "      <td>0.714037</td>\n",
       "      <td>21095.000000</td>\n",
       "    </tr>\n",
       "  </tbody>\n",
       "</table>\n",
       "</div>"
      ],
      "text/plain": [
       "              precision    recall  f1-score       support\n",
       "0              0.941782  0.640715  0.762610  19138.000000\n",
       "1              0.148483  0.612672  0.239035   1957.000000\n",
       "accuracy       0.638113  0.638113  0.638113      0.638113\n",
       "macro avg      0.545132  0.626694  0.500822  21095.000000\n",
       "weighted avg   0.868187  0.638113  0.714037  21095.000000"
      ]
     },
     "execution_count": 350,
     "metadata": {},
     "output_type": "execute_result"
    }
   ],
   "source": [
    "xgb_final = classification_report(y_rf_test,test_preds,output_dict=True)\n",
    "report_xgb_final = pd.DataFrame(xgb_final).transpose()\n",
    "report_xgb_final"
   ]
  },
  {
   "cell_type": "code",
   "execution_count": 351,
   "metadata": {},
   "outputs": [
    {
     "data": {
      "text/plain": [
       "array([[12262,  6876],\n",
       "       [  758,  1199]], dtype=int64)"
      ]
     },
     "execution_count": 351,
     "metadata": {},
     "output_type": "execute_result"
    }
   ],
   "source": [
    "confusion_matrix(y_rf_test,test_preds)"
   ]
  },
  {
   "cell_type": "markdown",
   "metadata": {},
   "source": [
    "### SMOTE: Under-sampling"
   ]
  },
  {
   "cell_type": "code",
   "execution_count": 125,
   "metadata": {},
   "outputs": [],
   "source": [
    "#function to plot roc curve\n",
    "def plot_roc(y_test,y_pred,title):\n",
    "    \n",
    "    fpr, tpr, threshold = roc_curve(y_test, y_pred)\n",
    "    roc_auc = auc(fpr, tpr)\n",
    "\n",
    "    plt.title(title)\n",
    "    plt.plot(fpr, tpr, 'b', label = 'AUC = %0.2f' % roc_auc)\n",
    "    #plt.legend(loc = 'lower right')\n",
    "    plt.plot([0, 1], [0, 1],'r--')\n",
    "    plt.xlim([0, 1])\n",
    "    plt.ylim([0, 1])\n",
    "    plt.ylabel('True Positive Rate')\n",
    "    plt.xlabel('False Positive Rate')\n",
    "    plt.show()"
   ]
  },
  {
   "cell_type": "code",
   "execution_count": 127,
   "metadata": {},
   "outputs": [],
   "source": [
    "from imblearn.pipeline import Pipeline\n",
    "from imblearn.over_sampling import SMOTE\n",
    "from imblearn.under_sampling import RandomUnderSampler\n",
    "from imblearn.metrics import classification_report_imbalanced, sensitivity_score, specificity_score"
   ]
  },
  {
   "cell_type": "code",
   "execution_count": 80,
   "metadata": {},
   "outputs": [],
   "source": [
    "model = Pipeline([('imputer', SimpleImputer(missing_values=np.nan, strategy='median')),\n",
    "        ('sampling', RandomUnderSampler(sampling_strategy=0.5)),\n",
    "        ('classification', XGBClassifier(objective='binary:logistic'))])"
   ]
  },
  {
   "cell_type": "code",
   "execution_count": 81,
   "metadata": {},
   "outputs": [],
   "source": [
    "param_grid_xgb = [\n",
    "    {'classification__n_estimators': [50,100,150,200],\n",
    "     'classification__learning_rate': [0.01,0.1,0.2,0.3],\n",
    "     'classification__max_depth': range(3,10),\n",
    "     'classification__colsample_bytree': [i/10 for i in range(1,3)],\n",
    "     'classification__gamma': [i/10 for i in range(3)],\n",
    "     'classification__scale_pos_weight': [8,9,10],\n",
    "     'classification__reg_alpha': [1,5,10,15,20],\n",
    "     'classification__reg_lambda':[1,5,10,15,20]\n",
    "    }]"
   ]
  },
  {
   "cell_type": "code",
   "execution_count": 82,
   "metadata": {},
   "outputs": [],
   "source": [
    "# create a random_search of the pipeline, to find optimal the best model\n",
    "random_search = RandomizedSearchCV(model, \n",
    "                                   param_distributions = param_grid_xgb, \n",
    "                                   cv=5, \n",
    "                                   verbose=0,\n",
    "                                   n_jobs=-1,\n",
    "                                   n_iter=10,\n",
    "                                   scoring='roc_auc')"
   ]
  },
  {
   "cell_type": "code",
   "execution_count": 83,
   "metadata": {},
   "outputs": [
    {
     "name": "stdout",
     "output_type": "stream",
     "text": [
      "Pipeline(steps=[('imputer', SimpleImputer(strategy='median')),\n",
      "                ('sampling', RandomUnderSampler(sampling_strategy=0.5)),\n",
      "                ('classification',\n",
      "                 XGBClassifier(base_score=0.5, booster='gbtree',\n",
      "                               colsample_bylevel=1, colsample_bynode=1,\n",
      "                               colsample_bytree=0.2, gamma=0.1, gpu_id=-1,\n",
      "                               importance_type='gain',\n",
      "                               interaction_constraints='', learning_rate=0.2,\n",
      "                               max_delta_step=0, max_depth=4,\n",
      "                               min_child_weight=1, missing=nan,\n",
      "                               monotone_constraints='()', n_estimators=100,\n",
      "                               n_jobs=0, num_parallel_tree=1, random_state=0,\n",
      "                               reg_alpha=5, reg_lambda=20, scale_pos_weight=10,\n",
      "                               subsample=1, tree_method='exact',\n",
      "                               validate_parameters=1, verbosity=None))])\n",
      "The AUC score of the model is: 0.6996112013900276\n",
      "Wall time: 4min 12s\n"
     ]
    }
   ],
   "source": [
    "%%time\n",
    "# Fit random search object\n",
    "smote_model = random_search.fit(X_rf_train,y_rf_train)\n",
    "# output best more and PR AUC score\n",
    "print(smote_model.best_estimator_)\n",
    "print(\"The AUC score of the model is:\",smote_model.score(X_rf_test,y_rf_test))"
   ]
  },
  {
   "cell_type": "code",
   "execution_count": 84,
   "metadata": {},
   "outputs": [],
   "source": [
    "test_predz = smote_model.predict_proba(X_rf_test)\n",
    "smote_test_prob = test_predz[:,1]"
   ]
  },
  {
   "cell_type": "code",
   "execution_count": 126,
   "metadata": {},
   "outputs": [
    {
     "data": {
      "image/png": "[encoded data removed]",
      "text/plain": [
       "<Figure size 432x288 with 1 Axes>"
      ]
     },
     "metadata": {
      "needs_background": "light"
     },
     "output_type": "display_data"
    }
   ],
   "source": [
    "plot_roc(y_rf_test,smote_test_over_prob,'ROC Curve rf Features: SMOTE under-sampling | XGBoost')"
   ]
  },
  {
   "cell_type": "code",
   "execution_count": 86,
   "metadata": {},
   "outputs": [],
   "source": [
    "test_predz_smote = smote_model.predict(X_rf_test)\n",
    "train_predz_smote = smote_model.predict(X_rf_train)"
   ]
  },
  {
   "cell_type": "code",
   "execution_count": 87,
   "metadata": {},
   "outputs": [
    {
     "data": {
      "text/plain": [
       "array([[ 3637, 15501],\n",
       "       [   67,  1890]], dtype=int64)"
      ]
     },
     "execution_count": 87,
     "metadata": {},
     "output_type": "execute_result"
    }
   ],
   "source": [
    "confusion_matrix(y_rf_test,test_predz_smote)"
   ]
  },
  {
   "cell_type": "code",
   "execution_count": 88,
   "metadata": {},
   "outputs": [
    {
     "name": "stdout",
     "output_type": "stream",
     "text": [
      "0.5971301242921858\n",
      "0.577902340491964\n"
     ]
    }
   ],
   "source": [
    "print(roc_auc_score(y_rf_train,train_predz_smote))\n",
    "print(roc_auc_score(y_rf_test,test_predz_smote))"
   ]
  },
  {
   "cell_type": "code",
   "execution_count": 90,
   "metadata": {},
   "outputs": [
    {
     "data": {
      "text/html": [
       "<div>\n",
       "<style scoped>\n",
       "    .dataframe tbody tr th:only-of-type {\n",
       "        vertical-align: middle;\n",
       "    }\n",
       "\n",
       "    .dataframe tbody tr th {\n",
       "        vertical-align: top;\n",
       "    }\n",
       "\n",
       "    .dataframe thead th {\n",
       "        text-align: right;\n",
       "    }\n",
       "</style>\n",
       "<table border=\"1\" class=\"dataframe\">\n",
       "  <thead>\n",
       "    <tr style=\"text-align: right;\">\n",
       "      <th></th>\n",
       "      <th>precision</th>\n",
       "      <th>recall</th>\n",
       "      <th>f1-score</th>\n",
       "      <th>support</th>\n",
       "    </tr>\n",
       "  </thead>\n",
       "  <tbody>\n",
       "    <tr>\n",
       "      <th>0</th>\n",
       "      <td>0.981911</td>\n",
       "      <td>0.190041</td>\n",
       "      <td>0.318448</td>\n",
       "      <td>19138.000000</td>\n",
       "    </tr>\n",
       "    <tr>\n",
       "      <th>1</th>\n",
       "      <td>0.108677</td>\n",
       "      <td>0.965764</td>\n",
       "      <td>0.195369</td>\n",
       "      <td>1957.000000</td>\n",
       "    </tr>\n",
       "    <tr>\n",
       "      <th>accuracy</th>\n",
       "      <td>0.262005</td>\n",
       "      <td>0.262005</td>\n",
       "      <td>0.262005</td>\n",
       "      <td>0.262005</td>\n",
       "    </tr>\n",
       "    <tr>\n",
       "      <th>macro avg</th>\n",
       "      <td>0.545294</td>\n",
       "      <td>0.577902</td>\n",
       "      <td>0.256909</td>\n",
       "      <td>21095.000000</td>\n",
       "    </tr>\n",
       "    <tr>\n",
       "      <th>weighted avg</th>\n",
       "      <td>0.900901</td>\n",
       "      <td>0.262005</td>\n",
       "      <td>0.307030</td>\n",
       "      <td>21095.000000</td>\n",
       "    </tr>\n",
       "  </tbody>\n",
       "</table>\n",
       "</div>"
      ],
      "text/plain": [
       "              precision    recall  f1-score       support\n",
       "0              0.981911  0.190041  0.318448  19138.000000\n",
       "1              0.108677  0.965764  0.195369   1957.000000\n",
       "accuracy       0.262005  0.262005  0.262005      0.262005\n",
       "macro avg      0.545294  0.577902  0.256909  21095.000000\n",
       "weighted avg   0.900901  0.262005  0.307030  21095.000000"
      ]
     },
     "execution_count": 90,
     "metadata": {},
     "output_type": "execute_result"
    }
   ],
   "source": [
    "smote_final = classification_report(y_rf_test,test_predz_smote,output_dict=True)\n",
    "report_smote_final = pd.DataFrame(smote_final).transpose()\n",
    "report_smote_final"
   ]
  },
  {
   "cell_type": "code",
   "execution_count": 79,
   "metadata": {},
   "outputs": [],
   "source": [
    "#precision is low due to high fp rate, and recall is high due to low false positive rate"
   ]
  },
  {
   "cell_type": "code",
   "execution_count": 92,
   "metadata": {},
   "outputs": [
    {
     "data": {
      "text/plain": [
       "0.9657639243740419"
      ]
     },
     "execution_count": 92,
     "metadata": {},
     "output_type": "execute_result"
    }
   ],
   "source": [
    "sensitivity_score(y_rf_test,test_predz_smote)"
   ]
  },
  {
   "cell_type": "code",
   "execution_count": 93,
   "metadata": {},
   "outputs": [
    {
     "data": {
      "text/plain": [
       "0.1900407566098861"
      ]
     },
     "execution_count": 93,
     "metadata": {},
     "output_type": "execute_result"
    }
   ],
   "source": [
    "specificity_score(y_rf_test,test_predz_smote)"
   ]
  },
  {
   "cell_type": "markdown",
   "metadata": {},
   "source": [
    "### SMOTE: Over-sampling"
   ]
  },
  {
   "cell_type": "code",
   "execution_count": 95,
   "metadata": {},
   "outputs": [],
   "source": [
    "model_over = Pipeline([('imputer', SimpleImputer(missing_values=np.nan, strategy='median')),\n",
    "        ('sampling', SMOTE(sampling_strategy=0.5)),\n",
    "        ('classification', XGBClassifier(objective='binary:logistic'))])"
   ]
  },
  {
   "cell_type": "code",
   "execution_count": 97,
   "metadata": {},
   "outputs": [],
   "source": [
    "# create a random_search of the pipeline, to find optimal the best model\n",
    "random_search = RandomizedSearchCV(model_over, \n",
    "                                   param_distributions = param_grid_xgb, \n",
    "                                   cv=5, \n",
    "                                   verbose=0,\n",
    "                                   n_jobs=-1,\n",
    "                                   n_iter=10,\n",
    "                                   scoring='roc_auc')"
   ]
  },
  {
   "cell_type": "code",
   "execution_count": 99,
   "metadata": {},
   "outputs": [
    {
     "name": "stdout",
     "output_type": "stream",
     "text": [
      "Pipeline(steps=[('imputer', SimpleImputer(strategy='median')),\n",
      "                ('sampling', SMOTE(sampling_strategy=0.5)),\n",
      "                ('classification',\n",
      "                 XGBClassifier(base_score=0.5, booster='gbtree',\n",
      "                               colsample_bylevel=1, colsample_bynode=1,\n",
      "                               colsample_bytree=0.2, gamma=0.0, gpu_id=-1,\n",
      "                               importance_type='gain',\n",
      "                               interaction_constraints='', learning_rate=0.2,\n",
      "                               max_delta_step=0, max_depth=3,\n",
      "                               min_child_weight=1, missing=nan,\n",
      "                               monotone_constraints='()', n_estimators=150,\n",
      "                               n_jobs=0, num_parallel_tree=1, random_state=0,\n",
      "                               reg_alpha=1, reg_lambda=1, scale_pos_weight=10,\n",
      "                               subsample=1, tree_method='exact',\n",
      "                               validate_parameters=1, verbosity=None))])\n",
      "The AUC score of the model is: 0.6833264731918076\n",
      "Wall time: 20min 46s\n"
     ]
    }
   ],
   "source": [
    "%%time\n",
    "# Fit random search object\n",
    "smote_model_over = random_search.fit(X_rf_train,y_rf_train)\n",
    "# output best more and PR AUC score\n",
    "print(smote_model_over.best_estimator_)\n",
    "print(\"The AUC score of the model is:\",smote_model_over.score(X_rf_test,y_rf_test))"
   ]
  },
  {
   "cell_type": "code",
   "execution_count": 113,
   "metadata": {},
   "outputs": [],
   "source": [
    "test_predz_over = smote_model_over.predict_proba(X_rf_test)\n",
    "smote_test_over_prob = test_predz_over[:,1]"
   ]
  },
  {
   "cell_type": "code",
   "execution_count": 123,
   "metadata": {},
   "outputs": [],
   "source": [
    "def plot_roc(y_test,y_pred,title):\n",
    "    \n",
    "    fpr, tpr, threshold = roc_curve(y_test, y_pred)\n",
    "    roc_auc = auc(fpr, tpr)\n",
    "\n",
    "    plt.title(title)\n",
    "    plt.plot(fpr, tpr, 'b', label = 'AUC = %0.2f' % roc_auc)\n",
    "    #plt.legend(loc = 'lower right')\n",
    "    plt.plot([0, 1], [0, 1],'r--')\n",
    "    plt.xlim([0, 1])\n",
    "    plt.ylim([0, 1])\n",
    "    plt.ylabel('True Positive Rate')\n",
    "    plt.xlabel('False Positive Rate')\n",
    "    plt.show()"
   ]
  },
  {
   "cell_type": "code",
   "execution_count": 124,
   "metadata": {},
   "outputs": [
    {
     "data": {
      "image/png": "[encoded data removed]",
      "text/plain": [
       "<Figure size 432x288 with 1 Axes>"
      ]
     },
     "metadata": {
      "needs_background": "light"
     },
     "output_type": "display_data"
    }
   ],
   "source": [
    "plot_roc(y_rf_test,smote_test_over_prob,'ROC Curve rf Features: SMOTE over-sampling | XGBoost')"
   ]
  },
  {
   "cell_type": "code",
   "execution_count": 105,
   "metadata": {},
   "outputs": [],
   "source": [
    "test_predz_smote_over = smote_model_over.predict(X_rf_test)\n",
    "train_predz_smote_over = smote_model_over.predict(X_rf_train)"
   ]
  },
  {
   "cell_type": "code",
   "execution_count": 106,
   "metadata": {},
   "outputs": [
    {
     "data": {
      "text/plain": [
       "array([[10550,  8588],\n",
       "       [  547,  1410]], dtype=int64)"
      ]
     },
     "execution_count": 106,
     "metadata": {},
     "output_type": "execute_result"
    }
   ],
   "source": [
    "confusion_matrix(y_rf_test,test_predz_smote_over)"
   ]
  },
  {
   "cell_type": "code",
   "execution_count": 107,
   "metadata": {},
   "outputs": [
    {
     "name": "stdout",
     "output_type": "stream",
     "text": [
      "0.6777742249244383\n",
      "0.6358749107482949\n"
     ]
    }
   ],
   "source": [
    "print(roc_auc_score(y_rf_train,train_predz_smote_over))\n",
    "print(roc_auc_score(y_rf_test,test_predz_smote_over))"
   ]
  },
  {
   "cell_type": "code",
   "execution_count": 108,
   "metadata": {},
   "outputs": [
    {
     "data": {
      "text/html": [
       "<div>\n",
       "<style scoped>\n",
       "    .dataframe tbody tr th:only-of-type {\n",
       "        vertical-align: middle;\n",
       "    }\n",
       "\n",
       "    .dataframe tbody tr th {\n",
       "        vertical-align: top;\n",
       "    }\n",
       "\n",
       "    .dataframe thead th {\n",
       "        text-align: right;\n",
       "    }\n",
       "</style>\n",
       "<table border=\"1\" class=\"dataframe\">\n",
       "  <thead>\n",
       "    <tr style=\"text-align: right;\">\n",
       "      <th></th>\n",
       "      <th>precision</th>\n",
       "      <th>recall</th>\n",
       "      <th>f1-score</th>\n",
       "      <th>support</th>\n",
       "    </tr>\n",
       "  </thead>\n",
       "  <tbody>\n",
       "    <tr>\n",
       "      <th>0</th>\n",
       "      <td>0.950707</td>\n",
       "      <td>0.551259</td>\n",
       "      <td>0.697867</td>\n",
       "      <td>19138.000000</td>\n",
       "    </tr>\n",
       "    <tr>\n",
       "      <th>1</th>\n",
       "      <td>0.141028</td>\n",
       "      <td>0.720491</td>\n",
       "      <td>0.235885</td>\n",
       "      <td>1957.000000</td>\n",
       "    </tr>\n",
       "    <tr>\n",
       "      <th>accuracy</th>\n",
       "      <td>0.566959</td>\n",
       "      <td>0.566959</td>\n",
       "      <td>0.566959</td>\n",
       "      <td>0.566959</td>\n",
       "    </tr>\n",
       "    <tr>\n",
       "      <th>macro avg</th>\n",
       "      <td>0.545868</td>\n",
       "      <td>0.635875</td>\n",
       "      <td>0.466876</td>\n",
       "      <td>21095.000000</td>\n",
       "    </tr>\n",
       "    <tr>\n",
       "      <th>weighted avg</th>\n",
       "      <td>0.875593</td>\n",
       "      <td>0.566959</td>\n",
       "      <td>0.655008</td>\n",
       "      <td>21095.000000</td>\n",
       "    </tr>\n",
       "  </tbody>\n",
       "</table>\n",
       "</div>"
      ],
      "text/plain": [
       "              precision    recall  f1-score       support\n",
       "0              0.950707  0.551259  0.697867  19138.000000\n",
       "1              0.141028  0.720491  0.235885   1957.000000\n",
       "accuracy       0.566959  0.566959  0.566959      0.566959\n",
       "macro avg      0.545868  0.635875  0.466876  21095.000000\n",
       "weighted avg   0.875593  0.566959  0.655008  21095.000000"
      ]
     },
     "execution_count": 108,
     "metadata": {},
     "output_type": "execute_result"
    }
   ],
   "source": [
    "smote_final = classification_report(y_rf_test,test_predz_smote_over,output_dict=True)\n",
    "report_smote_final = pd.DataFrame(smote_final).transpose()\n",
    "report_smote_final"
   ]
  },
  {
   "cell_type": "code",
   "execution_count": 110,
   "metadata": {},
   "outputs": [
    {
     "data": {
      "text/plain": [
       "0.7204905467552376"
      ]
     },
     "execution_count": 110,
     "metadata": {},
     "output_type": "execute_result"
    }
   ],
   "source": [
    "sensitivity_score(y_rf_test,test_predz_smote_over)"
   ]
  },
  {
   "cell_type": "code",
   "execution_count": 112,
   "metadata": {},
   "outputs": [
    {
     "data": {
      "text/plain": [
       "0.5512592747413523"
      ]
     },
     "execution_count": 112,
     "metadata": {},
     "output_type": "execute_result"
    }
   ],
   "source": [
    "specificity_score(y_rf_test,test_predz_smote_over)"
   ]
  },
  {
   "cell_type": "code",
   "execution_count": null,
   "metadata": {},
   "outputs": [],
   "source": []
  }
 ],
 "metadata": {
  "kernelspec": {
   "display_name": "Python 3",
   "language": "python",
   "name": "python3"
  },
  "language_info": {
   "codemirror_mode": {
    "name": "ipython",
    "version": 3
   },
   "file_extension": ".py",
   "mimetype": "text/x-python",
   "name": "python",
   "nbconvert_exporter": "python",
   "pygments_lexer": "ipython3",
   "version": "3.7.6"
  }
 },
 "nbformat": 4,
 "nbformat_minor": 4
}
