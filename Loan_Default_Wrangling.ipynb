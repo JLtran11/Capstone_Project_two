{
 "cells": [
  {
   "cell_type": "markdown",
   "metadata": {},
   "source": [
    "## Data Wrangling\n",
    "\n",
    "For my second capstone project I will be building a loan default predictor using Imperial College of London's loan default data available on kaggle.  All of the features, excluding a unique ID, and target columns are masked, therefore providing no way to gain any insight into the variable.  The initial size of the data is 105471 rows, by 767 columns.  The initial goal is to reduce the number of columns by finding which features could be useful and dropping the others.  Data wrangling will be performed with various methods of feature selection.  I am interested in comparing the performance of different feature selection methods with other dimensional reduction techniques such as principal component analysis. The final product of this notebook will be two dataframes containing the features from the results of filter and ensemble feature selection methods.  These datasets will then be used in classification models, along with the original dataframe to apply dimension reduction."
   ]
  },
  {
   "cell_type": "code",
   "execution_count": 113,
   "metadata": {},
   "outputs": [],
   "source": [
    "import pandas as pd\n",
    "import numpy as np\n",
    "import matplotlib.pyplot as plt\n",
    "import seaborn as sns\n",
    "%matplotlib inline"
   ]
  },
  {
   "cell_type": "markdown",
   "metadata": {},
   "source": [
    "### Feature Selection: Filter Methods"
   ]
  },
  {
   "cell_type": "code",
   "execution_count": 114,
   "metadata": {},
   "outputs": [
    {
     "name": "stderr",
     "output_type": "stream",
     "text": [
      "C:\\Users\\pseudo_bounce\\anaconda3\\lib\\site-packages\\IPython\\core\\interactiveshell.py:3063: DtypeWarning: Columns (135,204,274,417) have mixed types.Specify dtype option on import or set low_memory=False.\n",
      "  interactivity=interactivity, compiler=compiler, result=result)\n"
     ]
    }
   ],
   "source": [
    "df = pd.read_csv('C:\\\\Users\\\\pseudo_bounce\\\\Desktop\\\\recent_dl\\\\loan-default-prediction\\\\train.csv')"
   ]
  },
  {
   "cell_type": "code",
   "execution_count": 115,
   "metadata": {},
   "outputs": [],
   "source": [
    "#Drop mixed data type columns [135,204,274,417]\n",
    "drop_mix = list(df.columns[[135,204,274,417]])\n",
    "df.drop(drop_mix,axis=1,inplace=True)"
   ]
  },
  {
   "cell_type": "code",
   "execution_count": 116,
   "metadata": {},
   "outputs": [
    {
     "data": {
      "text/plain": [
       "(105471, 767)"
      ]
     },
     "execution_count": 116,
     "metadata": {},
     "output_type": "execute_result"
    }
   ],
   "source": [
    "#Check dataframe shape\n",
    "df.shape"
   ]
  },
  {
   "cell_type": "code",
   "execution_count": 117,
   "metadata": {},
   "outputs": [
    {
     "data": {
      "text/plain": [
       "Index(['id', 'f1', 'f2', 'f3', 'f4', 'f5', 'f6', 'f7', 'f8', 'f9',\n",
       "       ...\n",
       "       'f770', 'f771', 'f772', 'f773', 'f774', 'f775', 'f776', 'f777', 'f778',\n",
       "       'loss'],\n",
       "      dtype='object', length=767)"
      ]
     },
     "execution_count": 117,
     "metadata": {},
     "output_type": "execute_result"
    }
   ],
   "source": [
    "#Inspect field names\n",
    "df.columns"
   ]
  },
  {
   "cell_type": "code",
   "execution_count": 118,
   "metadata": {},
   "outputs": [
    {
     "data": {
      "text/plain": [
       "True"
      ]
     },
     "execution_count": 118,
     "metadata": {},
     "output_type": "execute_result"
    }
   ],
   "source": [
    "#See if id's are unique\n",
    "df['id'].nunique() == len(df)"
   ]
  },
  {
   "cell_type": "code",
   "execution_count": 119,
   "metadata": {},
   "outputs": [],
   "source": [
    "#Create binary variable from target column 'loss'\n",
    "#drop loss column\n",
    "df['default'] = df['loss'].apply(lambda x: 1 if x > 0 else x)\n",
    "df.drop('loss',axis=1,inplace=True)"
   ]
  },
  {
   "cell_type": "code",
   "execution_count": 120,
   "metadata": {},
   "outputs": [
    {
     "data": {
      "text/plain": [
       "(105471, 767)"
      ]
     },
     "execution_count": 120,
     "metadata": {},
     "output_type": "execute_result"
    }
   ],
   "source": [
    "df.shape"
   ]
  },
  {
   "cell_type": "code",
   "execution_count": 121,
   "metadata": {},
   "outputs": [
    {
     "data": {
      "text/plain": [
       "float64    653\n",
       "int64       99\n",
       "object      15\n",
       "dtype: int64"
      ]
     },
     "execution_count": 121,
     "metadata": {},
     "output_type": "execute_result"
    }
   ],
   "source": [
    "#Get counts of datatypes\n",
    "df.dtypes.value_counts()"
   ]
  },
  {
   "cell_type": "markdown",
   "metadata": {},
   "source": [
    "### Object Columns"
   ]
  },
  {
   "cell_type": "code",
   "execution_count": 122,
   "metadata": {},
   "outputs": [
    {
     "data": {
      "text/html": [
       "<div>\n",
       "<style scoped>\n",
       "    .dataframe tbody tr th:only-of-type {\n",
       "        vertical-align: middle;\n",
       "    }\n",
       "\n",
       "    .dataframe tbody tr th {\n",
       "        vertical-align: top;\n",
       "    }\n",
       "\n",
       "    .dataframe thead th {\n",
       "        text-align: right;\n",
       "    }\n",
       "</style>\n",
       "<table border=\"1\" class=\"dataframe\">\n",
       "  <thead>\n",
       "    <tr style=\"text-align: right;\">\n",
       "      <th></th>\n",
       "      <th>f138</th>\n",
       "      <th>f207</th>\n",
       "      <th>f277</th>\n",
       "      <th>f338</th>\n",
       "      <th>f390</th>\n",
       "      <th>f391</th>\n",
       "      <th>f420</th>\n",
       "      <th>f469</th>\n",
       "      <th>f472</th>\n",
       "      <th>f534</th>\n",
       "      <th>f537</th>\n",
       "      <th>f626</th>\n",
       "      <th>f627</th>\n",
       "      <th>f695</th>\n",
       "      <th>f698</th>\n",
       "    </tr>\n",
       "  </thead>\n",
       "  <tbody>\n",
       "    <tr>\n",
       "      <th>0</th>\n",
       "      <td>754485076006959972352</td>\n",
       "      <td>38600000000000000</td>\n",
       "      <td>683091368180479950848</td>\n",
       "      <td>7610000000000</td>\n",
       "      <td>10370164393071999997033054208</td>\n",
       "      <td>13621142007705000132589703585884798976</td>\n",
       "      <td>511000000000000</td>\n",
       "      <td>569877634360569973702656</td>\n",
       "      <td>3427303293502300223465356001280</td>\n",
       "      <td>240811094251680005357568</td>\n",
       "      <td>1185103615651699994464937312256</td>\n",
       "      <td>11724173453590999285553430528</td>\n",
       "      <td>16027029142402000396838501389877379072</td>\n",
       "      <td>8700000000000000000</td>\n",
       "      <td>8010000000000000000</td>\n",
       "    </tr>\n",
       "    <tr>\n",
       "      <th>1</th>\n",
       "      <td>15300000000000000</td>\n",
       "      <td>1690000000000000</td>\n",
       "      <td>2140000000000000000</td>\n",
       "      <td>796594176</td>\n",
       "      <td>5098137566366599989877014528</td>\n",
       "      <td>5366154527659000357778647583412977664</td>\n",
       "      <td>1593188352</td>\n",
       "      <td>107000000000000000</td>\n",
       "      <td>9894337169928600158208</td>\n",
       "      <td>251470350285930004480</td>\n",
       "      <td>161196782629860003268263936</td>\n",
       "      <td>6391495663130699779035627520</td>\n",
       "      <td>7158933769610900052770065343332745216</td>\n",
       "      <td>5890000000000000000</td>\n",
       "      <td>5030000000000000000</td>\n",
       "    </tr>\n",
       "    <tr>\n",
       "      <th>2</th>\n",
       "      <td>6910365323840000000</td>\n",
       "      <td>389000000000000000</td>\n",
       "      <td>69200000000000000</td>\n",
       "      <td>461000000000</td>\n",
       "      <td>26400269714792999161039945728</td>\n",
       "      <td>36117033568522998807722429270944907264</td>\n",
       "      <td>63500000000000</td>\n",
       "      <td>313319151143610023936</td>\n",
       "      <td>222812827058929985669562368</td>\n",
       "      <td>116067852739909992448</td>\n",
       "      <td>61668865475731997253959680</td>\n",
       "      <td>36420952401170000260810932224</td>\n",
       "      <td>56027915541865997900093655676589441024</td>\n",
       "      <td>24512111987574001664</td>\n",
       "      <td>19855991371293999104</td>\n",
       "    </tr>\n",
       "    <tr>\n",
       "      <th>3</th>\n",
       "      <td>11225194901267999096832</td>\n",
       "      <td>35000000000000</td>\n",
       "      <td>295000000000000000</td>\n",
       "      <td>1330000000000</td>\n",
       "      <td>9333818143939599917454983168</td>\n",
       "      <td>12638526060843999893906772076814925824</td>\n",
       "      <td>9380000000000</td>\n",
       "      <td>2641626213765599994052608</td>\n",
       "      <td>24452856014536001129152839155712</td>\n",
       "      <td>202899352692079984640</td>\n",
       "      <td>126293716597939998795235328</td>\n",
       "      <td>15267506423634001098621059072</td>\n",
       "      <td>24362045267421999852972382580757233664</td>\n",
       "      <td>9660000000000000000</td>\n",
       "      <td>6960000000000000000</td>\n",
       "    </tr>\n",
       "    <tr>\n",
       "      <th>4</th>\n",
       "      <td>108000000000000</td>\n",
       "      <td>1870000000000000</td>\n",
       "      <td>23100000000000000</td>\n",
       "      <td>2240000000000</td>\n",
       "      <td>196004669899870011305513451520</td>\n",
       "      <td>428213273484070002013091334592080642048</td>\n",
       "      <td>659000000000000</td>\n",
       "      <td>68300000000000</td>\n",
       "      <td>922000000000000000</td>\n",
       "      <td>654000000000000000</td>\n",
       "      <td>89341826582645997305856</td>\n",
       "      <td>238204359524660008028924280832</td>\n",
       "      <td>550170020491249969340152709153269219328</td>\n",
       "      <td>108505460071560003584</td>\n",
       "      <td>94766610066210996224</td>\n",
       "    </tr>\n",
       "  </tbody>\n",
       "</table>\n",
       "</div>"
      ],
      "text/plain": [
       "                      f138                f207                   f277  \\\n",
       "0    754485076006959972352   38600000000000000  683091368180479950848   \n",
       "1        15300000000000000    1690000000000000    2140000000000000000   \n",
       "2      6910365323840000000  389000000000000000      69200000000000000   \n",
       "3  11225194901267999096832      35000000000000     295000000000000000   \n",
       "4          108000000000000    1870000000000000      23100000000000000   \n",
       "\n",
       "            f338                            f390  \\\n",
       "0  7610000000000   10370164393071999997033054208   \n",
       "1      796594176    5098137566366599989877014528   \n",
       "2   461000000000   26400269714792999161039945728   \n",
       "3  1330000000000    9333818143939599917454983168   \n",
       "4  2240000000000  196004669899870011305513451520   \n",
       "\n",
       "                                      f391             f420  \\\n",
       "0   13621142007705000132589703585884798976  511000000000000   \n",
       "1    5366154527659000357778647583412977664       1593188352   \n",
       "2   36117033568522998807722429270944907264   63500000000000   \n",
       "3   12638526060843999893906772076814925824    9380000000000   \n",
       "4  428213273484070002013091334592080642048  659000000000000   \n",
       "\n",
       "                        f469                              f472  \\\n",
       "0   569877634360569973702656   3427303293502300223465356001280   \n",
       "1         107000000000000000            9894337169928600158208   \n",
       "2      313319151143610023936       222812827058929985669562368   \n",
       "3  2641626213765599994052608  24452856014536001129152839155712   \n",
       "4             68300000000000                922000000000000000   \n",
       "\n",
       "                       f534                             f537  \\\n",
       "0  240811094251680005357568  1185103615651699994464937312256   \n",
       "1     251470350285930004480      161196782629860003268263936   \n",
       "2     116067852739909992448       61668865475731997253959680   \n",
       "3     202899352692079984640      126293716597939998795235328   \n",
       "4        654000000000000000          89341826582645997305856   \n",
       "\n",
       "                             f626                                     f627  \\\n",
       "0   11724173453590999285553430528   16027029142402000396838501389877379072   \n",
       "1    6391495663130699779035627520    7158933769610900052770065343332745216   \n",
       "2   36420952401170000260810932224   56027915541865997900093655676589441024   \n",
       "3   15267506423634001098621059072   24362045267421999852972382580757233664   \n",
       "4  238204359524660008028924280832  550170020491249969340152709153269219328   \n",
       "\n",
       "                    f695                  f698  \n",
       "0    8700000000000000000   8010000000000000000  \n",
       "1    5890000000000000000   5030000000000000000  \n",
       "2   24512111987574001664  19855991371293999104  \n",
       "3    9660000000000000000   6960000000000000000  \n",
       "4  108505460071560003584  94766610066210996224  "
      ]
     },
     "execution_count": 122,
     "metadata": {},
     "output_type": "execute_result"
    }
   ],
   "source": [
    "#Filter object data types and inspect head\n",
    "dt_object = df.select_dtypes(include='object')\n",
    "dt_object.head()"
   ]
  },
  {
   "cell_type": "code",
   "execution_count": 123,
   "metadata": {},
   "outputs": [
    {
     "data": {
      "text/plain": [
       "f138     182\n",
       "f207    1291\n",
       "f277     101\n",
       "f338       0\n",
       "f390     698\n",
       "f391     698\n",
       "f420       0\n",
       "f469       0\n",
       "f472       0\n",
       "f534       0\n",
       "f537       0\n",
       "f626     698\n",
       "f627     698\n",
       "f695     698\n",
       "f698     698\n",
       "dtype: int64"
      ]
     },
     "execution_count": 123,
     "metadata": {},
     "output_type": "execute_result"
    }
   ],
   "source": [
    "#look for null values\n",
    "dt_object.isnull().sum()"
   ]
  },
  {
   "cell_type": "code",
   "execution_count": 124,
   "metadata": {},
   "outputs": [
    {
     "data": {
      "text/html": [
       "<div>\n",
       "<style scoped>\n",
       "    .dataframe tbody tr th:only-of-type {\n",
       "        vertical-align: middle;\n",
       "    }\n",
       "\n",
       "    .dataframe tbody tr th {\n",
       "        vertical-align: top;\n",
       "    }\n",
       "\n",
       "    .dataframe thead th {\n",
       "        text-align: right;\n",
       "    }\n",
       "</style>\n",
       "<table border=\"1\" class=\"dataframe\">\n",
       "  <thead>\n",
       "    <tr style=\"text-align: right;\">\n",
       "      <th></th>\n",
       "      <th>Count of Unique Values</th>\n",
       "    </tr>\n",
       "    <tr>\n",
       "      <th>Column</th>\n",
       "      <th></th>\n",
       "    </tr>\n",
       "  </thead>\n",
       "  <tbody>\n",
       "    <tr>\n",
       "      <th>f138</th>\n",
       "      <td>31152</td>\n",
       "    </tr>\n",
       "    <tr>\n",
       "      <th>f207</th>\n",
       "      <td>14511</td>\n",
       "    </tr>\n",
       "    <tr>\n",
       "      <th>f277</th>\n",
       "      <td>28710</td>\n",
       "    </tr>\n",
       "    <tr>\n",
       "      <th>f338</th>\n",
       "      <td>8663</td>\n",
       "    </tr>\n",
       "    <tr>\n",
       "      <th>f390</th>\n",
       "      <td>104662</td>\n",
       "    </tr>\n",
       "    <tr>\n",
       "      <th>f391</th>\n",
       "      <td>104659</td>\n",
       "    </tr>\n",
       "    <tr>\n",
       "      <th>f420</th>\n",
       "      <td>25772</td>\n",
       "    </tr>\n",
       "    <tr>\n",
       "      <th>f469</th>\n",
       "      <td>86420</td>\n",
       "    </tr>\n",
       "    <tr>\n",
       "      <th>f472</th>\n",
       "      <td>102913</td>\n",
       "    </tr>\n",
       "    <tr>\n",
       "      <th>f534</th>\n",
       "      <td>85376</td>\n",
       "    </tr>\n",
       "    <tr>\n",
       "      <th>f537</th>\n",
       "      <td>104114</td>\n",
       "    </tr>\n",
       "    <tr>\n",
       "      <th>f626</th>\n",
       "      <td>104754</td>\n",
       "    </tr>\n",
       "    <tr>\n",
       "      <th>f627</th>\n",
       "      <td>104751</td>\n",
       "    </tr>\n",
       "    <tr>\n",
       "      <th>f695</th>\n",
       "      <td>93730</td>\n",
       "    </tr>\n",
       "    <tr>\n",
       "      <th>f698</th>\n",
       "      <td>91986</td>\n",
       "    </tr>\n",
       "  </tbody>\n",
       "</table>\n",
       "</div>"
      ],
      "text/plain": [
       "        Count of Unique Values\n",
       "Column                        \n",
       "f138                     31152\n",
       "f207                     14511\n",
       "f277                     28710\n",
       "f338                      8663\n",
       "f390                    104662\n",
       "f391                    104659\n",
       "f420                     25772\n",
       "f469                     86420\n",
       "f472                    102913\n",
       "f534                     85376\n",
       "f537                    104114\n",
       "f626                    104754\n",
       "f627                    104751\n",
       "f695                     93730\n",
       "f698                     91986"
      ]
     },
     "execution_count": 124,
     "metadata": {},
     "output_type": "execute_result"
    }
   ],
   "source": [
    "#Create df to examine cardinality of object columns, assumed to be categorical in nature\n",
    "\n",
    "#Store count of unique values per column in list\n",
    "f = []\n",
    "for col in dt_object.columns:\n",
    "    f.append(len(dt_object[col].unique()))\n",
    "\n",
    "#Store each column name in list\n",
    "n = [x for x in dt_object.columns]\n",
    "\n",
    "cards = dict(zip(n,f)) #zip list or store in dictionary\n",
    "cardinality = pd.DataFrame(list(cards.items()), columns=['Column', 'Count of Unique Values']) #create dataframe from dictionary\n",
    "cardinality.set_index('Column',inplace=True) #set index to the column name\n",
    "cardinality #inspect cardinality"
   ]
  },
  {
   "cell_type": "markdown",
   "metadata": {},
   "source": [
    "Based on the assumption that the object columns are categorical features, each feature shows high cardinality.  Given that we are trying to eliminate features, creating dummy variables would not make sense at this time.  It is also impossible to make any sense of what these features could possibly be.  Furthermore, tree methods will be used in the feature selection and modeling phase, which have a tendency to overfit to features with high cardinality. Keeping these features would only serve to complicate things.  However, we can make plots of the value counts to see if there are any interesting patterns that could clue us in on if these features have meaning."
   ]
  },
  {
   "cell_type": "code",
   "execution_count": 125,
   "metadata": {},
   "outputs": [
    {
     "data": {
      "text/plain": [
       "<matplotlib.axes._subplots.AxesSubplot at 0x1ac55072b48>"
      ]
     },
     "execution_count": 125,
     "metadata": {},
     "output_type": "execute_result"
    },
    {
     "data": {
      "image/png": "[encoded data removed]",
      "text/plain": [
       "<Figure size 1080x576 with 8 Axes>"
      ]
     },
     "metadata": {
      "needs_background": "light"
     },
     "output_type": "display_data"
    }
   ],
   "source": [
    "figure, axes = plt.subplots(2, 4)\n",
    "\n",
    "dt_object['f698'].value_counts().head(50).plot(ax=axes[0,0],kind='bar',figsize=(15,8))\n",
    "dt_object['f695'].value_counts().head(50).plot(ax=axes[0,1],kind='bar')\n",
    "dt_object['f207'].value_counts().head(50).plot(ax=axes[0,2],kind='bar')\n",
    "dt_object['f277'].value_counts().head(50).plot(ax=axes[0,3],kind='bar')\n",
    "dt_object['f469'].value_counts().head(50).plot(ax=axes[1,0],kind='bar')\n",
    "dt_object['f537'].value_counts().head(50).plot(ax=axes[1,1],kind='bar')\n",
    "dt_object['f472'].value_counts().head(50).plot(ax=axes[1,2],kind='bar')\n",
    "dt_object['f420'].value_counts().head(50).plot(ax=axes[1,3],kind='bar')\n"
   ]
  },
  {
   "cell_type": "code",
   "execution_count": null,
   "metadata": {},
   "outputs": [],
   "source": []
  },
  {
   "cell_type": "code",
   "execution_count": 126,
   "metadata": {},
   "outputs": [],
   "source": [
    "#drop object columns from df\n",
    "df.drop(dt_object.columns,axis=1,inplace=True)"
   ]
  },
  {
   "cell_type": "code",
   "execution_count": 127,
   "metadata": {},
   "outputs": [
    {
     "data": {
      "text/plain": [
       "(105471, 752)"
      ]
     },
     "execution_count": 127,
     "metadata": {},
     "output_type": "execute_result"
    }
   ],
   "source": [
    "df.shape"
   ]
  },
  {
   "cell_type": "code",
   "execution_count": 128,
   "metadata": {},
   "outputs": [
    {
     "data": {
      "text/plain": [
       "float64    653\n",
       "int64       99\n",
       "dtype: int64"
      ]
     },
     "execution_count": 128,
     "metadata": {},
     "output_type": "execute_result"
    }
   ],
   "source": [
    "df.dtypes.value_counts()"
   ]
  },
  {
   "cell_type": "code",
   "execution_count": 130,
   "metadata": {},
   "outputs": [],
   "source": [
    "all_cols = list(df.columns)"
   ]
  },
  {
   "cell_type": "markdown",
   "metadata": {},
   "source": [
    "### Integer Columns"
   ]
  },
  {
   "cell_type": "code",
   "execution_count": 17,
   "metadata": {},
   "outputs": [],
   "source": [
    "int_cols = df.select_dtypes(include='int64')"
   ]
  },
  {
   "cell_type": "code",
   "execution_count": 18,
   "metadata": {},
   "outputs": [
    {
     "data": {
      "text/plain": [
       "(105471, 99)"
      ]
     },
     "execution_count": 18,
     "metadata": {},
     "output_type": "execute_result"
    }
   ],
   "source": [
    "int_cols.shape"
   ]
  },
  {
   "cell_type": "code",
   "execution_count": 19,
   "metadata": {},
   "outputs": [
    {
     "data": {
      "text/html": [
       "<div>\n",
       "<style scoped>\n",
       "    .dataframe tbody tr th:only-of-type {\n",
       "        vertical-align: middle;\n",
       "    }\n",
       "\n",
       "    .dataframe tbody tr th {\n",
       "        vertical-align: top;\n",
       "    }\n",
       "\n",
       "    .dataframe thead th {\n",
       "        text-align: right;\n",
       "    }\n",
       "</style>\n",
       "<table border=\"1\" class=\"dataframe\">\n",
       "  <thead>\n",
       "    <tr style=\"text-align: right;\">\n",
       "      <th></th>\n",
       "      <th>default</th>\n",
       "    </tr>\n",
       "  </thead>\n",
       "  <tbody>\n",
       "    <tr>\n",
       "      <th>default</th>\n",
       "      <td>1.000000</td>\n",
       "    </tr>\n",
       "    <tr>\n",
       "      <th>f25</th>\n",
       "      <td>0.101329</td>\n",
       "    </tr>\n",
       "    <tr>\n",
       "      <th>f477</th>\n",
       "      <td>0.062001</td>\n",
       "    </tr>\n",
       "    <tr>\n",
       "      <th>f24</th>\n",
       "      <td>0.061610</td>\n",
       "    </tr>\n",
       "    <tr>\n",
       "      <th>f465</th>\n",
       "      <td>0.060250</td>\n",
       "    </tr>\n",
       "    <tr>\n",
       "      <th>f480</th>\n",
       "      <td>0.058471</td>\n",
       "    </tr>\n",
       "    <tr>\n",
       "      <th>f467</th>\n",
       "      <td>0.051949</td>\n",
       "    </tr>\n",
       "    <tr>\n",
       "      <th>f478</th>\n",
       "      <td>0.051949</td>\n",
       "    </tr>\n",
       "    <tr>\n",
       "      <th>f447</th>\n",
       "      <td>0.051560</td>\n",
       "    </tr>\n",
       "    <tr>\n",
       "      <th>f16</th>\n",
       "      <td>0.043207</td>\n",
       "    </tr>\n",
       "    <tr>\n",
       "      <th>f530</th>\n",
       "      <td>0.042353</td>\n",
       "    </tr>\n",
       "    <tr>\n",
       "      <th>f532</th>\n",
       "      <td>0.039940</td>\n",
       "    </tr>\n",
       "    <tr>\n",
       "      <th>f521</th>\n",
       "      <td>0.038213</td>\n",
       "    </tr>\n",
       "    <tr>\n",
       "      <th>f531</th>\n",
       "      <td>0.028646</td>\n",
       "    </tr>\n",
       "    <tr>\n",
       "      <th>f674</th>\n",
       "      <td>0.023977</td>\n",
       "    </tr>\n",
       "    <tr>\n",
       "      <th>f1</th>\n",
       "      <td>0.015786</td>\n",
       "    </tr>\n",
       "    <tr>\n",
       "      <th>id</th>\n",
       "      <td>0.012704</td>\n",
       "    </tr>\n",
       "    <tr>\n",
       "      <th>f320</th>\n",
       "      <td>0.010561</td>\n",
       "    </tr>\n",
       "    <tr>\n",
       "      <th>f318</th>\n",
       "      <td>0.010561</td>\n",
       "    </tr>\n",
       "    <tr>\n",
       "      <th>f319</th>\n",
       "      <td>0.010561</td>\n",
       "    </tr>\n",
       "    <tr>\n",
       "      <th>f317</th>\n",
       "      <td>0.010561</td>\n",
       "    </tr>\n",
       "    <tr>\n",
       "      <th>f301</th>\n",
       "      <td>0.010056</td>\n",
       "    </tr>\n",
       "    <tr>\n",
       "      <th>f302</th>\n",
       "      <td>0.010056</td>\n",
       "    </tr>\n",
       "    <tr>\n",
       "      <th>f304</th>\n",
       "      <td>0.010056</td>\n",
       "    </tr>\n",
       "    <tr>\n",
       "      <th>f303</th>\n",
       "      <td>0.010056</td>\n",
       "    </tr>\n",
       "    <tr>\n",
       "      <th>f296</th>\n",
       "      <td>0.009336</td>\n",
       "    </tr>\n",
       "    <tr>\n",
       "      <th>f295</th>\n",
       "      <td>0.009336</td>\n",
       "    </tr>\n",
       "    <tr>\n",
       "      <th>f294</th>\n",
       "      <td>0.009336</td>\n",
       "    </tr>\n",
       "    <tr>\n",
       "      <th>f293</th>\n",
       "      <td>0.009336</td>\n",
       "    </tr>\n",
       "    <tr>\n",
       "      <th>f5</th>\n",
       "      <td>0.009096</td>\n",
       "    </tr>\n",
       "    <tr>\n",
       "      <th>f335</th>\n",
       "      <td>0.008642</td>\n",
       "    </tr>\n",
       "    <tr>\n",
       "      <th>f325</th>\n",
       "      <td>0.008130</td>\n",
       "    </tr>\n",
       "    <tr>\n",
       "      <th>f327</th>\n",
       "      <td>0.008130</td>\n",
       "    </tr>\n",
       "    <tr>\n",
       "      <th>f328</th>\n",
       "      <td>0.008130</td>\n",
       "    </tr>\n",
       "    <tr>\n",
       "      <th>f326</th>\n",
       "      <td>0.008130</td>\n",
       "    </tr>\n",
       "    <tr>\n",
       "      <th>f382</th>\n",
       "      <td>0.006898</td>\n",
       "    </tr>\n",
       "    <tr>\n",
       "      <th>f778</th>\n",
       "      <td>0.005474</td>\n",
       "    </tr>\n",
       "    <tr>\n",
       "      <th>f776</th>\n",
       "      <td>0.004300</td>\n",
       "    </tr>\n",
       "    <tr>\n",
       "      <th>f381</th>\n",
       "      <td>0.004269</td>\n",
       "    </tr>\n",
       "    <tr>\n",
       "      <th>f418</th>\n",
       "      <td>0.002400</td>\n",
       "    </tr>\n",
       "    <tr>\n",
       "      <th>f312</th>\n",
       "      <td>0.002084</td>\n",
       "    </tr>\n",
       "    <tr>\n",
       "      <th>f309</th>\n",
       "      <td>0.002084</td>\n",
       "    </tr>\n",
       "    <tr>\n",
       "      <th>f310</th>\n",
       "      <td>0.002084</td>\n",
       "    </tr>\n",
       "    <tr>\n",
       "      <th>f311</th>\n",
       "      <td>0.002084</td>\n",
       "    </tr>\n",
       "    <tr>\n",
       "      <th>f336</th>\n",
       "      <td>0.001980</td>\n",
       "    </tr>\n",
       "    <tr>\n",
       "      <th>f725</th>\n",
       "      <td>0.000511</td>\n",
       "    </tr>\n",
       "    <tr>\n",
       "      <th>f380</th>\n",
       "      <td>-0.000332</td>\n",
       "    </tr>\n",
       "    <tr>\n",
       "      <th>f337</th>\n",
       "      <td>-0.000784</td>\n",
       "    </tr>\n",
       "    <tr>\n",
       "      <th>f2</th>\n",
       "      <td>-0.001280</td>\n",
       "    </tr>\n",
       "    <tr>\n",
       "      <th>f403</th>\n",
       "      <td>-0.003581</td>\n",
       "    </tr>\n",
       "  </tbody>\n",
       "</table>\n",
       "</div>"
      ],
      "text/plain": [
       "          default\n",
       "default  1.000000\n",
       "f25      0.101329\n",
       "f477     0.062001\n",
       "f24      0.061610\n",
       "f465     0.060250\n",
       "f480     0.058471\n",
       "f467     0.051949\n",
       "f478     0.051949\n",
       "f447     0.051560\n",
       "f16      0.043207\n",
       "f530     0.042353\n",
       "f532     0.039940\n",
       "f521     0.038213\n",
       "f531     0.028646\n",
       "f674     0.023977\n",
       "f1       0.015786\n",
       "id       0.012704\n",
       "f320     0.010561\n",
       "f318     0.010561\n",
       "f319     0.010561\n",
       "f317     0.010561\n",
       "f301     0.010056\n",
       "f302     0.010056\n",
       "f304     0.010056\n",
       "f303     0.010056\n",
       "f296     0.009336\n",
       "f295     0.009336\n",
       "f294     0.009336\n",
       "f293     0.009336\n",
       "f5       0.009096\n",
       "f335     0.008642\n",
       "f325     0.008130\n",
       "f327     0.008130\n",
       "f328     0.008130\n",
       "f326     0.008130\n",
       "f382     0.006898\n",
       "f778     0.005474\n",
       "f776     0.004300\n",
       "f381     0.004269\n",
       "f418     0.002400\n",
       "f312     0.002084\n",
       "f309     0.002084\n",
       "f310     0.002084\n",
       "f311     0.002084\n",
       "f336     0.001980\n",
       "f725     0.000511\n",
       "f380    -0.000332\n",
       "f337    -0.000784\n",
       "f2      -0.001280\n",
       "f403    -0.003581"
      ]
     },
     "execution_count": 19,
     "metadata": {},
     "output_type": "execute_result"
    }
   ],
   "source": [
    "#Check correlation of integer features to target column\n",
    "corr_mat = int_cols.corr()['default'].to_frame()\n",
    "corr_mat['default'].sort_values(ascending=False).to_frame().head(50)\n"
   ]
  },
  {
   "cell_type": "code",
   "execution_count": 20,
   "metadata": {},
   "outputs": [],
   "source": [
    "#Filter columns wither filter threshold > 0.01\n",
    "int_drop_cols = corr_mat[corr_mat['default'] < 0.01]"
   ]
  },
  {
   "cell_type": "code",
   "execution_count": 21,
   "metadata": {},
   "outputs": [
    {
     "data": {
      "text/plain": [
       "Index(['f2', 'f4', 'f5', 'f6', 'f13', 'f36', 'f68', 'f73', 'f74', 'f284',\n",
       "       'f285', 'f286', 'f287', 'f293', 'f294', 'f295', 'f296', 'f309', 'f310',\n",
       "       'f311', 'f312', 'f325', 'f326', 'f327', 'f328', 'f335', 'f336', 'f337',\n",
       "       'f345', 'f354', 'f362', 'f371', 'f379', 'f380', 'f381', 'f382', 'f400',\n",
       "       'f403', 'f408', 'f417', 'f418', 'f427', 'f597', 'f599', 'f656', 'f657',\n",
       "       'f658', 'f659', 'f670', 'f681', 'f693', 'f699', 'f722', 'f725', 'f728',\n",
       "       'f729', 'f730', 'f731', 'f732', 'f741', 'f770', 'f776', 'f777', 'f778'],\n",
       "      dtype='object')"
      ]
     },
     "execution_count": 21,
     "metadata": {},
     "output_type": "execute_result"
    }
   ],
   "source": [
    "int_drop_cols.index"
   ]
  },
  {
   "cell_type": "code",
   "execution_count": 22,
   "metadata": {},
   "outputs": [
    {
     "data": {
      "text/plain": [
       "(105471, 688)"
      ]
     },
     "execution_count": 22,
     "metadata": {},
     "output_type": "execute_result"
    }
   ],
   "source": [
    "#Drop integer columns with correaltion to target < 0.01\n",
    "df.drop(int_drop_cols.index,axis=1,inplace=True)\n",
    "df.shape"
   ]
  },
  {
   "cell_type": "code",
   "execution_count": 23,
   "metadata": {},
   "outputs": [
    {
     "data": {
      "text/plain": [
       "float64    653\n",
       "int64       35\n",
       "dtype: int64"
      ]
     },
     "execution_count": 23,
     "metadata": {},
     "output_type": "execute_result"
    }
   ],
   "source": [
    "df.dtypes.value_counts()"
   ]
  },
  {
   "cell_type": "markdown",
   "metadata": {},
   "source": [
    "### Float columns"
   ]
  },
  {
   "cell_type": "code",
   "execution_count": 24,
   "metadata": {},
   "outputs": [],
   "source": [
    "float_cols = df.select_dtypes(include='float64')"
   ]
  },
  {
   "cell_type": "code",
   "execution_count": 25,
   "metadata": {},
   "outputs": [
    {
     "data": {
      "text/html": [
       "<div>\n",
       "<style scoped>\n",
       "    .dataframe tbody tr th:only-of-type {\n",
       "        vertical-align: middle;\n",
       "    }\n",
       "\n",
       "    .dataframe tbody tr th {\n",
       "        vertical-align: top;\n",
       "    }\n",
       "\n",
       "    .dataframe thead th {\n",
       "        text-align: right;\n",
       "    }\n",
       "</style>\n",
       "<table border=\"1\" class=\"dataframe\">\n",
       "  <thead>\n",
       "    <tr style=\"text-align: right;\">\n",
       "      <th></th>\n",
       "      <th>f3</th>\n",
       "      <th>f7</th>\n",
       "      <th>f8</th>\n",
       "      <th>f9</th>\n",
       "      <th>f10</th>\n",
       "      <th>f14</th>\n",
       "      <th>f15</th>\n",
       "      <th>f17</th>\n",
       "      <th>f18</th>\n",
       "      <th>f19</th>\n",
       "      <th>...</th>\n",
       "      <th>f765</th>\n",
       "      <th>f766</th>\n",
       "      <th>f767</th>\n",
       "      <th>f768</th>\n",
       "      <th>f769</th>\n",
       "      <th>f771</th>\n",
       "      <th>f772</th>\n",
       "      <th>f773</th>\n",
       "      <th>f774</th>\n",
       "      <th>f775</th>\n",
       "    </tr>\n",
       "  </thead>\n",
       "  <tbody>\n",
       "    <tr>\n",
       "      <th>0</th>\n",
       "      <td>0.686842</td>\n",
       "      <td>7201.0</td>\n",
       "      <td>4949.0</td>\n",
       "      <td>126.75</td>\n",
       "      <td>126.03</td>\n",
       "      <td>0.7607</td>\n",
       "      <td>0.7542</td>\n",
       "      <td>0.7236</td>\n",
       "      <td>0.7236</td>\n",
       "      <td>0.5171</td>\n",
       "      <td>...</td>\n",
       "      <td>-0.40</td>\n",
       "      <td>-0.560</td>\n",
       "      <td>-0.440</td>\n",
       "      <td>-0.6280</td>\n",
       "      <td>-3.14</td>\n",
       "      <td>2.14</td>\n",
       "      <td>-1.54</td>\n",
       "      <td>1.18</td>\n",
       "      <td>0.1833</td>\n",
       "      <td>0.7873</td>\n",
       "    </tr>\n",
       "    <tr>\n",
       "      <th>1</th>\n",
       "      <td>0.782776</td>\n",
       "      <td>240.0</td>\n",
       "      <td>1625.0</td>\n",
       "      <td>123.52</td>\n",
       "      <td>121.35</td>\n",
       "      <td>0.6555</td>\n",
       "      <td>0.6555</td>\n",
       "      <td>0.6341</td>\n",
       "      <td>0.6341</td>\n",
       "      <td>0.3909</td>\n",
       "      <td>...</td>\n",
       "      <td>-0.17</td>\n",
       "      <td>-0.275</td>\n",
       "      <td>-0.203</td>\n",
       "      <td>-0.2300</td>\n",
       "      <td>-1.38</td>\n",
       "      <td>0.54</td>\n",
       "      <td>-0.24</td>\n",
       "      <td>0.13</td>\n",
       "      <td>0.1926</td>\n",
       "      <td>-0.6787</td>\n",
       "    </tr>\n",
       "    <tr>\n",
       "      <th>2</th>\n",
       "      <td>0.500080</td>\n",
       "      <td>1800.0</td>\n",
       "      <td>1527.0</td>\n",
       "      <td>127.76</td>\n",
       "      <td>126.49</td>\n",
       "      <td>0.7542</td>\n",
       "      <td>0.7542</td>\n",
       "      <td>0.7542</td>\n",
       "      <td>0.7542</td>\n",
       "      <td>0.5508</td>\n",
       "      <td>...</td>\n",
       "      <td>-0.58</td>\n",
       "      <td>-0.540</td>\n",
       "      <td>-0.572</td>\n",
       "      <td>-0.3985</td>\n",
       "      <td>-5.18</td>\n",
       "      <td>2.89</td>\n",
       "      <td>-1.73</td>\n",
       "      <td>1.04</td>\n",
       "      <td>0.2521</td>\n",
       "      <td>0.7258</td>\n",
       "    </tr>\n",
       "    <tr>\n",
       "      <th>3</th>\n",
       "      <td>0.439874</td>\n",
       "      <td>7542.0</td>\n",
       "      <td>1730.0</td>\n",
       "      <td>132.94</td>\n",
       "      <td>133.58</td>\n",
       "      <td>0.8017</td>\n",
       "      <td>0.7881</td>\n",
       "      <td>0.7881</td>\n",
       "      <td>0.7881</td>\n",
       "      <td>0.5923</td>\n",
       "      <td>...</td>\n",
       "      <td>-0.75</td>\n",
       "      <td>-0.635</td>\n",
       "      <td>-0.745</td>\n",
       "      <td>-0.5100</td>\n",
       "      <td>-2.04</td>\n",
       "      <td>1.29</td>\n",
       "      <td>-0.89</td>\n",
       "      <td>0.66</td>\n",
       "      <td>0.2498</td>\n",
       "      <td>0.7119</td>\n",
       "    </tr>\n",
       "    <tr>\n",
       "      <th>4</th>\n",
       "      <td>0.502749</td>\n",
       "      <td>89.0</td>\n",
       "      <td>491.0</td>\n",
       "      <td>122.72</td>\n",
       "      <td>112.77</td>\n",
       "      <td>0.5263</td>\n",
       "      <td>0.5263</td>\n",
       "      <td>0.5263</td>\n",
       "      <td>0.5263</td>\n",
       "      <td>0.3044</td>\n",
       "      <td>...</td>\n",
       "      <td>-0.18</td>\n",
       "      <td>-0.280</td>\n",
       "      <td>-0.182</td>\n",
       "      <td>-0.4277</td>\n",
       "      <td>-11.12</td>\n",
       "      <td>6.11</td>\n",
       "      <td>-3.82</td>\n",
       "      <td>2.51</td>\n",
       "      <td>0.2282</td>\n",
       "      <td>-0.5399</td>\n",
       "    </tr>\n",
       "  </tbody>\n",
       "</table>\n",
       "<p>5 rows × 653 columns</p>\n",
       "</div>"
      ],
      "text/plain": [
       "         f3      f7      f8      f9     f10     f14     f15     f17     f18  \\\n",
       "0  0.686842  7201.0  4949.0  126.75  126.03  0.7607  0.7542  0.7236  0.7236   \n",
       "1  0.782776   240.0  1625.0  123.52  121.35  0.6555  0.6555  0.6341  0.6341   \n",
       "2  0.500080  1800.0  1527.0  127.76  126.49  0.7542  0.7542  0.7542  0.7542   \n",
       "3  0.439874  7542.0  1730.0  132.94  133.58  0.8017  0.7881  0.7881  0.7881   \n",
       "4  0.502749    89.0   491.0  122.72  112.77  0.5263  0.5263  0.5263  0.5263   \n",
       "\n",
       "      f19  ...  f765   f766   f767    f768   f769  f771  f772  f773    f774  \\\n",
       "0  0.5171  ... -0.40 -0.560 -0.440 -0.6280  -3.14  2.14 -1.54  1.18  0.1833   \n",
       "1  0.3909  ... -0.17 -0.275 -0.203 -0.2300  -1.38  0.54 -0.24  0.13  0.1926   \n",
       "2  0.5508  ... -0.58 -0.540 -0.572 -0.3985  -5.18  2.89 -1.73  1.04  0.2521   \n",
       "3  0.5923  ... -0.75 -0.635 -0.745 -0.5100  -2.04  1.29 -0.89  0.66  0.2498   \n",
       "4  0.3044  ... -0.18 -0.280 -0.182 -0.4277 -11.12  6.11 -3.82  2.51  0.2282   \n",
       "\n",
       "     f775  \n",
       "0  0.7873  \n",
       "1 -0.6787  \n",
       "2  0.7258  \n",
       "3  0.7119  \n",
       "4 -0.5399  \n",
       "\n",
       "[5 rows x 653 columns]"
      ]
     },
     "execution_count": 25,
     "metadata": {},
     "output_type": "execute_result"
    }
   ],
   "source": [
    "float_cols.head()"
   ]
  },
  {
   "cell_type": "code",
   "execution_count": 26,
   "metadata": {},
   "outputs": [
    {
     "data": {
      "text/html": [
       "<div>\n",
       "<style scoped>\n",
       "    .dataframe tbody tr th:only-of-type {\n",
       "        vertical-align: middle;\n",
       "    }\n",
       "\n",
       "    .dataframe tbody tr th {\n",
       "        vertical-align: top;\n",
       "    }\n",
       "\n",
       "    .dataframe thead th {\n",
       "        text-align: right;\n",
       "    }\n",
       "</style>\n",
       "<table border=\"1\" class=\"dataframe\">\n",
       "  <thead>\n",
       "    <tr style=\"text-align: right;\">\n",
       "      <th></th>\n",
       "      <th>f3</th>\n",
       "      <th>f7</th>\n",
       "      <th>f8</th>\n",
       "      <th>f9</th>\n",
       "      <th>f10</th>\n",
       "      <th>f14</th>\n",
       "      <th>f15</th>\n",
       "      <th>f17</th>\n",
       "      <th>f18</th>\n",
       "      <th>f19</th>\n",
       "      <th>...</th>\n",
       "      <th>f766</th>\n",
       "      <th>f767</th>\n",
       "      <th>f768</th>\n",
       "      <th>f769</th>\n",
       "      <th>f771</th>\n",
       "      <th>f772</th>\n",
       "      <th>f773</th>\n",
       "      <th>f774</th>\n",
       "      <th>f775</th>\n",
       "      <th>default</th>\n",
       "    </tr>\n",
       "  </thead>\n",
       "  <tbody>\n",
       "    <tr>\n",
       "      <th>0</th>\n",
       "      <td>0.686842</td>\n",
       "      <td>7201.0</td>\n",
       "      <td>4949.0</td>\n",
       "      <td>126.75</td>\n",
       "      <td>126.03</td>\n",
       "      <td>0.7607</td>\n",
       "      <td>0.7542</td>\n",
       "      <td>0.7236</td>\n",
       "      <td>0.7236</td>\n",
       "      <td>0.5171</td>\n",
       "      <td>...</td>\n",
       "      <td>-0.560</td>\n",
       "      <td>-0.440</td>\n",
       "      <td>-0.6280</td>\n",
       "      <td>-3.14</td>\n",
       "      <td>2.14</td>\n",
       "      <td>-1.54</td>\n",
       "      <td>1.18</td>\n",
       "      <td>0.1833</td>\n",
       "      <td>0.7873</td>\n",
       "      <td>0</td>\n",
       "    </tr>\n",
       "    <tr>\n",
       "      <th>1</th>\n",
       "      <td>0.782776</td>\n",
       "      <td>240.0</td>\n",
       "      <td>1625.0</td>\n",
       "      <td>123.52</td>\n",
       "      <td>121.35</td>\n",
       "      <td>0.6555</td>\n",
       "      <td>0.6555</td>\n",
       "      <td>0.6341</td>\n",
       "      <td>0.6341</td>\n",
       "      <td>0.3909</td>\n",
       "      <td>...</td>\n",
       "      <td>-0.275</td>\n",
       "      <td>-0.203</td>\n",
       "      <td>-0.2300</td>\n",
       "      <td>-1.38</td>\n",
       "      <td>0.54</td>\n",
       "      <td>-0.24</td>\n",
       "      <td>0.13</td>\n",
       "      <td>0.1926</td>\n",
       "      <td>-0.6787</td>\n",
       "      <td>0</td>\n",
       "    </tr>\n",
       "    <tr>\n",
       "      <th>2</th>\n",
       "      <td>0.500080</td>\n",
       "      <td>1800.0</td>\n",
       "      <td>1527.0</td>\n",
       "      <td>127.76</td>\n",
       "      <td>126.49</td>\n",
       "      <td>0.7542</td>\n",
       "      <td>0.7542</td>\n",
       "      <td>0.7542</td>\n",
       "      <td>0.7542</td>\n",
       "      <td>0.5508</td>\n",
       "      <td>...</td>\n",
       "      <td>-0.540</td>\n",
       "      <td>-0.572</td>\n",
       "      <td>-0.3985</td>\n",
       "      <td>-5.18</td>\n",
       "      <td>2.89</td>\n",
       "      <td>-1.73</td>\n",
       "      <td>1.04</td>\n",
       "      <td>0.2521</td>\n",
       "      <td>0.7258</td>\n",
       "      <td>0</td>\n",
       "    </tr>\n",
       "    <tr>\n",
       "      <th>3</th>\n",
       "      <td>0.439874</td>\n",
       "      <td>7542.0</td>\n",
       "      <td>1730.0</td>\n",
       "      <td>132.94</td>\n",
       "      <td>133.58</td>\n",
       "      <td>0.8017</td>\n",
       "      <td>0.7881</td>\n",
       "      <td>0.7881</td>\n",
       "      <td>0.7881</td>\n",
       "      <td>0.5923</td>\n",
       "      <td>...</td>\n",
       "      <td>-0.635</td>\n",
       "      <td>-0.745</td>\n",
       "      <td>-0.5100</td>\n",
       "      <td>-2.04</td>\n",
       "      <td>1.29</td>\n",
       "      <td>-0.89</td>\n",
       "      <td>0.66</td>\n",
       "      <td>0.2498</td>\n",
       "      <td>0.7119</td>\n",
       "      <td>0</td>\n",
       "    </tr>\n",
       "    <tr>\n",
       "      <th>4</th>\n",
       "      <td>0.502749</td>\n",
       "      <td>89.0</td>\n",
       "      <td>491.0</td>\n",
       "      <td>122.72</td>\n",
       "      <td>112.77</td>\n",
       "      <td>0.5263</td>\n",
       "      <td>0.5263</td>\n",
       "      <td>0.5263</td>\n",
       "      <td>0.5263</td>\n",
       "      <td>0.3044</td>\n",
       "      <td>...</td>\n",
       "      <td>-0.280</td>\n",
       "      <td>-0.182</td>\n",
       "      <td>-0.4277</td>\n",
       "      <td>-11.12</td>\n",
       "      <td>6.11</td>\n",
       "      <td>-3.82</td>\n",
       "      <td>2.51</td>\n",
       "      <td>0.2282</td>\n",
       "      <td>-0.5399</td>\n",
       "      <td>0</td>\n",
       "    </tr>\n",
       "  </tbody>\n",
       "</table>\n",
       "<p>5 rows × 654 columns</p>\n",
       "</div>"
      ],
      "text/plain": [
       "         f3      f7      f8      f9     f10     f14     f15     f17     f18  \\\n",
       "0  0.686842  7201.0  4949.0  126.75  126.03  0.7607  0.7542  0.7236  0.7236   \n",
       "1  0.782776   240.0  1625.0  123.52  121.35  0.6555  0.6555  0.6341  0.6341   \n",
       "2  0.500080  1800.0  1527.0  127.76  126.49  0.7542  0.7542  0.7542  0.7542   \n",
       "3  0.439874  7542.0  1730.0  132.94  133.58  0.8017  0.7881  0.7881  0.7881   \n",
       "4  0.502749    89.0   491.0  122.72  112.77  0.5263  0.5263  0.5263  0.5263   \n",
       "\n",
       "      f19  ...   f766   f767    f768   f769  f771  f772  f773    f774    f775  \\\n",
       "0  0.5171  ... -0.560 -0.440 -0.6280  -3.14  2.14 -1.54  1.18  0.1833  0.7873   \n",
       "1  0.3909  ... -0.275 -0.203 -0.2300  -1.38  0.54 -0.24  0.13  0.1926 -0.6787   \n",
       "2  0.5508  ... -0.540 -0.572 -0.3985  -5.18  2.89 -1.73  1.04  0.2521  0.7258   \n",
       "3  0.5923  ... -0.635 -0.745 -0.5100  -2.04  1.29 -0.89  0.66  0.2498  0.7119   \n",
       "4  0.3044  ... -0.280 -0.182 -0.4277 -11.12  6.11 -3.82  2.51  0.2282 -0.5399   \n",
       "\n",
       "   default  \n",
       "0        0  \n",
       "1        0  \n",
       "2        0  \n",
       "3        0  \n",
       "4        0  \n",
       "\n",
       "[5 rows x 654 columns]"
      ]
     },
     "execution_count": 26,
     "metadata": {},
     "output_type": "execute_result"
    }
   ],
   "source": [
    "#Include target to check float columns correlation with target\n",
    "float_target = list(float_cols.columns)\n",
    "float_target.append('default')\n",
    "floats_df = df[float_target]\n",
    "floats_df.head()"
   ]
  },
  {
   "cell_type": "code",
   "execution_count": 27,
   "metadata": {},
   "outputs": [],
   "source": [
    "float_corr = floats_df.corr()['default'].to_frame()"
   ]
  },
  {
   "cell_type": "code",
   "execution_count": 28,
   "metadata": {},
   "outputs": [
    {
     "data": {
      "text/plain": [
       "default    1.000000\n",
       "f322       0.123838\n",
       "f323       0.111113\n",
       "f314       0.110452\n",
       "f376       0.103534\n",
       "             ...   \n",
       "f475       0.066454\n",
       "f128       0.066079\n",
       "f127       0.066079\n",
       "f126       0.066079\n",
       "f125       0.066079\n",
       "Name: default, Length: 75, dtype: float64"
      ]
     },
     "execution_count": 28,
     "metadata": {},
     "output_type": "execute_result"
    }
   ],
   "source": [
    "float_corr['default'].sort_values(ascending=False).head(75)"
   ]
  },
  {
   "cell_type": "code",
   "execution_count": 29,
   "metadata": {},
   "outputs": [],
   "source": [
    "float_drops = float_corr[float_corr['default'] < 0.04]"
   ]
  },
  {
   "cell_type": "code",
   "execution_count": 30,
   "metadata": {},
   "outputs": [],
   "source": [
    "floats_2_drop = list(float_drops.index)"
   ]
  },
  {
   "cell_type": "code",
   "execution_count": 31,
   "metadata": {},
   "outputs": [
    {
     "data": {
      "text/plain": [
       "['f3',\n",
       " 'f8',\n",
       " 'f9',\n",
       " 'f10',\n",
       " 'f42',\n",
       " 'f43',\n",
       " 'f44',\n",
       " 'f48',\n",
       " 'f52',\n",
       " 'f53',\n",
       " 'f54',\n",
       " 'f58',\n",
       " 'f62',\n",
       " 'f66',\n",
       " 'f67',\n",
       " 'f69',\n",
       " 'f70',\n",
       " 'f71',\n",
       " 'f72',\n",
       " 'f75',\n",
       " 'f76',\n",
       " 'f77',\n",
       " 'f80',\n",
       " 'f81',\n",
       " 'f82',\n",
       " 'f83',\n",
       " 'f90',\n",
       " 'f91',\n",
       " 'f92',\n",
       " 'f93',\n",
       " 'f100',\n",
       " 'f101',\n",
       " 'f102',\n",
       " 'f103',\n",
       " 'f109',\n",
       " 'f110',\n",
       " 'f111',\n",
       " 'f112',\n",
       " 'f113',\n",
       " 'f120',\n",
       " 'f121',\n",
       " 'f123',\n",
       " 'f130',\n",
       " 'f131',\n",
       " 'f132',\n",
       " 'f133',\n",
       " 'f134',\n",
       " 'f136',\n",
       " 'f139',\n",
       " 'f140',\n",
       " 'f141',\n",
       " 'f142',\n",
       " 'f143',\n",
       " 'f144',\n",
       " 'f145',\n",
       " 'f146',\n",
       " 'f147',\n",
       " 'f148',\n",
       " 'f150',\n",
       " 'f154',\n",
       " 'f155',\n",
       " 'f156',\n",
       " 'f157',\n",
       " 'f159',\n",
       " 'f160',\n",
       " 'f164',\n",
       " 'f165',\n",
       " 'f166',\n",
       " 'f167',\n",
       " 'f169',\n",
       " 'f170',\n",
       " 'f171',\n",
       " 'f172',\n",
       " 'f173',\n",
       " 'f174',\n",
       " 'f175',\n",
       " 'f176',\n",
       " 'f177',\n",
       " 'f178',\n",
       " 'f179',\n",
       " 'f180',\n",
       " 'f184',\n",
       " 'f185',\n",
       " 'f186',\n",
       " 'f187',\n",
       " 'f189',\n",
       " 'f190',\n",
       " 'f194',\n",
       " 'f195',\n",
       " 'f196',\n",
       " 'f197',\n",
       " 'f199',\n",
       " 'f200',\n",
       " 'f201',\n",
       " 'f202',\n",
       " 'f203',\n",
       " 'f204',\n",
       " 'f205',\n",
       " 'f208',\n",
       " 'f209',\n",
       " 'f210',\n",
       " 'f211',\n",
       " 'f212',\n",
       " 'f213',\n",
       " 'f214',\n",
       " 'f215',\n",
       " 'f216',\n",
       " 'f217',\n",
       " 'f218',\n",
       " 'f220',\n",
       " 'f222',\n",
       " 'f229',\n",
       " 'f230',\n",
       " 'f231',\n",
       " 'f232',\n",
       " 'f239',\n",
       " 'f240',\n",
       " 'f241',\n",
       " 'f242',\n",
       " 'f249',\n",
       " 'f250',\n",
       " 'f259',\n",
       " 'f260',\n",
       " 'f269',\n",
       " 'f270',\n",
       " 'f271',\n",
       " 'f272',\n",
       " 'f275',\n",
       " 'f280',\n",
       " 'f281',\n",
       " 'f282',\n",
       " 'f283',\n",
       " 'f288',\n",
       " 'f289',\n",
       " 'f307',\n",
       " 'f313',\n",
       " 'f330',\n",
       " 'f331',\n",
       " 'f332',\n",
       " 'f333',\n",
       " 'f334',\n",
       " 'f339',\n",
       " 'f340',\n",
       " 'f341',\n",
       " 'f346',\n",
       " 'f347',\n",
       " 'f348',\n",
       " 'f349',\n",
       " 'f350',\n",
       " 'f355',\n",
       " 'f356',\n",
       " 'f357',\n",
       " 'f358',\n",
       " 'f363',\n",
       " 'f364',\n",
       " 'f365',\n",
       " 'f366',\n",
       " 'f367',\n",
       " 'f372',\n",
       " 'f373',\n",
       " 'f374',\n",
       " 'f375',\n",
       " 'f383',\n",
       " 'f384',\n",
       " 'f385',\n",
       " 'f386',\n",
       " 'f388',\n",
       " 'f389',\n",
       " 'f392',\n",
       " 'f393',\n",
       " 'f394',\n",
       " 'f395',\n",
       " 'f396',\n",
       " 'f397',\n",
       " 'f398',\n",
       " 'f399',\n",
       " 'f402',\n",
       " 'f404',\n",
       " 'f405',\n",
       " 'f406',\n",
       " 'f407',\n",
       " 'f409',\n",
       " 'f410',\n",
       " 'f411',\n",
       " 'f412',\n",
       " 'f413',\n",
       " 'f414',\n",
       " 'f415',\n",
       " 'f416',\n",
       " 'f421',\n",
       " 'f422',\n",
       " 'f423',\n",
       " 'f424',\n",
       " 'f425',\n",
       " 'f426',\n",
       " 'f428',\n",
       " 'f429',\n",
       " 'f430',\n",
       " 'f431',\n",
       " 'f432',\n",
       " 'f433',\n",
       " 'f434',\n",
       " 'f435',\n",
       " 'f436',\n",
       " 'f438',\n",
       " 'f440',\n",
       " 'f441',\n",
       " 'f442',\n",
       " 'f443',\n",
       " 'f444',\n",
       " 'f446',\n",
       " 'f448',\n",
       " 'f449',\n",
       " 'f450',\n",
       " 'f451',\n",
       " 'f458',\n",
       " 'f466',\n",
       " 'f468',\n",
       " 'f479',\n",
       " 'f489',\n",
       " 'f499',\n",
       " 'f509',\n",
       " 'f515',\n",
       " 'f516',\n",
       " 'f517',\n",
       " 'f518',\n",
       " 'f519',\n",
       " 'f520',\n",
       " 'f522',\n",
       " 'f523',\n",
       " 'f524',\n",
       " 'f525',\n",
       " 'f526',\n",
       " 'f533',\n",
       " 'f536',\n",
       " 'f542',\n",
       " 'f543',\n",
       " 'f544',\n",
       " 'f546',\n",
       " 'f547',\n",
       " 'f551',\n",
       " 'f552',\n",
       " 'f553',\n",
       " 'f554',\n",
       " 'f556',\n",
       " 'f557',\n",
       " 'f561',\n",
       " 'f562',\n",
       " 'f563',\n",
       " 'f564',\n",
       " 'f566',\n",
       " 'f567',\n",
       " 'f571',\n",
       " 'f572',\n",
       " 'f573',\n",
       " 'f574',\n",
       " 'f576',\n",
       " 'f580',\n",
       " 'f581',\n",
       " 'f582',\n",
       " 'f583',\n",
       " 'f585',\n",
       " 'f586',\n",
       " 'f587',\n",
       " 'f588',\n",
       " 'f590',\n",
       " 'f591',\n",
       " 'f592',\n",
       " 'f593',\n",
       " 'f594',\n",
       " 'f595',\n",
       " 'f596',\n",
       " 'f598',\n",
       " 'f600',\n",
       " 'f601',\n",
       " 'f604',\n",
       " 'f607',\n",
       " 'f609',\n",
       " 'f610',\n",
       " 'f611',\n",
       " 'f612',\n",
       " 'f613',\n",
       " 'f614',\n",
       " 'f615',\n",
       " 'f616',\n",
       " 'f617',\n",
       " 'f618',\n",
       " 'f619',\n",
       " 'f620',\n",
       " 'f621',\n",
       " 'f622',\n",
       " 'f624',\n",
       " 'f625',\n",
       " 'f628',\n",
       " 'f629',\n",
       " 'f630',\n",
       " 'f631',\n",
       " 'f632',\n",
       " 'f633',\n",
       " 'f634',\n",
       " 'f635',\n",
       " 'f636',\n",
       " 'f637',\n",
       " 'f638',\n",
       " 'f639',\n",
       " 'f644',\n",
       " 'f645',\n",
       " 'f646',\n",
       " 'f647',\n",
       " 'f648',\n",
       " 'f649',\n",
       " 'f650',\n",
       " 'f651',\n",
       " 'f652',\n",
       " 'f653',\n",
       " 'f654',\n",
       " 'f655',\n",
       " 'f660',\n",
       " 'f661',\n",
       " 'f662',\n",
       " 'f663',\n",
       " 'f664',\n",
       " 'f665',\n",
       " 'f666',\n",
       " 'f667',\n",
       " 'f668',\n",
       " 'f669',\n",
       " 'f671',\n",
       " 'f672',\n",
       " 'f673',\n",
       " 'f675',\n",
       " 'f676',\n",
       " 'f679',\n",
       " 'f680',\n",
       " 'f682',\n",
       " 'f683',\n",
       " 'f684',\n",
       " 'f685',\n",
       " 'f686',\n",
       " 'f687',\n",
       " 'f688',\n",
       " 'f689',\n",
       " 'f690',\n",
       " 'f691',\n",
       " 'f692',\n",
       " 'f694',\n",
       " 'f696',\n",
       " 'f697',\n",
       " 'f703',\n",
       " 'f704',\n",
       " 'f705',\n",
       " 'f706',\n",
       " 'f707',\n",
       " 'f708',\n",
       " 'f709',\n",
       " 'f710',\n",
       " 'f711',\n",
       " 'f712',\n",
       " 'f713',\n",
       " 'f714',\n",
       " 'f715',\n",
       " 'f716',\n",
       " 'f717',\n",
       " 'f718',\n",
       " 'f719',\n",
       " 'f720',\n",
       " 'f721',\n",
       " 'f723',\n",
       " 'f724',\n",
       " 'f726',\n",
       " 'f727',\n",
       " 'f733',\n",
       " 'f734',\n",
       " 'f735',\n",
       " 'f737',\n",
       " 'f738',\n",
       " 'f739',\n",
       " 'f740',\n",
       " 'f742',\n",
       " 'f743',\n",
       " 'f744',\n",
       " 'f745',\n",
       " 'f746',\n",
       " 'f747',\n",
       " 'f748',\n",
       " 'f749',\n",
       " 'f750',\n",
       " 'f751',\n",
       " 'f752',\n",
       " 'f753',\n",
       " 'f754',\n",
       " 'f755',\n",
       " 'f756',\n",
       " 'f757',\n",
       " 'f758',\n",
       " 'f759',\n",
       " 'f760',\n",
       " 'f761',\n",
       " 'f762',\n",
       " 'f765',\n",
       " 'f766',\n",
       " 'f767',\n",
       " 'f768',\n",
       " 'f769',\n",
       " 'f771',\n",
       " 'f772',\n",
       " 'f773',\n",
       " 'f774',\n",
       " 'f775']"
      ]
     },
     "execution_count": 31,
     "metadata": {},
     "output_type": "execute_result"
    }
   ],
   "source": [
    "floats_2_drop"
   ]
  },
  {
   "cell_type": "code",
   "execution_count": 32,
   "metadata": {},
   "outputs": [],
   "source": [
    "df.drop(floats_2_drop,axis=1,inplace=True)"
   ]
  },
  {
   "cell_type": "code",
   "execution_count": 33,
   "metadata": {},
   "outputs": [
    {
     "data": {
      "text/plain": [
       "(105471, 279)"
      ]
     },
     "execution_count": 33,
     "metadata": {},
     "output_type": "execute_result"
    }
   ],
   "source": [
    "df.shape"
   ]
  },
  {
   "cell_type": "code",
   "execution_count": 34,
   "metadata": {},
   "outputs": [
    {
     "data": {
      "text/plain": [
       "float64    244\n",
       "int64       35\n",
       "dtype: int64"
      ]
     },
     "execution_count": 34,
     "metadata": {},
     "output_type": "execute_result"
    }
   ],
   "source": [
    "df.dtypes.value_counts()"
   ]
  },
  {
   "cell_type": "code",
   "execution_count": 35,
   "metadata": {},
   "outputs": [
    {
     "data": {
      "text/html": [
       "<div>\n",
       "<style scoped>\n",
       "    .dataframe tbody tr th:only-of-type {\n",
       "        vertical-align: middle;\n",
       "    }\n",
       "\n",
       "    .dataframe tbody tr th {\n",
       "        vertical-align: top;\n",
       "    }\n",
       "\n",
       "    .dataframe thead th {\n",
       "        text-align: right;\n",
       "    }\n",
       "</style>\n",
       "<table border=\"1\" class=\"dataframe\">\n",
       "  <thead>\n",
       "    <tr style=\"text-align: right;\">\n",
       "      <th></th>\n",
       "      <th>id</th>\n",
       "      <th>f1</th>\n",
       "      <th>f7</th>\n",
       "      <th>f14</th>\n",
       "      <th>f15</th>\n",
       "      <th>f16</th>\n",
       "      <th>f17</th>\n",
       "      <th>f18</th>\n",
       "      <th>f19</th>\n",
       "      <th>f20</th>\n",
       "      <th>...</th>\n",
       "      <th>f674</th>\n",
       "      <th>f677</th>\n",
       "      <th>f678</th>\n",
       "      <th>f700</th>\n",
       "      <th>f701</th>\n",
       "      <th>f702</th>\n",
       "      <th>f736</th>\n",
       "      <th>f763</th>\n",
       "      <th>f764</th>\n",
       "      <th>default</th>\n",
       "    </tr>\n",
       "  </thead>\n",
       "  <tbody>\n",
       "    <tr>\n",
       "      <th>0</th>\n",
       "      <td>1</td>\n",
       "      <td>126</td>\n",
       "      <td>7201.0</td>\n",
       "      <td>0.7607</td>\n",
       "      <td>0.7542</td>\n",
       "      <td>612922</td>\n",
       "      <td>0.7236</td>\n",
       "      <td>0.7236</td>\n",
       "      <td>0.5171</td>\n",
       "      <td>0.7236</td>\n",
       "      <td>...</td>\n",
       "      <td>33</td>\n",
       "      <td>3.0</td>\n",
       "      <td>0.0</td>\n",
       "      <td>0</td>\n",
       "      <td>0</td>\n",
       "      <td>0</td>\n",
       "      <td>1</td>\n",
       "      <td>-0.1524</td>\n",
       "      <td>1</td>\n",
       "      <td>0</td>\n",
       "    </tr>\n",
       "    <tr>\n",
       "      <th>1</th>\n",
       "      <td>2</td>\n",
       "      <td>121</td>\n",
       "      <td>240.0</td>\n",
       "      <td>0.6555</td>\n",
       "      <td>0.6555</td>\n",
       "      <td>245815</td>\n",
       "      <td>0.6341</td>\n",
       "      <td>0.6341</td>\n",
       "      <td>0.3909</td>\n",
       "      <td>0.6667</td>\n",
       "      <td>...</td>\n",
       "      <td>43</td>\n",
       "      <td>1.0</td>\n",
       "      <td>0.0</td>\n",
       "      <td>0</td>\n",
       "      <td>0</td>\n",
       "      <td>0</td>\n",
       "      <td>1</td>\n",
       "      <td>-0.3097</td>\n",
       "      <td>1</td>\n",
       "      <td>0</td>\n",
       "    </tr>\n",
       "    <tr>\n",
       "      <th>2</th>\n",
       "      <td>3</td>\n",
       "      <td>126</td>\n",
       "      <td>1800.0</td>\n",
       "      <td>0.7542</td>\n",
       "      <td>0.7542</td>\n",
       "      <td>1385872</td>\n",
       "      <td>0.7542</td>\n",
       "      <td>0.7542</td>\n",
       "      <td>0.5508</td>\n",
       "      <td>0.7542</td>\n",
       "      <td>...</td>\n",
       "      <td>100</td>\n",
       "      <td>9.0</td>\n",
       "      <td>0.0</td>\n",
       "      <td>0</td>\n",
       "      <td>0</td>\n",
       "      <td>0</td>\n",
       "      <td>1</td>\n",
       "      <td>-0.1909</td>\n",
       "      <td>1</td>\n",
       "      <td>0</td>\n",
       "    </tr>\n",
       "    <tr>\n",
       "      <th>3</th>\n",
       "      <td>4</td>\n",
       "      <td>134</td>\n",
       "      <td>7542.0</td>\n",
       "      <td>0.8017</td>\n",
       "      <td>0.7881</td>\n",
       "      <td>704687</td>\n",
       "      <td>0.7881</td>\n",
       "      <td>0.7881</td>\n",
       "      <td>0.5923</td>\n",
       "      <td>0.7881</td>\n",
       "      <td>...</td>\n",
       "      <td>18</td>\n",
       "      <td>7.0</td>\n",
       "      <td>0.0</td>\n",
       "      <td>0</td>\n",
       "      <td>0</td>\n",
       "      <td>0</td>\n",
       "      <td>1</td>\n",
       "      <td>-0.1770</td>\n",
       "      <td>1</td>\n",
       "      <td>0</td>\n",
       "    </tr>\n",
       "    <tr>\n",
       "      <th>4</th>\n",
       "      <td>5</td>\n",
       "      <td>109</td>\n",
       "      <td>89.0</td>\n",
       "      <td>0.5263</td>\n",
       "      <td>0.5263</td>\n",
       "      <td>51985</td>\n",
       "      <td>0.5263</td>\n",
       "      <td>0.5263</td>\n",
       "      <td>0.3044</td>\n",
       "      <td>0.5405</td>\n",
       "      <td>...</td>\n",
       "      <td>33</td>\n",
       "      <td>3.0</td>\n",
       "      <td>0.0</td>\n",
       "      <td>0</td>\n",
       "      <td>0</td>\n",
       "      <td>0</td>\n",
       "      <td>1</td>\n",
       "      <td>-0.4444</td>\n",
       "      <td>1</td>\n",
       "      <td>0</td>\n",
       "    </tr>\n",
       "  </tbody>\n",
       "</table>\n",
       "<p>5 rows × 279 columns</p>\n",
       "</div>"
      ],
      "text/plain": [
       "   id   f1      f7     f14     f15      f16     f17     f18     f19     f20  \\\n",
       "0   1  126  7201.0  0.7607  0.7542   612922  0.7236  0.7236  0.5171  0.7236   \n",
       "1   2  121   240.0  0.6555  0.6555   245815  0.6341  0.6341  0.3909  0.6667   \n",
       "2   3  126  1800.0  0.7542  0.7542  1385872  0.7542  0.7542  0.5508  0.7542   \n",
       "3   4  134  7542.0  0.8017  0.7881   704687  0.7881  0.7881  0.5923  0.7881   \n",
       "4   5  109    89.0  0.5263  0.5263    51985  0.5263  0.5263  0.3044  0.5405   \n",
       "\n",
       "   ...  f674  f677  f678  f700  f701  f702  f736    f763  f764  default  \n",
       "0  ...    33   3.0   0.0     0     0     0     1 -0.1524     1        0  \n",
       "1  ...    43   1.0   0.0     0     0     0     1 -0.3097     1        0  \n",
       "2  ...   100   9.0   0.0     0     0     0     1 -0.1909     1        0  \n",
       "3  ...    18   7.0   0.0     0     0     0     1 -0.1770     1        0  \n",
       "4  ...    33   3.0   0.0     0     0     0     1 -0.4444     1        0  \n",
       "\n",
       "[5 rows x 279 columns]"
      ]
     },
     "execution_count": 35,
     "metadata": {},
     "output_type": "execute_result"
    }
   ],
   "source": [
    "df.head()"
   ]
  },
  {
   "cell_type": "markdown",
   "metadata": {},
   "source": [
    "### Remove constant/quasi-constant features"
   ]
  },
  {
   "cell_type": "code",
   "execution_count": 36,
   "metadata": {},
   "outputs": [],
   "source": [
    "#Check for constant columns\n",
    "constant_features = [feat for feat in df.columns if df[feat].std() <= 0.01]"
   ]
  },
  {
   "cell_type": "code",
   "execution_count": 37,
   "metadata": {},
   "outputs": [
    {
     "data": {
      "text/plain": [
       "['f33',\n",
       " 'f34',\n",
       " 'f35',\n",
       " 'f37',\n",
       " 'f38',\n",
       " 'f678',\n",
       " 'f700',\n",
       " 'f701',\n",
       " 'f702',\n",
       " 'f736',\n",
       " 'f764']"
      ]
     },
     "execution_count": 37,
     "metadata": {},
     "output_type": "execute_result"
    }
   ],
   "source": [
    "constant_features"
   ]
  },
  {
   "cell_type": "code",
   "execution_count": 38,
   "metadata": {},
   "outputs": [
    {
     "data": {
      "text/plain": [
       "'11 features have been found to be constant/quasi constant and will be removed'"
      ]
     },
     "execution_count": 38,
     "metadata": {},
     "output_type": "execute_result"
    }
   ],
   "source": [
    "f'{len(constant_features)} features have been found to be constant/quasi constant and will be removed'"
   ]
  },
  {
   "cell_type": "code",
   "execution_count": 39,
   "metadata": {},
   "outputs": [],
   "source": [
    "df.drop(constant_features,axis=1,inplace=True)"
   ]
  },
  {
   "cell_type": "code",
   "execution_count": 40,
   "metadata": {},
   "outputs": [
    {
     "data": {
      "text/plain": [
       "(105471, 268)"
      ]
     },
     "execution_count": 40,
     "metadata": {},
     "output_type": "execute_result"
    }
   ],
   "source": [
    "df.shape"
   ]
  },
  {
   "cell_type": "code",
   "execution_count": 42,
   "metadata": {},
   "outputs": [
    {
     "data": {
      "text/plain": [
       "float64    243\n",
       "int64       25\n",
       "dtype: int64"
      ]
     },
     "execution_count": 42,
     "metadata": {},
     "output_type": "execute_result"
    }
   ],
   "source": [
    "df.dtypes.value_counts()"
   ]
  },
  {
   "cell_type": "code",
   "execution_count": 43,
   "metadata": {},
   "outputs": [],
   "source": [
    "feat = list(df.columns)"
   ]
  },
  {
   "cell_type": "code",
   "execution_count": 44,
   "metadata": {},
   "outputs": [
    {
     "data": {
      "text/plain": [
       "'default'"
      ]
     },
     "execution_count": 44,
     "metadata": {},
     "output_type": "execute_result"
    }
   ],
   "source": [
    "feat.pop(-1)"
   ]
  },
  {
   "cell_type": "code",
   "execution_count": 45,
   "metadata": {},
   "outputs": [
    {
     "data": {
      "text/plain": [
       "'id'"
      ]
     },
     "execution_count": 45,
     "metadata": {},
     "output_type": "execute_result"
    }
   ],
   "source": [
    "feat.pop(0)"
   ]
  },
  {
   "cell_type": "code",
   "execution_count": 46,
   "metadata": {},
   "outputs": [],
   "source": [
    "features = df[feat]"
   ]
  },
  {
   "cell_type": "code",
   "execution_count": 47,
   "metadata": {},
   "outputs": [
    {
     "data": {
      "text/html": [
       "<div>\n",
       "<style scoped>\n",
       "    .dataframe tbody tr th:only-of-type {\n",
       "        vertical-align: middle;\n",
       "    }\n",
       "\n",
       "    .dataframe tbody tr th {\n",
       "        vertical-align: top;\n",
       "    }\n",
       "\n",
       "    .dataframe thead th {\n",
       "        text-align: right;\n",
       "    }\n",
       "</style>\n",
       "<table border=\"1\" class=\"dataframe\">\n",
       "  <thead>\n",
       "    <tr style=\"text-align: right;\">\n",
       "      <th></th>\n",
       "      <th>f1</th>\n",
       "      <th>f7</th>\n",
       "      <th>f14</th>\n",
       "      <th>f15</th>\n",
       "      <th>f16</th>\n",
       "      <th>f17</th>\n",
       "      <th>f18</th>\n",
       "      <th>f19</th>\n",
       "      <th>f20</th>\n",
       "      <th>f21</th>\n",
       "      <th>...</th>\n",
       "      <th>f606</th>\n",
       "      <th>f608</th>\n",
       "      <th>f623</th>\n",
       "      <th>f640</th>\n",
       "      <th>f641</th>\n",
       "      <th>f642</th>\n",
       "      <th>f643</th>\n",
       "      <th>f674</th>\n",
       "      <th>f677</th>\n",
       "      <th>f763</th>\n",
       "    </tr>\n",
       "  </thead>\n",
       "  <tbody>\n",
       "    <tr>\n",
       "      <th>0</th>\n",
       "      <td>126</td>\n",
       "      <td>7201.0</td>\n",
       "      <td>0.7607</td>\n",
       "      <td>0.7542</td>\n",
       "      <td>612922</td>\n",
       "      <td>0.7236</td>\n",
       "      <td>0.7236</td>\n",
       "      <td>0.5171</td>\n",
       "      <td>0.7236</td>\n",
       "      <td>0.8476</td>\n",
       "      <td>...</td>\n",
       "      <td>43715.465</td>\n",
       "      <td>7173.0</td>\n",
       "      <td>1.141477e+09</td>\n",
       "      <td>94.417</td>\n",
       "      <td>0.762765</td>\n",
       "      <td>0.750977</td>\n",
       "      <td>0.781186</td>\n",
       "      <td>33</td>\n",
       "      <td>3.0</td>\n",
       "      <td>-0.1524</td>\n",
       "    </tr>\n",
       "    <tr>\n",
       "      <th>1</th>\n",
       "      <td>121</td>\n",
       "      <td>240.0</td>\n",
       "      <td>0.6555</td>\n",
       "      <td>0.6555</td>\n",
       "      <td>245815</td>\n",
       "      <td>0.6341</td>\n",
       "      <td>0.6341</td>\n",
       "      <td>0.3909</td>\n",
       "      <td>0.6667</td>\n",
       "      <td>0.6903</td>\n",
       "      <td>...</td>\n",
       "      <td>1493.475</td>\n",
       "      <td>240.0</td>\n",
       "      <td>1.019287e+09</td>\n",
       "      <td>86.005</td>\n",
       "      <td>0.741765</td>\n",
       "      <td>0.749177</td>\n",
       "      <td>0.679880</td>\n",
       "      <td>43</td>\n",
       "      <td>1.0</td>\n",
       "      <td>-0.3097</td>\n",
       "    </tr>\n",
       "    <tr>\n",
       "      <th>2</th>\n",
       "      <td>126</td>\n",
       "      <td>1800.0</td>\n",
       "      <td>0.7542</td>\n",
       "      <td>0.7542</td>\n",
       "      <td>1385872</td>\n",
       "      <td>0.7542</td>\n",
       "      <td>0.7542</td>\n",
       "      <td>0.5508</td>\n",
       "      <td>0.7542</td>\n",
       "      <td>0.8091</td>\n",
       "      <td>...</td>\n",
       "      <td>12346.125</td>\n",
       "      <td>1779.0</td>\n",
       "      <td>1.371877e+09</td>\n",
       "      <td>88.168</td>\n",
       "      <td>0.792410</td>\n",
       "      <td>0.786338</td>\n",
       "      <td>0.723983</td>\n",
       "      <td>100</td>\n",
       "      <td>9.0</td>\n",
       "      <td>-0.1909</td>\n",
       "    </tr>\n",
       "    <tr>\n",
       "      <th>3</th>\n",
       "      <td>134</td>\n",
       "      <td>7542.0</td>\n",
       "      <td>0.8017</td>\n",
       "      <td>0.7881</td>\n",
       "      <td>704687</td>\n",
       "      <td>0.7881</td>\n",
       "      <td>0.7881</td>\n",
       "      <td>0.5923</td>\n",
       "      <td>0.7881</td>\n",
       "      <td>0.8230</td>\n",
       "      <td>...</td>\n",
       "      <td>44551.520</td>\n",
       "      <td>7532.0</td>\n",
       "      <td>1.731281e+09</td>\n",
       "      <td>87.051</td>\n",
       "      <td>0.906675</td>\n",
       "      <td>0.930015</td>\n",
       "      <td>0.884525</td>\n",
       "      <td>18</td>\n",
       "      <td>7.0</td>\n",
       "      <td>-0.1770</td>\n",
       "    </tr>\n",
       "    <tr>\n",
       "      <th>4</th>\n",
       "      <td>109</td>\n",
       "      <td>89.0</td>\n",
       "      <td>0.5263</td>\n",
       "      <td>0.5263</td>\n",
       "      <td>51985</td>\n",
       "      <td>0.5263</td>\n",
       "      <td>0.5263</td>\n",
       "      <td>0.3044</td>\n",
       "      <td>0.5405</td>\n",
       "      <td>0.5556</td>\n",
       "      <td>...</td>\n",
       "      <td>539.310</td>\n",
       "      <td>89.0</td>\n",
       "      <td>1.757310e+09</td>\n",
       "      <td>72.670</td>\n",
       "      <td>0.678565</td>\n",
       "      <td>0.625417</td>\n",
       "      <td>0.747705</td>\n",
       "      <td>33</td>\n",
       "      <td>3.0</td>\n",
       "      <td>-0.4444</td>\n",
       "    </tr>\n",
       "    <tr>\n",
       "      <th>...</th>\n",
       "      <td>...</td>\n",
       "      <td>...</td>\n",
       "      <td>...</td>\n",
       "      <td>...</td>\n",
       "      <td>...</td>\n",
       "      <td>...</td>\n",
       "      <td>...</td>\n",
       "      <td>...</td>\n",
       "      <td>...</td>\n",
       "      <td>...</td>\n",
       "      <td>...</td>\n",
       "      <td>...</td>\n",
       "      <td>...</td>\n",
       "      <td>...</td>\n",
       "      <td>...</td>\n",
       "      <td>...</td>\n",
       "      <td>...</td>\n",
       "      <td>...</td>\n",
       "      <td>...</td>\n",
       "      <td>...</td>\n",
       "      <td>...</td>\n",
       "    </tr>\n",
       "    <tr>\n",
       "      <th>105466</th>\n",
       "      <td>126</td>\n",
       "      <td>331.0</td>\n",
       "      <td>0.4878</td>\n",
       "      <td>0.4878</td>\n",
       "      <td>9281480</td>\n",
       "      <td>0.4918</td>\n",
       "      <td>0.4615</td>\n",
       "      <td>0.2147</td>\n",
       "      <td>0.4615</td>\n",
       "      <td>0.4800</td>\n",
       "      <td>...</td>\n",
       "      <td>2532.695</td>\n",
       "      <td>331.0</td>\n",
       "      <td>1.365059e+09</td>\n",
       "      <td>81.811</td>\n",
       "      <td>0.650120</td>\n",
       "      <td>0.512216</td>\n",
       "      <td>0.702837</td>\n",
       "      <td>9</td>\n",
       "      <td>1.0</td>\n",
       "      <td>-0.5200</td>\n",
       "    </tr>\n",
       "    <tr>\n",
       "      <th>105467</th>\n",
       "      <td>137</td>\n",
       "      <td>3898.0</td>\n",
       "      <td>0.7227</td>\n",
       "      <td>0.7049</td>\n",
       "      <td>901745</td>\n",
       "      <td>0.6880</td>\n",
       "      <td>0.6880</td>\n",
       "      <td>0.5147</td>\n",
       "      <td>0.6935</td>\n",
       "      <td>0.7818</td>\n",
       "      <td>...</td>\n",
       "      <td>26238.335</td>\n",
       "      <td>3888.0</td>\n",
       "      <td>2.397203e+09</td>\n",
       "      <td>79.206</td>\n",
       "      <td>0.697970</td>\n",
       "      <td>0.724346</td>\n",
       "      <td>0.685297</td>\n",
       "      <td>6</td>\n",
       "      <td>3.0</td>\n",
       "      <td>-0.2182</td>\n",
       "    </tr>\n",
       "    <tr>\n",
       "      <th>105468</th>\n",
       "      <td>129</td>\n",
       "      <td>7081.0</td>\n",
       "      <td>0.7727</td>\n",
       "      <td>0.7658</td>\n",
       "      <td>12380709</td>\n",
       "      <td>0.7328</td>\n",
       "      <td>0.7328</td>\n",
       "      <td>0.5270</td>\n",
       "      <td>0.7328</td>\n",
       "      <td>0.7798</td>\n",
       "      <td>...</td>\n",
       "      <td>44029.285</td>\n",
       "      <td>7066.0</td>\n",
       "      <td>2.486544e+09</td>\n",
       "      <td>75.799</td>\n",
       "      <td>0.741275</td>\n",
       "      <td>0.746295</td>\n",
       "      <td>0.766413</td>\n",
       "      <td>7</td>\n",
       "      <td>6.0</td>\n",
       "      <td>-0.2202</td>\n",
       "    </tr>\n",
       "    <tr>\n",
       "      <th>105469</th>\n",
       "      <td>129</td>\n",
       "      <td>4984.0</td>\n",
       "      <td>0.4915</td>\n",
       "      <td>0.4793</td>\n",
       "      <td>3065069</td>\n",
       "      <td>0.4874</td>\n",
       "      <td>0.4793</td>\n",
       "      <td>0.2200</td>\n",
       "      <td>0.5043</td>\n",
       "      <td>0.5321</td>\n",
       "      <td>...</td>\n",
       "      <td>32079.980</td>\n",
       "      <td>4977.0</td>\n",
       "      <td>9.786238e+08</td>\n",
       "      <td>NaN</td>\n",
       "      <td>0.394725</td>\n",
       "      <td>0.506505</td>\n",
       "      <td>0.393515</td>\n",
       "      <td>30</td>\n",
       "      <td>2.0</td>\n",
       "      <td>-0.4679</td>\n",
       "    </tr>\n",
       "    <tr>\n",
       "      <th>105470</th>\n",
       "      <td>129</td>\n",
       "      <td>8173.0</td>\n",
       "      <td>0.8167</td>\n",
       "      <td>0.7778</td>\n",
       "      <td>1866235</td>\n",
       "      <td>0.8033</td>\n",
       "      <td>0.7538</td>\n",
       "      <td>0.5821</td>\n",
       "      <td>0.7538</td>\n",
       "      <td>0.8909</td>\n",
       "      <td>...</td>\n",
       "      <td>47990.380</td>\n",
       "      <td>8155.0</td>\n",
       "      <td>3.204529e+09</td>\n",
       "      <td>75.000</td>\n",
       "      <td>0.722205</td>\n",
       "      <td>0.765969</td>\n",
       "      <td>0.708104</td>\n",
       "      <td>8</td>\n",
       "      <td>3.0</td>\n",
       "      <td>-0.1091</td>\n",
       "    </tr>\n",
       "  </tbody>\n",
       "</table>\n",
       "<p>105471 rows × 266 columns</p>\n",
       "</div>"
      ],
      "text/plain": [
       "         f1      f7     f14     f15       f16     f17     f18     f19     f20  \\\n",
       "0       126  7201.0  0.7607  0.7542    612922  0.7236  0.7236  0.5171  0.7236   \n",
       "1       121   240.0  0.6555  0.6555    245815  0.6341  0.6341  0.3909  0.6667   \n",
       "2       126  1800.0  0.7542  0.7542   1385872  0.7542  0.7542  0.5508  0.7542   \n",
       "3       134  7542.0  0.8017  0.7881    704687  0.7881  0.7881  0.5923  0.7881   \n",
       "4       109    89.0  0.5263  0.5263     51985  0.5263  0.5263  0.3044  0.5405   \n",
       "...     ...     ...     ...     ...       ...     ...     ...     ...     ...   \n",
       "105466  126   331.0  0.4878  0.4878   9281480  0.4918  0.4615  0.2147  0.4615   \n",
       "105467  137  3898.0  0.7227  0.7049    901745  0.6880  0.6880  0.5147  0.6935   \n",
       "105468  129  7081.0  0.7727  0.7658  12380709  0.7328  0.7328  0.5270  0.7328   \n",
       "105469  129  4984.0  0.4915  0.4793   3065069  0.4874  0.4793  0.2200  0.5043   \n",
       "105470  129  8173.0  0.8167  0.7778   1866235  0.8033  0.7538  0.5821  0.7538   \n",
       "\n",
       "           f21  ...       f606    f608          f623    f640      f641  \\\n",
       "0       0.8476  ...  43715.465  7173.0  1.141477e+09  94.417  0.762765   \n",
       "1       0.6903  ...   1493.475   240.0  1.019287e+09  86.005  0.741765   \n",
       "2       0.8091  ...  12346.125  1779.0  1.371877e+09  88.168  0.792410   \n",
       "3       0.8230  ...  44551.520  7532.0  1.731281e+09  87.051  0.906675   \n",
       "4       0.5556  ...    539.310    89.0  1.757310e+09  72.670  0.678565   \n",
       "...        ...  ...        ...     ...           ...     ...       ...   \n",
       "105466  0.4800  ...   2532.695   331.0  1.365059e+09  81.811  0.650120   \n",
       "105467  0.7818  ...  26238.335  3888.0  2.397203e+09  79.206  0.697970   \n",
       "105468  0.7798  ...  44029.285  7066.0  2.486544e+09  75.799  0.741275   \n",
       "105469  0.5321  ...  32079.980  4977.0  9.786238e+08     NaN  0.394725   \n",
       "105470  0.8909  ...  47990.380  8155.0  3.204529e+09  75.000  0.722205   \n",
       "\n",
       "            f642      f643  f674  f677    f763  \n",
       "0       0.750977  0.781186    33   3.0 -0.1524  \n",
       "1       0.749177  0.679880    43   1.0 -0.3097  \n",
       "2       0.786338  0.723983   100   9.0 -0.1909  \n",
       "3       0.930015  0.884525    18   7.0 -0.1770  \n",
       "4       0.625417  0.747705    33   3.0 -0.4444  \n",
       "...          ...       ...   ...   ...     ...  \n",
       "105466  0.512216  0.702837     9   1.0 -0.5200  \n",
       "105467  0.724346  0.685297     6   3.0 -0.2182  \n",
       "105468  0.746295  0.766413     7   6.0 -0.2202  \n",
       "105469  0.506505  0.393515    30   2.0 -0.4679  \n",
       "105470  0.765969  0.708104     8   3.0 -0.1091  \n",
       "\n",
       "[105471 rows x 266 columns]"
      ]
     },
     "execution_count": 47,
     "metadata": {},
     "output_type": "execute_result"
    }
   ],
   "source": [
    "features"
   ]
  },
  {
   "cell_type": "markdown",
   "metadata": {},
   "source": [
    "### Removing Correlated Features"
   ]
  },
  {
   "cell_type": "code",
   "execution_count": 48,
   "metadata": {},
   "outputs": [
    {
     "name": "stdout",
     "output_type": "stream",
     "text": [
      "correlated features:  214\n"
     ]
    }
   ],
   "source": [
    "# find and remove correlated features\n",
    "def correlation(dataset, threshold):\n",
    "    \n",
    "    col_corr = set()  # Set of all the names of correlated columns\n",
    "    corr_matrix = dataset.corr()\n",
    "    \n",
    "    for i in range(len(corr_matrix.columns)):\n",
    "        for j in range(i):\n",
    "            # we are interested in absolute coeff value\n",
    "            if abs(corr_matrix.iloc[i, j]) > threshold:\n",
    "                colname = corr_matrix.columns[i]  # getting the name of column\n",
    "                col_corr.add(colname)\n",
    "    \n",
    "    return col_corr\n",
    "\n",
    "\n",
    "corr_features = correlation(features, 0.8)\n",
    "print('correlated features: ', len(set(corr_features)))"
   ]
  },
  {
   "cell_type": "code",
   "execution_count": 49,
   "metadata": {},
   "outputs": [
    {
     "data": {
      "text/plain": [
       "214"
      ]
     },
     "execution_count": 49,
     "metadata": {},
     "output_type": "execute_result"
    }
   ],
   "source": [
    "len(corr_features)"
   ]
  },
  {
   "cell_type": "code",
   "execution_count": 50,
   "metadata": {},
   "outputs": [],
   "source": [
    "df.drop(corr_features,axis=1,inplace=True)"
   ]
  },
  {
   "cell_type": "code",
   "execution_count": 51,
   "metadata": {},
   "outputs": [
    {
     "data": {
      "text/plain": [
       "(105471, 54)"
      ]
     },
     "execution_count": 51,
     "metadata": {},
     "output_type": "execute_result"
    }
   ],
   "source": [
    "df.shape"
   ]
  },
  {
   "cell_type": "code",
   "execution_count": 54,
   "metadata": {},
   "outputs": [
    {
     "data": {
      "text/plain": [
       "float64    47\n",
       "int64       7\n",
       "dtype: int64"
      ]
     },
     "execution_count": 54,
     "metadata": {},
     "output_type": "execute_result"
    }
   ],
   "source": [
    "df.dtypes.value_counts()"
   ]
  },
  {
   "cell_type": "code",
   "execution_count": 56,
   "metadata": {},
   "outputs": [],
   "source": [
    "filt_cols = list(df.columns)"
   ]
  },
  {
   "cell_type": "code",
   "execution_count": null,
   "metadata": {},
   "outputs": [],
   "source": []
  },
  {
   "cell_type": "markdown",
   "metadata": {},
   "source": [
    "Using an array of filter methods we were able to reduce the number of columns features columns to 23 inclusing the target.  Object columns, all with high cardinalities, have been removed.  Integer and Float columns have been reduced by correlating the features against the target column and removing features with a target correlation value threshold.  Columns are further reduced by removing correlated, and constant/quasi_constant features."
   ]
  },
  {
   "cell_type": "code",
   "execution_count": null,
   "metadata": {},
   "outputs": [],
   "source": []
  },
  {
   "cell_type": "markdown",
   "metadata": {},
   "source": [
    "### Feature Selection: Ensemble methods"
   ]
  },
  {
   "cell_type": "code",
   "execution_count": 57,
   "metadata": {},
   "outputs": [],
   "source": [
    "from sklearn.ensemble import RandomForestClassifier\n",
    "from sklearn.feature_selection import SelectFromModel"
   ]
  },
  {
   "cell_type": "code",
   "execution_count": 58,
   "metadata": {},
   "outputs": [
    {
     "name": "stderr",
     "output_type": "stream",
     "text": [
      "C:\\Users\\pseudo_bounce\\anaconda3\\lib\\site-packages\\IPython\\core\\interactiveshell.py:3063: DtypeWarning: Columns (135,204,274,417) have mixed types.Specify dtype option on import or set low_memory=False.\n",
      "  interactivity=interactivity, compiler=compiler, result=result)\n"
     ]
    }
   ],
   "source": [
    "df_rf = pd.read_csv('C:\\\\Users\\\\pseudo_bounce\\\\Desktop\\\\recent_dl\\\\loan-default-prediction\\\\train.csv')"
   ]
  },
  {
   "cell_type": "code",
   "execution_count": 59,
   "metadata": {},
   "outputs": [],
   "source": [
    "#Drop mixed data type columns [135,204,274,417]\n",
    "drop_mix = list(df_rf.columns[[135,204,274,417]])\n",
    "df_rf.drop(drop_mix,axis=1,inplace=True)"
   ]
  },
  {
   "cell_type": "code",
   "execution_count": 60,
   "metadata": {},
   "outputs": [],
   "source": [
    "#drop Object columns all with high cardinality\n",
    "df_rf.drop(dt_object.columns,axis=1,inplace=True)"
   ]
  },
  {
   "cell_type": "code",
   "execution_count": 61,
   "metadata": {},
   "outputs": [],
   "source": [
    "#remove null rows\n",
    "df_rf.dropna(inplace=True)"
   ]
  },
  {
   "cell_type": "code",
   "execution_count": 62,
   "metadata": {},
   "outputs": [
    {
     "data": {
      "text/plain": [
       "(51940, 752)"
      ]
     },
     "execution_count": 62,
     "metadata": {},
     "output_type": "execute_result"
    }
   ],
   "source": [
    "df_rf.shape"
   ]
  },
  {
   "cell_type": "code",
   "execution_count": 63,
   "metadata": {},
   "outputs": [
    {
     "data": {
      "text/plain": [
       "Index(['id', 'f1', 'f2', 'f3', 'f4', 'f5', 'f6', 'f7', 'f8', 'f9',\n",
       "       ...\n",
       "       'f770', 'f771', 'f772', 'f773', 'f774', 'f775', 'f776', 'f777', 'f778',\n",
       "       'loss'],\n",
       "      dtype='object', length=752)"
      ]
     },
     "execution_count": 63,
     "metadata": {},
     "output_type": "execute_result"
    }
   ],
   "source": [
    "df_rf.columns"
   ]
  },
  {
   "cell_type": "code",
   "execution_count": 64,
   "metadata": {},
   "outputs": [],
   "source": [
    "#Create binary variable from target column 'loss'\n",
    "#drop loss column\n",
    "df_rf['default'] = df_rf['loss'].apply(lambda x: 1 if x > 0 else x)\n",
    "df_rf.drop(['loss','id'],axis=1,inplace=True)"
   ]
  },
  {
   "cell_type": "code",
   "execution_count": 65,
   "metadata": {},
   "outputs": [],
   "source": [
    "X = df_rf.drop(labels=['default'],axis=1)\n",
    "y = df_rf['default']"
   ]
  },
  {
   "cell_type": "code",
   "execution_count": 66,
   "metadata": {},
   "outputs": [],
   "source": [
    "select = SelectFromModel(RandomForestClassifier(n_estimators=10,random_state=10))"
   ]
  },
  {
   "cell_type": "code",
   "execution_count": 67,
   "metadata": {},
   "outputs": [
    {
     "data": {
      "text/plain": [
       "SelectFromModel(estimator=RandomForestClassifier(bootstrap=True, ccp_alpha=0.0,\n",
       "                                                 class_weight=None,\n",
       "                                                 criterion='gini',\n",
       "                                                 max_depth=None,\n",
       "                                                 max_features='auto',\n",
       "                                                 max_leaf_nodes=None,\n",
       "                                                 max_samples=None,\n",
       "                                                 min_impurity_decrease=0.0,\n",
       "                                                 min_impurity_split=None,\n",
       "                                                 min_samples_leaf=1,\n",
       "                                                 min_samples_split=2,\n",
       "                                                 min_weight_fraction_leaf=0.0,\n",
       "                                                 n_estimators=10, n_jobs=None,\n",
       "                                                 oob_score=False,\n",
       "                                                 random_state=10, verbose=0,\n",
       "                                                 warm_start=False),\n",
       "                max_features=None, norm_order=1, prefit=False, threshold=None)"
      ]
     },
     "execution_count": 67,
     "metadata": {},
     "output_type": "execute_result"
    }
   ],
   "source": [
    "select.fit(X,y)"
   ]
  },
  {
   "cell_type": "code",
   "execution_count": 68,
   "metadata": {},
   "outputs": [
    {
     "data": {
      "text/plain": [
       "array([ True, False,  True, False, False,  True, False, False,  True,\n",
       "        True,  True,  True,  True,  True,  True,  True,  True,  True,\n",
       "        True,  True,  True, False, False,  True, False,  True,  True,\n",
       "        True, False, False, False, False, False, False, False, False,\n",
       "        True,  True,  True, False,  True,  True,  True,  True,  True,\n",
       "       False,  True,  True, False, False,  True,  True,  True,  True,\n",
       "        True, False,  True,  True,  True, False,  True,  True,  True,\n",
       "        True,  True,  True,  True,  True,  True,  True, False, False,\n",
       "        True,  True, False, False, False,  True,  True,  True, False,\n",
       "       False, False, False, False, False, False, False, False, False,\n",
       "       False, False, False, False, False, False, False, False, False,\n",
       "       False, False, False, False, False, False, False, False,  True,\n",
       "       False,  True, False, False, False, False, False, False, False,\n",
       "       False, False,  True, False, False, False, False, False, False,\n",
       "       False, False, False,  True,  True,  True, False, False,  True,\n",
       "        True,  True,  True,  True,  True,  True,  True,  True,  True,\n",
       "        True,  True,  True, False, False, False, False, False, False,\n",
       "        True,  True,  True,  True, False, False, False, False, False,\n",
       "       False,  True,  True,  True, False, False,  True, False, False,\n",
       "       False,  True,  True,  True,  True,  True, False,  True, False,\n",
       "       False, False,  True, False,  True,  True, False, False,  True,\n",
       "       False, False, False, False, False,  True, False,  True,  True,\n",
       "        True,  True,  True,  True,  True,  True,  True,  True,  True,\n",
       "       False, False, False,  True,  True,  True, False, False, False,\n",
       "       False, False, False, False, False, False, False,  True, False,\n",
       "       False, False, False, False, False, False, False,  True, False,\n",
       "        True, False, False, False, False, False, False, False, False,\n",
       "       False,  True, False, False, False, False, False, False, False,\n",
       "       False, False,  True, False, False, False, False, False, False,\n",
       "       False, False,  True,  True,  True,  True, False,  True,  True,\n",
       "        True,  True,  True,  True,  True, False, False, False,  True,\n",
       "        True,  True, False, False,  True, False, False, False, False,\n",
       "       False,  True, False, False, False, False, False, False, False,\n",
       "       False, False,  True, False, False, False, False, False,  True,\n",
       "       False, False, False, False, False, False, False,  True, False,\n",
       "        True, False, False, False, False, False,  True, False,  True,\n",
       "        True,  True, False,  True,  True,  True,  True,  True,  True,\n",
       "        True,  True, False, False, False,  True,  True,  True,  True,\n",
       "       False, False, False, False,  True,  True,  True,  True,  True,\n",
       "        True, False,  True,  True,  True,  True,  True,  True,  True,\n",
       "        True, False, False,  True,  True,  True,  True,  True,  True,\n",
       "       False, False,  True, False,  True,  True,  True,  True,  True,\n",
       "        True, False,  True,  True,  True,  True,  True,  True,  True,\n",
       "        True, False, False, False, False,  True,  True,  True, False,\n",
       "       False, False, False,  True,  True,  True, False, False, False,\n",
       "       False,  True,  True,  True,  True, False,  True,  True, False,\n",
       "        True,  True,  True,  True,  True,  True,  True,  True,  True,\n",
       "       False, False, False,  True,  True,  True,  True,  True, False,\n",
       "        True, False,  True, False,  True,  True, False, False, False,\n",
       "       False, False, False,  True, False, False, False,  True, False,\n",
       "        True, False,  True, False,  True, False, False, False, False,\n",
       "        True, False, False, False, False, False, False, False, False,\n",
       "       False,  True, False, False, False, False, False, False, False,\n",
       "       False, False,  True, False, False, False, False, False, False,\n",
       "       False, False, False,  True,  True, False, False,  True,  True,\n",
       "       False,  True,  True,  True, False,  True, False,  True,  True,\n",
       "        True,  True,  True, False, False, False, False, False, False,\n",
       "        True, False,  True, False, False, False, False, False, False,\n",
       "       False, False, False, False, False, False, False, False, False,\n",
       "       False, False, False, False, False, False, False, False, False,\n",
       "       False, False, False, False, False,  True, False, False, False,\n",
       "       False, False, False, False, False, False, False, False, False,\n",
       "       False, False, False, False, False, False,  True,  True,  True,\n",
       "        True,  True, False, False,  True, False, False,  True,  True,\n",
       "        True,  True,  True,  True, False, False, False, False,  True,\n",
       "       False,  True,  True,  True,  True, False, False, False, False,\n",
       "        True,  True, False,  True,  True,  True, False,  True,  True,\n",
       "        True,  True, False, False,  True,  True,  True,  True,  True,\n",
       "        True,  True,  True,  True,  True, False,  True,  True,  True,\n",
       "        True,  True,  True,  True,  True,  True,  True,  True,  True,\n",
       "        True,  True,  True,  True,  True,  True,  True,  True, False,\n",
       "       False,  True,  True,  True,  True,  True,  True,  True,  True,\n",
       "       False,  True,  True, False, False,  True, False,  True, False,\n",
       "       False, False, False, False, False, False, False, False, False,\n",
       "       False,  True,  True, False,  True, False, False, False, False,\n",
       "       False, False, False, False, False, False, False, False, False,\n",
       "       False, False,  True,  True, False, False, False, False, False,\n",
       "       False, False, False, False, False,  True, False, False, False,\n",
       "       False, False,  True,  True,  True, False,  True,  True,  True,\n",
       "        True, False, False,  True,  True,  True,  True, False, False,\n",
       "       False, False,  True, False, False, False, False,  True, False,\n",
       "       False, False,  True, False, False,  True, False,  True,  True,\n",
       "        True,  True, False, False,  True,  True, False,  True,  True,\n",
       "       False, False,  True])"
      ]
     },
     "execution_count": 68,
     "metadata": {},
     "output_type": "execute_result"
    }
   ],
   "source": [
    "select.get_support()"
   ]
  },
  {
   "cell_type": "code",
   "execution_count": 84,
   "metadata": {},
   "outputs": [],
   "source": [
    "selected_features = list(X.columns[(select.get_support())])"
   ]
  },
  {
   "cell_type": "code",
   "execution_count": 85,
   "metadata": {},
   "outputs": [],
   "source": [
    "selected_features.append('default')"
   ]
  },
  {
   "cell_type": "code",
   "execution_count": 86,
   "metadata": {},
   "outputs": [
    {
     "data": {
      "text/plain": [
       "334"
      ]
     },
     "execution_count": 86,
     "metadata": {},
     "output_type": "execute_result"
    }
   ],
   "source": [
    "len(selected_features)"
   ]
  },
  {
   "cell_type": "code",
   "execution_count": 87,
   "metadata": {},
   "outputs": [],
   "source": [
    "forest_cols = df_rf[selected_features]"
   ]
  },
  {
   "cell_type": "code",
   "execution_count": 88,
   "metadata": {},
   "outputs": [
    {
     "data": {
      "text/plain": [
       "(51940, 334)"
      ]
     },
     "execution_count": 88,
     "metadata": {},
     "output_type": "execute_result"
    }
   ],
   "source": [
    "forest_cols.shape"
   ]
  },
  {
   "cell_type": "code",
   "execution_count": 89,
   "metadata": {},
   "outputs": [
    {
     "data": {
      "text/plain": [
       "Index(['f1', 'f3', 'f6', 'f9', 'f10', 'f13', 'f14', 'f15', 'f16', 'f17',\n",
       "       ...\n",
       "       'f765', 'f766', 'f767', 'f768', 'f771', 'f772', 'f774', 'f775', 'f778',\n",
       "       'default'],\n",
       "      dtype='object', length=334)"
      ]
     },
     "execution_count": 89,
     "metadata": {},
     "output_type": "execute_result"
    }
   ],
   "source": [
    "forest_cols.columns"
   ]
  },
  {
   "cell_type": "code",
   "execution_count": 90,
   "metadata": {},
   "outputs": [],
   "source": [
    "forest_cols = list(forest_cols.columns)"
   ]
  },
  {
   "cell_type": "code",
   "execution_count": 94,
   "metadata": {},
   "outputs": [
    {
     "data": {
      "text/plain": [
       "'id'"
      ]
     },
     "execution_count": 94,
     "metadata": {},
     "output_type": "execute_result"
    }
   ],
   "source": [
    "filt_cols.pop(0)"
   ]
  },
  {
   "cell_type": "code",
   "execution_count": 132,
   "metadata": {},
   "outputs": [
    {
     "data": {
      "text/plain": [
       "'id'"
      ]
     },
     "execution_count": 132,
     "metadata": {},
     "output_type": "execute_result"
    }
   ],
   "source": [
    "all_cols.pop(0)"
   ]
  },
  {
   "cell_type": "markdown",
   "metadata": {},
   "source": [
    "### Persisting Feature Selection Dictionary\n",
    "In order to easily select the resulting columns of the feature selection methods in future notebooks the columns are saved into a list and stored as values with the feature selection method as the key.  The all columns list is saved for use with PCA.  This list contains all columns except the mixed data type and object columns not used in the analysis."
   ]
  },
  {
   "cell_type": "code",
   "execution_count": 136,
   "metadata": {},
   "outputs": [],
   "source": [
    "fs_cols = {'filt_cols':filt_cols,\n",
    "          'rf_cols':forest_cols,\n",
    "          'all_cols':all_cols}"
   ]
  },
  {
   "cell_type": "code",
   "execution_count": 137,
   "metadata": {},
   "outputs": [],
   "source": [
    "import json\n",
    "\n",
    "with open('feats_list.json', 'w') as fp:\n",
    "    json.dump(fs_cols, fp)"
   ]
  }
 ],
 "metadata": {
  "kernelspec": {
   "display_name": "Python 3",
   "language": "python",
   "name": "python3"
  },
  "language_info": {
   "codemirror_mode": {
    "name": "ipython",
    "version": 3
   },
   "file_extension": ".py",
   "mimetype": "text/x-python",
   "name": "python",
   "nbconvert_exporter": "python",
   "pygments_lexer": "ipython3",
   "version": "3.7.6"
  }
 },
 "nbformat": 4,
 "nbformat_minor": 4
}
